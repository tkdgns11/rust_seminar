{
 "cells": [
  {
   "cell_type": "code",
   "execution_count": 5,
   "id": "6d75345e",
   "metadata": {},
   "outputs": [],
   "source": [
    ":dep rustviz = \"^0.1.0\""
   ]
  },
  {
   "cell_type": "code",
   "execution_count": null,
   "id": "82a84d80",
   "metadata": {},
   "outputs": [],
   "source": []
  },
  {
   "cell_type": "code",
   "execution_count": 7,
   "id": "2c078ecc",
   "metadata": {},
   "outputs": [],
   "source": [
    "fn my_function() {\n",
    "    let x = 100;\n",
    "    {\n",
    "        let y = x;\n",
    "    }\n",
    "}\n",
    "\n"
   ]
  },
  {
   "cell_type": "code",
   "execution_count": null,
   "id": "6e7d184f",
   "metadata": {},
   "outputs": [],
   "source": []
  }
 ],
 "metadata": {
  "kernelspec": {
   "display_name": "Rust",
   "language": "rust",
   "name": "rust"
  },
  "language_info": {
   "codemirror_mode": "rust",
   "file_extension": ".rs",
   "mimetype": "text/rust",
   "name": "Rust",
   "pygment_lexer": "rust",
   "version": ""
  }
 },
 "nbformat": 4,
 "nbformat_minor": 5
}
