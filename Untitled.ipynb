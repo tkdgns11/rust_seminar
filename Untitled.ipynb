{
 "cells": [
  {
   "cell_type": "code",
   "execution_count": 5,
   "id": "d3b65397",
   "metadata": {},
   "outputs": [],
   "source": [
    ":dep rustviz = \"^0.1.0\""
   ]
  },
  {
   "cell_type": "code",
   "execution_count": null,
   "id": "32fd4477",
   "metadata": {},
   "outputs": [],
   "source": []
  },
  {
   "cell_type": "code",
   "execution_count": 8,
   "id": "2875438f",
   "metadata": {},
   "outputs": [
    {
     "name": "stdout",
     "output_type": "stream",
     "text": [
      "101\n"
     ]
    }
   ],
   "source": [
    "fn main() {\n",
    "  let n_main: usize = 100;\n",
    "  let n_main_ref: &usize = &n_main;\n",
    "  println!(\"{}\", inc_ref(n_main_ref));\n",
    "}\n",
    "\n",
    "fn inc_ref(n_inc_ref: &usize) -> usize {\n",
    "  n_inc_ref + 1\n",
    "}\n",
    "\n",
    "main();"
   ]
  },
  {
   "cell_type": "code",
   "execution_count": null,
   "id": "9558e39d",
   "metadata": {},
   "outputs": [],
   "source": []
  }
 ],
 "metadata": {
  "kernelspec": {
   "display_name": "Rust",
   "language": "rust",
   "name": "rust"
  },
  "language_info": {
   "codemirror_mode": "rust",
   "file_extension": ".rs",
   "mimetype": "text/rust",
   "name": "Rust",
   "pygment_lexer": "rust",
   "version": ""
  }
 },
 "nbformat": 4,
 "nbformat_minor": 5
}
