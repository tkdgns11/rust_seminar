{
 "cells": [
  {
   "cell_type": "code",
   "execution_count": null,
   "id": "fc97b5b0",
   "metadata": {},
   "outputs": [],
   "source": []
  },
  {
   "cell_type": "markdown",
   "id": "72842b30",
   "metadata": {},
   "source": [
    "## 튜플 타입 알아보기\n",
    "\n",
    "\n",
    "\n",
    "- 배열과 마찬가지로 튜플은 고정 길이를 갖습니다.\n",
    "\n",
    "- 튜플은 서로 다른 타입의 값들을 하나의 복합 타입으로 묶습니다.\n",
    "\n",
    "- 튜플에 속한 값은 t.0, t.1과 같이 인덱스로 접근할 수 있습니다.\n",
    "\n",
    "- 비어있는 튜플()은 단위 타입(unit type)이라고도 합니다. 이는 타입이면서 해당 타입의 유일하며 유효한 값입니다. 즉 타입과 값이 모두 ()입니다. 예를 들어 함수나 식에서 반환 값이 없음을 나타낼 때 사용합니다.\n",
    "\n",
    "- 다른 언어에서 익숙한 void 개념으로 생각할 수 있습니다."
   ]
  },
  {
   "cell_type": "markdown",
   "id": "692296f4",
   "metadata": {},
   "source": [
    "### 외부 클레이트 로딩 및 트레이트 참조하기\n",
    "\n",
    "- :dep 크레이트이름 = 버전\n",
    "- 외부 크레이트를 로딩 후에 use을 사용해서 사요하는 모듈"
   ]
  },
  {
   "cell_type": "code",
   "execution_count": 4,
   "id": "54385fc1",
   "metadata": {},
   "outputs": [],
   "source": [
    ":dep typename = \"0.1.2\""
   ]
  },
  {
   "cell_type": "markdown",
   "id": "fed791ce",
   "metadata": {},
   "source": [
    "### 모듈의 트레이트를 사용\n",
    "\n",
    "- 이 트레이트 내의 메서드들을 다양한 자료형에서 구현이 되어있다.\n",
    "- 먼저 트레이트를 사용한다고 지정해야 구현된 메서드를 사용할 수 있다. "
   ]
  },
  {
   "cell_type": "code",
   "execution_count": 5,
   "id": "3b319c4c",
   "metadata": {},
   "outputs": [],
   "source": [
    "use typename::TypeName;"
   ]
  },
  {
   "cell_type": "code",
   "execution_count": null,
   "id": "86c2041c",
   "metadata": {},
   "outputs": [],
   "source": []
  },
  {
   "cell_type": "markdown",
   "id": "ee699e93",
   "metadata": {},
   "source": [
    "## 1.  다양한 튜플 정의하기 \n",
    "\n",
    "### 튜플의 특징\n",
    "\n",
    "- 다양한 자료형을 하나로 묶어서 사용할 수 있다\n",
    "\n",
    "### 튜플을 지정하는 방법 \n",
    "\n",
    "- 아무것도 없는 튜플 : () (unit)\n",
    "- (f64, f64)\n",
    "- (String, i32)\n",
    "- (i32, String)  // 순서대로 타입을 지정\n",
    "- (i32, f64, Vec<String>, Option<bool>)"
   ]
  },
  {
   "cell_type": "markdown",
   "id": "8a907984",
   "metadata": {},
   "source": [
    "### 튜플리터럴 사용하기"
   ]
  },
  {
   "cell_type": "code",
   "execution_count": 2,
   "id": "a29c9a59",
   "metadata": {},
   "outputs": [],
   "source": [
    "let tup = (1,2,3,4,5);"
   ]
  },
  {
   "cell_type": "code",
   "execution_count": 3,
   "id": "7e154dae",
   "metadata": {},
   "outputs": [
    {
     "data": {
      "text/plain": [
       "(1, 2, 3, 4, 5)"
      ]
     },
     "execution_count": 3,
     "metadata": {},
     "output_type": "execute_result"
    }
   ],
   "source": [
    "tup"
   ]
  },
  {
   "cell_type": "markdown",
   "id": "dd222912",
   "metadata": {},
   "source": [
    "### 튜플의 타입을 알아보기\n",
    "\n",
    "- 튜플 리터럴은 괄호와 값을 쉼표로 분리 \n",
    "- 튜플은 디스플레이 트레이트를 구현하지 않아서 Debug로 출력"
   ]
  },
  {
   "cell_type": "code",
   "execution_count": 6,
   "id": "b0052da4",
   "metadata": {},
   "outputs": [
    {
     "name": "stdout",
     "output_type": "stream",
     "text": [
      " type = (i32, i32, i32, i32, i32)\n",
      " data = (1, 2, 3, 4, 5)\n"
     ]
    }
   ],
   "source": [
    "fn main() {\n",
    "    let tup = (1,2,3,4,5);                       // 여러 원소를 나열해서 정의 \n",
    "    \n",
    "    println!(\" type = {}\", tup.type_name_of());  // 튜플의 자료형 확인 \n",
    "    println!(\" data = {:?}\", tup);               // Debug 출력\n",
    "}\n",
    "\n",
    "main();"
   ]
  },
  {
   "cell_type": "markdown",
   "id": "98b472c7",
   "metadata": {},
   "source": [
    "## 2. 튜플 원소를  참조하기\n",
    "\n",
    "### 구조분해\n",
    "- 튜플의 값을 변수에 할당해서 할당할 수 있음\n",
    "\n",
    "### 인덱스 참조\n",
    "- 인덱스의 번호를 사용해서 참조"
   ]
  },
  {
   "cell_type": "markdown",
   "id": "0848dac0",
   "metadata": {},
   "source": [
    "### 튜플의 원소를 참조하기 "
   ]
  },
  {
   "cell_type": "code",
   "execution_count": 7,
   "id": "d4fb06a9",
   "metadata": {},
   "outputs": [
    {
     "name": "stdout",
     "output_type": "stream",
     "text": [
      "1st index: 7\n",
      "2nd index: true\n",
      " a=10, b=20, c=30\n"
     ]
    }
   ],
   "source": [
    "fn main() {\n",
    "    let t: (i8, bool) = (7, true);       // 구조분해처리\n",
    "    println!(\"1st index: {}\", t.0);      // 참조처리 \n",
    "    println!(\"2nd index: {}\", t.1);\n",
    "    \n",
    "    let (a,b,c) = (10,20,30);\n",
    "    println!(\" a={}, b={}, c={}\",a,b,c);\n",
    "}\n",
    "\n",
    "main();"
   ]
  },
  {
   "cell_type": "code",
   "execution_count": null,
   "id": "9ebb1b61",
   "metadata": {},
   "outputs": [],
   "source": []
  },
  {
   "cell_type": "markdown",
   "id": "2c6de019",
   "metadata": {},
   "source": [
    "### 튜플 분해시 미사용 처리\n",
    "\n",
    "- 사용하지 않는 튜플은 _ 를 사용해서 배제할 수 있음 "
   ]
  },
  {
   "cell_type": "code",
   "execution_count": 9,
   "id": "45ead1c4",
   "metadata": {},
   "outputs": [
    {
     "name": "stdout",
     "output_type": "stream",
     "text": [
      " head : I see the eigenvalue \n",
      " tail : in thine eye\n",
      "ii0=100, ii4=500\n"
     ]
    }
   ],
   "source": [
    "fn main() {\n",
    "    \n",
    "    let text = \"I see the eigenvalue in thine eye\";\n",
    "    let (head, tail) = text.split_at(21);            // 문자열 분해해서 튜플로 만들기 \n",
    "          \n",
    "    println!(\" head : {}\", head);\n",
    "    println!(\" tail : {}\", tail);\n",
    "    \n",
    "    let t4 = (100,200,300,400,500);\n",
    "    let (ii0,_,_,_,ii4) = t4;                        // 첫번째와 마지막만 사용하기 \n",
    "    println!(\"ii0={}, ii4={}\", ii0, ii4);\n",
    "}\n",
    "\n",
    "main();"
   ]
  },
  {
   "cell_type": "markdown",
   "id": "83d9b4fe",
   "metadata": {},
   "source": [
    "### 튜플 분해시 생략해서 처리 \n",
    "\n",
    "- 생략은 .. 을 사용 "
   ]
  },
  {
   "cell_type": "code",
   "execution_count": 8,
   "id": "5f9d3bc3",
   "metadata": {},
   "outputs": [
    {
     "name": "stdout",
     "output_type": "stream",
     "text": [
      "i0=100, i4=500\n",
      "ij4=500\n",
      "ij0=100\n"
     ]
    }
   ],
   "source": [
    "fn main() {\n",
    "    let t5 = (100,200,300,400,500);\n",
    "    let (i0,..,i4) = t5;\n",
    "    println!(\"i0={}, i4={}\", i0, i4);\n",
    "    \n",
    "    let (ij0,..) = t5;\n",
    "    println!(\"ij0={}\", ij0);\n",
    "    \n",
    "    let (..,ij4) = t5;\n",
    "    println!(\"ij4={}\", ij4);\n",
    "}\n",
    "\n",
    "main();"
   ]
  },
  {
   "cell_type": "markdown",
   "id": "0895b951",
   "metadata": {},
   "source": [
    "### 구조분해로 스왑처리\n",
    "\n",
    "- 두 개의 변수의 값을 바꾸기 "
   ]
  },
  {
   "cell_type": "code",
   "execution_count": 9,
   "id": "fa2b5867",
   "metadata": {},
   "outputs": [
    {
     "name": "stdout",
     "output_type": "stream",
     "text": [
      "x=200, y=100\n"
     ]
    }
   ],
   "source": [
    "fn swap_int(x :i32, y :i32) -> (i32, i32) {\n",
    "    let (x,y) = (y,x);\n",
    "    println!(\"x={}, y={}\", x,y);\n",
    "    (x,y)\n",
    "}\n",
    "\n",
    "swap_int(100,200);"
   ]
  },
  {
   "cell_type": "markdown",
   "id": "a2aae5ee",
   "metadata": {},
   "source": [
    "### 튜플은 별도의 인덱스를 제공"
   ]
  },
  {
   "cell_type": "code",
   "execution_count": 10,
   "id": "17e448fa",
   "metadata": {},
   "outputs": [
    {
     "name": "stdout",
     "output_type": "stream",
     "text": [
      " tup.0=20, tup.1=30, tup.2=40\n"
     ]
    }
   ],
   "source": [
    "let tup = (20,30,40);\n",
    "\n",
    "println!(\" tup.0={}, tup.1={}, tup.2={}\", tup.0,tup.1, tup.2);"
   ]
  },
  {
   "cell_type": "markdown",
   "id": "1307cd7a",
   "metadata": {},
   "source": [
    "## 3.  튜플 변경 \n",
    "\n",
    "- Rust에서 튜플은 변경 불가능한(immutable) 요소로 구성됩니다. \n",
    "- 튜플의 요소는 생성된 후에는 변경할 수 없습니다. \n",
    "- 따라서 튜플에 할당된 값은 변경할 수 없으며, 튜플의 요소에 접근하여 값을 수정하는 것도 불가능합니다.\n",
    "\n",
    "### 튜플의 변경은 새로운 튜플을 만드는 것\n",
    "\n",
    "- 하지만 튜플의 요소로 변경 가능한(mut) 타입을 포함하는 경우, 해당 요소의 값을 변경할 수 있습니다. \n",
    "- 예를 들어, 튜플의 요소 중 하나가 가변 변수인 경우 그 변수의 값을 변경할 수 있습니다."
   ]
  },
  {
   "cell_type": "code",
   "execution_count": 11,
   "id": "89442337",
   "metadata": {},
   "outputs": [
    {
     "name": "stdout",
     "output_type": "stream",
     "text": [
      "(20, \"Hello, World!\", true)\n"
     ]
    }
   ],
   "source": [
    "fn main() {\n",
    "    let mut tuple = (10, String::from(\"Hello\"), true);\n",
    "\n",
    "    tuple.0 = 20;                   // 변경 가능한 요소 수정\n",
    "    tuple.1.push_str(\", World!\");   // 변경 가능한 요소 수정\n",
    "\n",
    "    println!(\"{:?}\", tuple);        // (20, \"Hello, World!\", true)\n",
    "}\n",
    "\n",
    "main();"
   ]
  },
  {
   "cell_type": "markdown",
   "id": "fff079bb",
   "metadata": {},
   "source": [
    "### 튜플의 출력 "
   ]
  },
  {
   "cell_type": "code",
   "execution_count": 11,
   "id": "3255c7ee",
   "metadata": {},
   "outputs": [
    {
     "ename": "Error",
     "evalue": "`({integer}, {integer}, {integer})` doesn't implement `std::fmt::Display`",
     "output_type": "error",
     "traceback": [
      "\u001b[31m[E0277] Error:\u001b[0m `({integer}, {integer}, {integer})` doesn't implement `std::fmt::Display`",
      "   \u001b[38;5;246m╭\u001b[0m\u001b[38;5;246m─\u001b[0m\u001b[38;5;246m[\u001b[0mcommand_11:1:1\u001b[38;5;246m]\u001b[0m",
      "   \u001b[38;5;246m│\u001b[0m",
      " \u001b[38;5;246m5 │\u001b[0m \u001b[38;5;249mp\u001b[0m\u001b[38;5;249mr\u001b[0m\u001b[38;5;249mi\u001b[0m\u001b[38;5;249mn\u001b[0m\u001b[38;5;249mt\u001b[0m\u001b[38;5;249ml\u001b[0m\u001b[38;5;249mn\u001b[0m\u001b[38;5;249m!\u001b[0m\u001b[38;5;249m(\u001b[0m\u001b[38;5;249m\"\u001b[0m\u001b[38;5;249m{\u001b[0m\u001b[38;5;249m}\u001b[0m\u001b[38;5;249m\"\u001b[0m\u001b[38;5;249m,\u001b[0m\u001b[38;5;249m \u001b[0m\u001b[38;5;54mx\u001b[0m\u001b[38;5;249m)\u001b[0m\u001b[38;5;249m;\u001b[0m",
      " \u001b[38;5;246m  ·\u001b[0m                \u001b[38;5;54m┬\u001b[0m  ",
      " \u001b[38;5;246m  ·\u001b[0m                \u001b[38;5;54m╰\u001b[0m\u001b[38;5;54m─\u001b[0m\u001b[38;5;54m─\u001b[0m `({integer}, {integer}, {integer})` cannot be formatted with the default formatter",
      "\u001b[38;5;246m───╯\u001b[0m"
     ]
    }
   ],
   "source": [
    "let x = (1,2,3);\n",
    "\n",
    "let y = x;\n",
    "\n",
    "println!(\"{}\", x);"
   ]
  },
  {
   "cell_type": "markdown",
   "id": "6b97a525",
   "metadata": {},
   "source": [
    "### 튜플은 이동되지 않고 복사된다. \n",
    "\n",
    "- 튜플의 값을 다른 변수에 할당하면 두 변수를 그대로 사용할 수 있다"
   ]
  },
  {
   "cell_type": "code",
   "execution_count": 15,
   "id": "ce15e9c5",
   "metadata": {},
   "outputs": [],
   "source": [
    "use std::ptr"
   ]
  },
  {
   "cell_type": "code",
   "execution_count": 17,
   "id": "c8e6d9b6",
   "metadata": {},
   "outputs": [
    {
     "name": "stdout",
     "output_type": "stream",
     "text": [
      "(1, 2, 3)\n",
      "(1, 2, 3)\n",
      "false\n"
     ]
    }
   ],
   "source": [
    "let x = (1,2,3);\n",
    "\n",
    "let y = x;\n",
    "\n",
    "println!(\"{:?}\", x);\n",
    "println!(\"{:?}\", y);\n",
    "\n",
    "println!(\"{}\", std::ptr::eq(&x, &y));"
   ]
  },
  {
   "cell_type": "code",
   "execution_count": null,
   "id": "18744fec",
   "metadata": {},
   "outputs": [],
   "source": []
  }
 ],
 "metadata": {
  "kernelspec": {
   "display_name": "Rust",
   "language": "rust",
   "name": "rust"
  },
  "language_info": {
   "codemirror_mode": "rust",
   "file_extension": ".rs",
   "mimetype": "text/rust",
   "name": "Rust",
   "pygment_lexer": "rust",
   "version": ""
  }
 },
 "nbformat": 4,
 "nbformat_minor": 5
}
