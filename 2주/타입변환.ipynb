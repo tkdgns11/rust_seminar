{
 "cells": [
  {
   "cell_type": "markdown",
   "id": "fc6ad6c3",
   "metadata": {},
   "source": [
    "## 타입변환 "
   ]
  },
  {
   "cell_type": "code",
   "execution_count": null,
   "id": "ef2e3e76",
   "metadata": {},
   "outputs": [],
   "source": [
    "\n",
    "\n",
    "FromStr 트레이트와 parse 메서드를 사용한 문자열 파싱: FromStr 트레이트를 구현하여 문자열을 다른 타입으로 파싱할 수 있습니다. parse 메서드를 사용하여 문자열을 해당 타입으로 변환할 수 있습니다. 예를 들어, 문자열을 i32로 파싱하려면 i32::from_str(\"42\")?와 같이 사용할 수 있습니다.\n",
    "\n",
    "try_into 메서드를 사용한 타입 변환: std::convert::TryInto 트레이트를 사용하여 타입 변환을 시도할 수 있습니다. 이를 통해 타입 간의 변환 시에 발생할 수 있는 오류를 처리할 수 있습니다. 예를 들어, u32를 i32로 변환하려면 let x: u32 = 42; let y: Result<i32, _> = x.try_into();와 같이 사용할 수 있습니다."
   ]
  },
  {
   "cell_type": "markdown",
   "id": "a6dd7b49",
   "metadata": {},
   "source": [
    "## 1. as 키워드를 사용한 변환: \n",
    "\n",
    "- 이 방법은 원시 타입 간의 변환 또는 명시적으로 구현된 From 및 Into 트레이트를 통한 타입 간 변환에 사용됩니다."
   ]
  },
  {
   "cell_type": "code",
   "execution_count": null,
   "id": "159b96d2",
   "metadata": {},
   "outputs": [],
   "source": [
    "예를 들어, i32를 u32로 변환하려면 as 키워드를 사용할 수 있습니다: let x: i32 = 42; let y: u32 = x as u32;."
   ]
  },
  {
   "cell_type": "code",
   "execution_count": 2,
   "id": "8860b610",
   "metadata": {},
   "outputs": [],
   "source": [
    "let x: i32 = 42;\n",
    "let y: u32 = x as u32;"
   ]
  },
  {
   "cell_type": "code",
   "execution_count": null,
   "id": "60fea1de",
   "metadata": {},
   "outputs": [],
   "source": []
  },
  {
   "cell_type": "markdown",
   "id": "49d56bdd",
   "metadata": {},
   "source": [
    "## From 및 Into 트레이트를 사용한 변환: 이 트레이트는 타입 간의 자동 변환을 위해 사용됩니다. \n",
    "\n",
    "예를 들어, String에서 &str로 변환하려면 Into<&str>을 구현한 String 타입의 값을 사용할 수 있습니다: \n"
   ]
  },
  {
   "cell_type": "code",
   "execution_count": null,
   "id": "11f92c79",
   "metadata": {},
   "outputs": [],
   "source": []
  },
  {
   "cell_type": "code",
   "execution_count": 6,
   "id": "a90e694a",
   "metadata": {},
   "outputs": [
    {
     "ename": "Error",
     "evalue": "the trait bound `&str: From<String>` is not satisfied",
     "output_type": "error",
     "traceback": [
      "\u001b[31m[E0277] Error:\u001b[0m the trait bound `&str: From<String>` is not satisfied",
      "   \u001b[38;5;246m╭\u001b[0m\u001b[38;5;246m─\u001b[0m\u001b[38;5;246m[\u001b[0mcommand_6:1:1\u001b[38;5;246m]\u001b[0m",
      "   \u001b[38;5;246m│\u001b[0m",
      " \u001b[38;5;246m2 │\u001b[0m \u001b[38;5;249ml\u001b[0m\u001b[38;5;249me\u001b[0m\u001b[38;5;249mt\u001b[0m\u001b[38;5;249m \u001b[0m\u001b[38;5;249mr\u001b[0m\u001b[38;5;249m:\u001b[0m\u001b[38;5;249m \u001b[0m\u001b[38;5;249m&\u001b[0m\u001b[38;5;249ms\u001b[0m\u001b[38;5;249mt\u001b[0m\u001b[38;5;249mr\u001b[0m\u001b[38;5;249m \u001b[0m\u001b[38;5;249m=\u001b[0m\u001b[38;5;249m \u001b[0m\u001b[38;5;249ms\u001b[0m\u001b[38;5;249m.\u001b[0m\u001b[38;5;54mi\u001b[0m\u001b[38;5;54mn\u001b[0m\u001b[38;5;54mt\u001b[0m\u001b[38;5;54mo\u001b[0m\u001b[38;5;249m(\u001b[0m\u001b[38;5;249m)\u001b[0m\u001b[38;5;249m;\u001b[0m",
      " \u001b[38;5;246m  ·\u001b[0m                 \u001b[38;5;54m─\u001b[0m\u001b[38;5;54m─\u001b[0m\u001b[38;5;54m┬\u001b[0m\u001b[38;5;54m─\u001b[0m  ",
      " \u001b[38;5;246m  ·\u001b[0m                   \u001b[38;5;54m╰\u001b[0m\u001b[38;5;54m─\u001b[0m\u001b[38;5;54m─\u001b[0m\u001b[38;5;54m─\u001b[0m the trait `From<String>` is not implemented for `&str`",
      "\u001b[38;5;246m───╯\u001b[0m"
     ]
    }
   ],
   "source": [
    "let s: String = \"hello\".to_string(); \n",
    "let r: &str = s.into();"
   ]
  },
  {
   "cell_type": "code",
   "execution_count": null,
   "id": "8ca598ff",
   "metadata": {},
   "outputs": [],
   "source": []
  },
  {
   "cell_type": "markdown",
   "id": "4c610a01",
   "metadata": {},
   "source": [
    "## FromStr 트레이트와 parse 메서드를 사용한 문자열 파싱: FromStr 트레이트를 구현하여 문자열을 다른 타입으로 파싱할 수 있습니다. \n",
    "\n",
    "parse 메서드를 사용하여 문자열을 해당 타입으로 변환할 수 있습니다.\n",
    "\n",
    "예를 들어, 문자열을 i32로 파싱하려면 i32::from_str(\"42\")?와 같이 사용할 수 있습니다."
   ]
  },
  {
   "cell_type": "code",
   "execution_count": 5,
   "id": "62ee3f20",
   "metadata": {},
   "outputs": [],
   "source": [
    "use std::str::FromStr;"
   ]
  },
  {
   "cell_type": "code",
   "execution_count": 7,
   "id": "cdfd6174",
   "metadata": {},
   "outputs": [
    {
     "data": {
      "text/plain": [
       "42"
      ]
     },
     "execution_count": 7,
     "metadata": {},
     "output_type": "execute_result"
    }
   ],
   "source": [
    "i32::from_str(\"42\")?"
   ]
  },
  {
   "cell_type": "code",
   "execution_count": null,
   "id": "b2330666",
   "metadata": {},
   "outputs": [],
   "source": []
  },
  {
   "cell_type": "code",
   "execution_count": null,
   "id": "8ebb318c",
   "metadata": {},
   "outputs": [],
   "source": []
  },
  {
   "cell_type": "markdown",
   "id": "e3af6f08",
   "metadata": {},
   "source": [
    "## try_into 메서드를 사용한 타입 변환: \n",
    "\n",
    "std::convert::TryInto 트레이트를 사용하여 타입 변환을 시도할 수 있습니다. \n",
    "\n",
    "이를 통해 타입 간의 변환 시에 발생할 수 있는 오류를 처리할 수 있습니다. \n"
   ]
  },
  {
   "cell_type": "code",
   "execution_count": null,
   "id": "4d4c8a76",
   "metadata": {},
   "outputs": [],
   "source": []
  },
  {
   "cell_type": "code",
   "execution_count": 8,
   "id": "d635d43e",
   "metadata": {},
   "outputs": [],
   "source": [
    "let x: u32 = 42; \n",
    "let y: Result<i32, _> = x.try_into();"
   ]
  },
  {
   "cell_type": "code",
   "execution_count": null,
   "id": "1843764e",
   "metadata": {},
   "outputs": [],
   "source": []
  }
 ],
 "metadata": {
  "kernelspec": {
   "display_name": "Rust",
   "language": "rust",
   "name": "rust"
  },
  "language_info": {
   "codemirror_mode": "rust",
   "file_extension": ".rs",
   "mimetype": "text/rust",
   "name": "Rust",
   "pygment_lexer": "rust",
   "version": ""
  }
 },
 "nbformat": 4,
 "nbformat_minor": 5
}
