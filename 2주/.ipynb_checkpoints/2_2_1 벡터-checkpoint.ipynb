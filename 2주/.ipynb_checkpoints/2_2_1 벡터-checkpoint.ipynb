{
 "cells": [
  {
   "cell_type": "markdown",
   "id": "5a995c41",
   "metadata": {},
   "source": [
    "##  타입 확인 함수 "
   ]
  },
  {
   "cell_type": "code",
   "execution_count": 2,
   "id": "37699fb3",
   "metadata": {},
   "outputs": [],
   "source": [
    "use std::any::type_name;\n",
    "\n",
    "fn type_of<T>(_: T) -> &'static str {\n",
    "    type_name::<T>()\n",
    "}"
   ]
  },
  {
   "cell_type": "code",
   "execution_count": null,
   "id": "aa9e88cd",
   "metadata": {},
   "outputs": [],
   "source": []
  },
  {
   "cell_type": "markdown",
   "id": "d63a9dd6",
   "metadata": {},
   "source": [
    "# 1. 벡터 \n",
    "\n",
    "## Rust에서 벡터와 배열은 다음과 같은 차이점\n",
    "\n",
    "### 크기: \n",
    "- 벡터는 동적으로 크기를 조정할 수 있지만, 배열은 고정된 크기를 가지며 변경할 수 없습니다.\n",
    "- 배열의 크기는 컴파일 타임에 결정되고, 벡터는 런타임에 크기가 동적으로 조정될 수 있습니다.\n",
    "\n",
    "### 메모리 할당: \n",
    "- 벡터는 힙(heap)에 메모리를 할당하고, 필요에 따라 크기가 조정됩니다. \n",
    "- 배열은 스택(stack)에 메모리를 할당하고, 고정된 크기를 가집니다. \n",
    "- 따라서 벡터는 보다 유연한 메모리 할당을 제공하고, 배열은 고정된 크기를 유지하는 데 효율적입니다.\n",
    "\n",
    "### 소유권과 복사: \n",
    "- 벡터는 소유권과 복사가 가능합니다. 벡터는 동적으로 크기가 조정되기 때문에 소유권을 이전하거나 복사할 수 있습니다. \n",
    "- 배열은 고정된 크기를 가지기 때문에 소유권과 복사가 불가능합니다. \n",
    "- 대신, 배열의 데이터는 스택에 직접 저장되어 소유권 이전이나 복사 없이 사용할 수 있습니다.\n",
    "\n",
    "### 반복자: \n",
    "- 벡터는 iter() 메서드를 통해 반복자를 제공하며, 동적으로 크기가 조정된 데이터에 접근할 수 있습니다. \n",
    "- 배열은 길이와 타입이 정적으로 알려져 있기 때문에, iter() 메서드를 호출하지 않고도 인덱스를 사용하여 직접 요소에 접근할 수 있습니다."
   ]
  },
  {
   "cell_type": "markdown",
   "id": "eb510c99",
   "metadata": {},
   "source": [
    "##  벡터와 배열의 타입 정의 방식 \n",
    "\n",
    "#### 벡터(Vec\\<T\\>) \n",
    "- 벡터는 제너릭 타입을 < > 사이에 지정\n",
    "\n",
    "\n",
    "#### 배열([T; N])\n",
    "- 배열은 대괄호내에 타입과 길이를 지정\n"
   ]
  },
  {
   "cell_type": "code",
   "execution_count": null,
   "id": "655e5014",
   "metadata": {},
   "outputs": [],
   "source": []
  },
  {
   "cell_type": "markdown",
   "id": "4ad5fa1c",
   "metadata": {},
   "source": [
    "##  1-1 벡터 정의 \n",
    "\n",
    "### 벡터 매크로로 정의 \n",
    "- 간편 정의 vec! 매크로에 대괄호를 사용해서 벡터 인스턴스 생성\n",
    "\n",
    "### 벡터 연관함수로 정의 \n",
    "- Vec::new 를 사용해서 벡터 인스턴스 생성 "
   ]
  },
  {
   "cell_type": "code",
   "execution_count": 4,
   "id": "2d17d461",
   "metadata": {},
   "outputs": [
    {
     "name": "stdout",
     "output_type": "stream",
     "text": [
      " v1=[1, 2, 3]\n",
      " v2=[]\n",
      " vector type alloc::vec::Vec<i32>\n",
      " vector type alloc::vec::Vec<i32>\n"
     ]
    }
   ],
   "source": [
    "fn main() { \n",
    "\n",
    "    let v1 = vec![1, 2, 3];         // 매크로로 벡터 만들기 \n",
    "    println!(\" v1={:?}\", v1);\n",
    "    println!(\" vector type {}\", type_of(v1));\n",
    " \n",
    "    let v2: Vec<i32> = Vec::new();   // 연관함수로 빈벡터 \n",
    "    println!(\" v2={:?}\", v2);\n",
    "     println!(\" vector type {}\", type_of(v2));\n",
    "}\n",
    "\n",
    "main();"
   ]
  },
  {
   "cell_type": "markdown",
   "id": "b9f73d12",
   "metadata": {},
   "source": [
    "## 1-2 벡터의 원소 추가 하기 \n",
    "\n",
    "- 벡터는 가변이므로 원소 갱신과 추가가 가능하다.\n",
    "- 빈 벡터를 만들고 메서드로 원소를 추가 삭제할 수 있다."
   ]
  },
  {
   "cell_type": "code",
   "execution_count": 17,
   "id": "052183c5",
   "metadata": {},
   "outputs": [],
   "source": [
    "fn main() {\n",
    "    let mut v = Vec::new();\n",
    "\n",
    "    v.push(5);\n",
    "    v.push(6);\n",
    "    v.push(7);\n",
    "    v.push(8);\n",
    "    println!(\" v={:?}\", v);\n",
    "    v.pop();\n",
    "    println!(\" v={:?}\", v);\n",
    "} \n",
    "\n",
    "main();"
   ]
  },
  {
   "cell_type": "code",
   "execution_count": null,
   "id": "f36011f1",
   "metadata": {},
   "outputs": [],
   "source": []
  },
  {
   "cell_type": "code",
   "execution_count": null,
   "id": "e828aabc",
   "metadata": {},
   "outputs": [],
   "source": []
  },
  {
   "cell_type": "markdown",
   "id": "bf268ee4",
   "metadata": {},
   "source": [
    "## 1-3  벡터의 원소 검색 하기\n",
    "\n",
    "- 인덱스 검색연산자를 사용하거나 메서드 get으로 처리\n",
    "- get으로 처리할 경우 없을 경우는 None으로 반환 처리"
   ]
  },
  {
   "cell_type": "code",
   "execution_count": 5,
   "id": "41c2fdd0",
   "metadata": {},
   "outputs": [
    {
     "name": "stdout",
     "output_type": "stream",
     "text": [
      " third : 3\n",
      " third_1 : Some(3)\n"
     ]
    }
   ],
   "source": [
    "\n",
    "fn main() {\n",
    "    let v = vec![1, 2, 3, 4, 5];\n",
    "\n",
    "    let third: &i32 = &v[2];\n",
    "    println!(\" third : {}\", third);\n",
    "    let third_1: Option<&i32> = v.get(2);\n",
    "    println!(\" third_1 : {:?}\", third_1);\n",
    "}\n",
    "\n",
    "main();"
   ]
  },
  {
   "cell_type": "markdown",
   "id": "5886f1ce",
   "metadata": {},
   "source": [
    "### 인덱스 검색할 때 인덱스 범위가 벗어나면 예외를 발생한다. "
   ]
  },
  {
   "cell_type": "code",
   "execution_count": 6,
   "id": "12055cd8",
   "metadata": {},
   "outputs": [
    {
     "name": "stderr",
     "output_type": "stream",
     "text": [
      "thread '<unnamed>' panicked at 'index out of bounds: the len is 5 but the index is 100', src/lib.rs:5:27\n",
      "stack backtrace:\n",
      "   0: _rust_begin_unwind\n",
      "   1: core::panicking::panic_fmt\n",
      "   2: core::panicking::panic_bounds_check\n",
      "   3: ctx::main\n",
      "   4: _run_user_code_5\n",
      "   5: evcxr::runtime::Runtime::run_loop\n",
      "   6: evcxr::runtime::runtime_hook\n",
      "   7: evcxr_jupyter::main\n",
      "note: Some details are omitted, run with `RUST_BACKTRACE=full` for a verbose backtrace.\n"
     ]
    }
   ],
   "source": [
    "fn main() {\n",
    "    let v = vec![1, 2, 3, 4, 5];\n",
    "\n",
    "    let does_not_exist = &v[100];\n",
    "    let does_not_exist = v.get(100);\n",
    "}\n",
    "\n",
    "main();"
   ]
  },
  {
   "cell_type": "code",
   "execution_count": null,
   "id": "04660025",
   "metadata": {},
   "outputs": [],
   "source": []
  },
  {
   "cell_type": "markdown",
   "id": "a56f9c3a",
   "metadata": {},
   "source": [
    "## 1-4 벡터에 대한 변경 \n",
    "\n",
    "- 변경가능한 참조를 사용해서 벡터의 값을 변경 "
   ]
  },
  {
   "cell_type": "code",
   "execution_count": 8,
   "id": "25c7d4e1",
   "metadata": {},
   "outputs": [
    {
     "name": "stdout",
     "output_type": "stream",
     "text": [
      "100\n",
      "32\n",
      "57\n",
      " 벡터 : [150, 82, 107]\n"
     ]
    }
   ],
   "source": [
    "fn main() {\n",
    "    let v = vec![100, 32, 57];\n",
    "    for i in &v {\n",
    "        println!(\"{}\", i);\n",
    "    }\n",
    "    \n",
    "    let mut v = vec![100, 32, 57];\n",
    "    for i in &mut v {\n",
    "        *i += 50;\n",
    "    }\n",
    "\n",
    "    println!(\" 벡터 : {:?}\", v);\n",
    "}\n",
    "\n",
    "main();"
   ]
  },
  {
   "cell_type": "code",
   "execution_count": null,
   "id": "2049a641",
   "metadata": {},
   "outputs": [],
   "source": []
  },
  {
   "cell_type": "markdown",
   "id": "15bf43ab",
   "metadata": {},
   "source": [
    "## 1-5  벡터를 그대로 순환\n",
    "\n",
    "- 벡터의 원소도 이동이 되므로 순환을 실행하면 값이 이동이 발생"
   ]
  },
  {
   "cell_type": "code",
   "execution_count": 9,
   "id": "4686cf49",
   "metadata": {},
   "outputs": [
    {
     "ename": "Error",
     "evalue": "borrow of moved value: `v2`",
     "output_type": "error",
     "traceback": [
      "    for i in  v2 {",
      "\u001b[91m              ^^\u001b[0m \u001b[94m`v2` moved due to this implicit call to `.into_iter()`\u001b[0m",
      "    println!(\" 벡터 : {:?}\", v2);",
      "\u001b[91m                           ^^\u001b[0m \u001b[94mvalue borrowed here after move\u001b[0m",
      "    let mut v2 = vec![100, 32, 57];",
      "\u001b[91m        ^^^^^^\u001b[0m \u001b[94mmove occurs because `v2` has type `Vec<i32>`, which does not implement the `Copy` trait\u001b[0m",
      "borrow of moved value: `v2`",
      "\u001b[1mhelp\u001b[0m: consider iterating over a slice of the `Vec<i32>`'s content to avoid moving into the `for` loop\n\n&"
     ]
    }
   ],
   "source": [
    "fn main() {\n",
    "    let mut v2 = vec![100, 32, 57];\n",
    "    for i in  v2 {\n",
    "        println!(\"{}\", i);\n",
    "    }\n",
    "    println!(\" 벡터 : {:?}\", v2);\n",
    "}\n",
    "\n",
    "main();"
   ]
  },
  {
   "cell_type": "markdown",
   "id": "f9540bf0",
   "metadata": {},
   "source": [
    "### 참조를 사용하지 않고 백터를 순환하려면 반복자로 변환\n",
    "\n",
    "- 반복자로 변환하면 자동으로 참조가 된다. \n",
    "- 반복자를 만들어서 처리\n",
    "- 또한 인덱스와 값을 처리할 때는 iter().enumerate()까지 사용"
   ]
  },
  {
   "cell_type": "code",
   "execution_count": 10,
   "id": "510434fa",
   "metadata": {},
   "outputs": [
    {
     "name": "stdout",
     "output_type": "stream",
     "text": [
      "Got: 1\n",
      "Got: 2\n",
      "Got: 3\n",
      "index : 0, value : 1\n",
      "index : 1, value : 2\n",
      "index : 2, value : 3\n"
     ]
    },
    {
     "data": {
      "text/plain": [
       "()"
      ]
     },
     "execution_count": 10,
     "metadata": {},
     "output_type": "execute_result"
    }
   ],
   "source": [
    "fn main() { \n",
    "    let v1 = vec![1, 2, 3];\n",
    "    for val in v1.iter() {\n",
    "        println!(\"Got: {}\", val);\n",
    "    }\n",
    "    //  키와 값 쌍을 반환하므로 구조분해를 사용해서 처리 \n",
    "    for (ind,val) in v1.iter().enumerate() {\n",
    "        println!(\"index : {}, value : {}\", ind, val);\n",
    "    }\n",
    "}\n",
    "main()"
   ]
  },
  {
   "cell_type": "code",
   "execution_count": null,
   "id": "75f98f16",
   "metadata": {},
   "outputs": [],
   "source": []
  },
  {
   "cell_type": "code",
   "execution_count": null,
   "id": "ae5de477",
   "metadata": {},
   "outputs": [],
   "source": []
  },
  {
   "cell_type": "code",
   "execution_count": null,
   "id": "c1a301a2",
   "metadata": {},
   "outputs": [],
   "source": []
  }
 ],
 "metadata": {
  "kernelspec": {
   "display_name": "Rust",
   "language": "rust",
   "name": "rust"
  },
  "language_info": {
   "codemirror_mode": "rust",
   "file_extension": ".rs",
   "mimetype": "text/rust",
   "name": "Rust",
   "pygment_lexer": "rust",
   "version": ""
  }
 },
 "nbformat": 4,
 "nbformat_minor": 5
}
