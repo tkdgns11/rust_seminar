{
 "cells": [
  {
   "cell_type": "markdown",
   "id": "a8eb4002",
   "metadata": {},
   "source": [
    "# 1. 타입변환 "
   ]
  },
  {
   "cell_type": "markdown",
   "id": "0f01f106",
   "metadata": {},
   "source": [
    "## 1-1. as 키워드를 사용한 변환: \n",
    "\n",
    "- 이 방법은 원시 타입 간의 변환 또는 명시적으로 구현된 From 및 Into 트레이트를 통한 타입 간 변환에 사용됩니다."
   ]
  },
  {
   "cell_type": "code",
   "execution_count": null,
   "id": "57014721",
   "metadata": {},
   "outputs": [],
   "source": [
    "예를 들어, i32를 u32로 변환하려면 as 키워드를 사용할 수 있습니다: let x: i32 = 42; let y: u32 = x as u32;."
   ]
  },
  {
   "cell_type": "code",
   "execution_count": 2,
   "id": "c283f49c",
   "metadata": {},
   "outputs": [],
   "source": [
    "let x: i32 = 42;\n",
    "let y: u32 = x as u32;"
   ]
  },
  {
   "cell_type": "code",
   "execution_count": null,
   "id": "c1f11386",
   "metadata": {},
   "outputs": [],
   "source": []
  },
  {
   "cell_type": "markdown",
   "id": "e3279bcd",
   "metadata": {},
   "source": [
    "## 1-2. From 및 Into 트레이트를 사용한 변환: 이 트레이트는 타입 간의 자동 변환을 위해 사용됩니다. \n",
    "\n",
    "예를 들어, String에서 &str로 변환하려면 Into<&str>을 구현한 String 타입의 값을 사용할 수 있습니다: \n"
   ]
  },
  {
   "cell_type": "code",
   "execution_count": null,
   "id": "83c9d146",
   "metadata": {},
   "outputs": [],
   "source": []
  },
  {
   "cell_type": "code",
   "execution_count": 6,
   "id": "0d9f2575",
   "metadata": {},
   "outputs": [
    {
     "ename": "Error",
     "evalue": "the trait bound `&str: From<String>` is not satisfied",
     "output_type": "error",
     "traceback": [
      "\u001b[31m[E0277] Error:\u001b[0m the trait bound `&str: From<String>` is not satisfied",
      "   \u001b[38;5;246m╭\u001b[0m\u001b[38;5;246m─\u001b[0m\u001b[38;5;246m[\u001b[0mcommand_6:1:1\u001b[38;5;246m]\u001b[0m",
      "   \u001b[38;5;246m│\u001b[0m",
      " \u001b[38;5;246m2 │\u001b[0m \u001b[38;5;249ml\u001b[0m\u001b[38;5;249me\u001b[0m\u001b[38;5;249mt\u001b[0m\u001b[38;5;249m \u001b[0m\u001b[38;5;249mr\u001b[0m\u001b[38;5;249m:\u001b[0m\u001b[38;5;249m \u001b[0m\u001b[38;5;249m&\u001b[0m\u001b[38;5;249ms\u001b[0m\u001b[38;5;249mt\u001b[0m\u001b[38;5;249mr\u001b[0m\u001b[38;5;249m \u001b[0m\u001b[38;5;249m=\u001b[0m\u001b[38;5;249m \u001b[0m\u001b[38;5;249ms\u001b[0m\u001b[38;5;249m.\u001b[0m\u001b[38;5;54mi\u001b[0m\u001b[38;5;54mn\u001b[0m\u001b[38;5;54mt\u001b[0m\u001b[38;5;54mo\u001b[0m\u001b[38;5;249m(\u001b[0m\u001b[38;5;249m)\u001b[0m\u001b[38;5;249m;\u001b[0m",
      " \u001b[38;5;246m  ·\u001b[0m                 \u001b[38;5;54m─\u001b[0m\u001b[38;5;54m─\u001b[0m\u001b[38;5;54m┬\u001b[0m\u001b[38;5;54m─\u001b[0m  ",
      " \u001b[38;5;246m  ·\u001b[0m                   \u001b[38;5;54m╰\u001b[0m\u001b[38;5;54m─\u001b[0m\u001b[38;5;54m─\u001b[0m\u001b[38;5;54m─\u001b[0m the trait `From<String>` is not implemented for `&str`",
      "\u001b[38;5;246m───╯\u001b[0m"
     ]
    }
   ],
   "source": [
    "let s: String = \"hello\".to_string(); \n",
    "let r: &str = s.into();"
   ]
  },
  {
   "cell_type": "code",
   "execution_count": null,
   "id": "954152c6",
   "metadata": {},
   "outputs": [],
   "source": []
  },
  {
   "cell_type": "markdown",
   "id": "093a5354",
   "metadata": {},
   "source": [
    "## 1-3. FromStr 트레이트와 parse 메서드를 사용한 문자열 파싱: FromStr 트레이트를 구현하여 문자열을 다른 타입으로 파싱할 수 있습니다. \n",
    "\n",
    "parse 메서드를 사용하여 문자열을 해당 타입으로 변환할 수 있습니다.\n",
    "\n",
    "예를 들어, 문자열을 i32로 파싱하려면 i32::from_str(\"42\")?와 같이 사용할 수 있습니다."
   ]
  },
  {
   "cell_type": "code",
   "execution_count": 5,
   "id": "0a06755c",
   "metadata": {},
   "outputs": [],
   "source": [
    "use std::str::FromStr;"
   ]
  },
  {
   "cell_type": "code",
   "execution_count": 7,
   "id": "d7b823e9",
   "metadata": {},
   "outputs": [
    {
     "data": {
      "text/plain": [
       "42"
      ]
     },
     "execution_count": 7,
     "metadata": {},
     "output_type": "execute_result"
    }
   ],
   "source": [
    "i32::from_str(\"42\")?"
   ]
  },
  {
   "cell_type": "code",
   "execution_count": null,
   "id": "960265dc",
   "metadata": {},
   "outputs": [],
   "source": []
  },
  {
   "cell_type": "code",
   "execution_count": null,
   "id": "9927f0be",
   "metadata": {},
   "outputs": [],
   "source": []
  },
  {
   "cell_type": "markdown",
   "id": "a6957305",
   "metadata": {},
   "source": [
    "## 1-4. try_into 메서드를 사용한 타입 변환: \n",
    "\n",
    "std::convert::TryInto 트레이트를 사용하여 타입 변환을 시도할 수 있습니다. \n",
    "\n",
    "이를 통해 타입 간의 변환 시에 발생할 수 있는 오류를 처리할 수 있습니다. \n"
   ]
  },
  {
   "cell_type": "code",
   "execution_count": null,
   "id": "ac04bec4",
   "metadata": {},
   "outputs": [],
   "source": []
  },
  {
   "cell_type": "code",
   "execution_count": 8,
   "id": "c5c69e62",
   "metadata": {},
   "outputs": [],
   "source": [
    "let x: u32 = 42; \n",
    "let y: Result<i32, _> = x.try_into();"
   ]
  },
  {
   "cell_type": "code",
   "execution_count": null,
   "id": "72fb8e0b",
   "metadata": {},
   "outputs": [],
   "source": []
  },
  {
   "cell_type": "markdown",
   "id": "ca8033ec",
   "metadata": {},
   "source": [
    "# 2. 타입변환 예제 처리하기 "
   ]
  },
  {
   "cell_type": "markdown",
   "id": "39e3d51e",
   "metadata": {},
   "source": [
    "### 트레이트 사용"
   ]
  },
  {
   "cell_type": "code",
   "execution_count": 3,
   "id": "03aaf34b",
   "metadata": {},
   "outputs": [],
   "source": [
    "use std::convert::{Into, TryInto};"
   ]
  },
  {
   "cell_type": "markdown",
   "id": "52a35c7b",
   "metadata": {},
   "source": [
    "### 구조체 정의 "
   ]
  },
  {
   "cell_type": "code",
   "execution_count": 2,
   "id": "9863fee2",
   "metadata": {},
   "outputs": [],
   "source": [
    "struct MyNumber(i32);   "
   ]
  },
  {
   "cell_type": "markdown",
   "id": "7112a54d",
   "metadata": {},
   "source": [
    "### 트레이트를 구현하기 "
   ]
  },
  {
   "cell_type": "code",
   "execution_count": 4,
   "id": "04e54461",
   "metadata": {},
   "outputs": [],
   "source": [
    "impl Into<String> for MyNumber {                         // 트레이트를 구현 \n",
    "    fn into(self) -> String {                           // 현재 소유권이 이동되고 새로운 소유권이 생성 \n",
    "        format!(\"MyNumber: {}\", self.0)                  // 값을 변환해서 반환 \n",
    "    } \n",
    "}\n"
   ]
  },
  {
   "cell_type": "code",
   "execution_count": 5,
   "id": "0c5b5420",
   "metadata": {},
   "outputs": [],
   "source": [
    "impl TryInto<u32> for MyNumber {                          // 트레이트 구현 \n",
    "    type Error = &'static str;                            // 연관타입 지정 \n",
    "\n",
    "    fn try_into(self) -> Result<u32, Self::Error> {       // 반환 결과가 에러 발생할 수 있음 \n",
    "        if self.0 >= 0 {\n",
    "            Ok(self.0 as u32)\n",
    "        } else {\n",
    "            Err(\"Cannot convert negative number to u32\")\n",
    "        }\n",
    "    }\n",
    "}\n"
   ]
  },
  {
   "cell_type": "markdown",
   "id": "2e3f55e9",
   "metadata": {},
   "source": [
    "### 인스턴스를 생성하고 자료형 변형하기 "
   ]
  },
  {
   "cell_type": "code",
   "execution_count": 8,
   "id": "41f07436",
   "metadata": {},
   "outputs": [],
   "source": [
    "fn main() {\n",
    "    let number = MyNumber(42);                            // 데이터 생성 \n",
    "\n",
    "    // Into example\n",
    "    let string: String = number.into();                   // i32에서 String으로 변환 \n",
    "    println!(\"Into 처리 : {:?}\", string);\n",
    "    \n",
    "    let number = MyNumber(42);                            // 데이터 생성 \n",
    "    // TryInto example\n",
    "    let result: Result<u32, &str> = number.try_into();    // i32에서 u32로 변환 \n",
    "    match result {\n",
    "        Ok(value) => println!(\"TryInto 처리 : {:?}\", value),\n",
    "        Err(error) => println!(\"TryInto error: {:?}\", error),\n",
    "    }\n",
    "}"
   ]
  },
  {
   "cell_type": "code",
   "execution_count": 9,
   "id": "23bb3b8d",
   "metadata": {},
   "outputs": [
    {
     "name": "stdout",
     "output_type": "stream",
     "text": [
      "Into 처리 : \"MyNumber: 42\"\n",
      "TryInto 처리 : 42\n"
     ]
    }
   ],
   "source": [
    "main();"
   ]
  },
  {
   "cell_type": "code",
   "execution_count": null,
   "id": "18c2eb93",
   "metadata": {},
   "outputs": [],
   "source": []
  },
  {
   "cell_type": "code",
   "execution_count": null,
   "id": "c769ad83",
   "metadata": {},
   "outputs": [],
   "source": []
  },
  {
   "cell_type": "markdown",
   "id": "5170e34f",
   "metadata": {},
   "source": [
    "# 3  From및 Into특성은 유형 변환에 사용됩니다. \n",
    "\n",
    "### 이들 간의 주요 차이점은 다음과 같습니다.\n",
    "\n",
    "### 변환 방향: \n",
    "- 특성 From은 다른 유형에서 한 유형의 값을 생성하는 데 사용되는 반면 Into특성은 값을 다른 유형으로 변환하는 데 사용됩니다. \n",
    "- 특성 From은 소스 유형에서 구현 유형으로의 변환을 정의하는 반면 Into특성은 구현 유형에서 대상 유형으로의 변환을 정의합니다.\n",
    "\n",
    "### 사용법: \n",
    "- 특성 From은 일반적으로 소유한 유형에서 다른 유형으로의 변환을 정의하려는 경우에 사용됩니다. \n",
    "- 예를 들어 사용자 지정 구조체를 구현하여 a를 구조체로 From<String>변환 할 수 있습니다. \n",
    "- String반면에 Into특성은 값을 다른 유형으로 변환할 수 있도록 하려는 경우에 사용됩니다. \n",
    "- .into()내부적으로 특성을 사용하는 값을 호출할 수 있도록 하여 보다 간결한 구문을 제공합니다 From.\n",
    "\n",
    "### 구현: \n",
    "- 특성 을 구현할 때 From형식으로 변환 함수를 정의합니다 \n",
    "- fn from(T) -> Self. 여기서 T는 소스 유형이고 Self는 구현 유형입니다. \n",
    "- 이를 통해 전환이 발생하는 방식을 정의할 수 있습니다. 반면에 Into특성을 구현할 때 형식으로 변환 함수를 정의합니다 \n",
    "- fn into(self) -> T. 여기서 self는 구현 유형이고 T는 대상 유형입니다. \n",
    "- 메서드 는 구문을 into사용할 때 암시적으로 호출됩니다 .into().\n",
    "\n",
    "From전반적으로 및 사이의 주요 차이점은 Into변환 방향과 코드에서 사용되는 방식입니다. \n",
    "둘 사이의 선택은 특정 사용 사례와 원하는 변환 구문에 따라 다릅니다."
   ]
  },
  {
   "cell_type": "markdown",
   "id": "49a21539",
   "metadata": {},
   "source": [
    "### 다른 타입에서 현재 타입으로 처리\n",
    "\n",
    "- 그래서 구현의 반환값은 Self 즉 자기 타입이다 "
   ]
  },
  {
   "cell_type": "code",
   "execution_count": 19,
   "id": "2793f406",
   "metadata": {},
   "outputs": [],
   "source": [
    "// Implementing the From trait\n",
    "struct MyString {\n",
    "    value: String,\n",
    "}\n",
    "\n",
    "impl From<&str> for MyString {\n",
    "    fn from(s: &str) -> Self {\n",
    "        MyString {\n",
    "            value: String::from(s),\n",
    "        }\n",
    "    }\n",
    "}"
   ]
  },
  {
   "cell_type": "markdown",
   "id": "eeb49d9c",
   "metadata": {},
   "source": [
    "### 현재 타입을 다른 타입으로 변환 \n",
    "\n",
    "- 반환값이 다른 타입을 처리 "
   ]
  },
  {
   "cell_type": "code",
   "execution_count": 14,
   "id": "14c92bcb",
   "metadata": {},
   "outputs": [],
   "source": [
    "// Implementing the Into trait\n",
    "struct MyNumber_ {\n",
    "    value: i32,\n",
    "}\n",
    "\n",
    "impl Into<i32> for MyNumber_ {\n",
    "    fn into(self) -> i32 {\n",
    "        self.value\n",
    "    }\n",
    "}"
   ]
  },
  {
   "cell_type": "markdown",
   "id": "1a7fd2c1",
   "metadata": {},
   "source": [
    "### 타입변환처리 \n",
    "\n",
    "- from으로 정의된 것을 into로 호출해서 처리가 가능하다\n",
    "\n",
    "### From으로 정의된 타입 변환은 Into로 처리 가능한 이유는 Rust가 이를 자동으로 지원하기 때문입니다.\n",
    "\n",
    "- Rust는 From과 Into 트레이트를 함께 지원하여 타입 간의 양방향 변환을 편리하게 처리할 수 있도록 합니다. \n",
    "- From 트레이트는 다른 타입에서 현재 타입으로의 변환을 정의하고, Into 트레이트는 현재 타입에서 다른 타입으로의 변환을 정의합니다.\n",
    "\n",
    "- From으로 정의된 타입 변환은 Into로 처리 가능한 이유는 Rust에서 \"콘버전 트레이트 체인\"이라고 하는 기능을 제공하기 때문입니다. \n",
    "- 이 체인은 Rust 컴파일러가 타입 변환을 자동으로 연결하여 필요한 타입 변환을 수행할 수 있게 해줍니다.\n",
    "\n",
    "- 따라서 From과 Into 트레이트를 함께 구현하면 Rust 코드에서 암묵적인 타입 변환을 사용할 수 있으며, 변환 작업이 간단하고 명확해집니다. \n",
    "- 이는 코드의 가독성과 유연성을 높여줍니다."
   ]
  },
  {
   "cell_type": "code",
   "execution_count": 16,
   "id": "c667d2d1",
   "metadata": {},
   "outputs": [],
   "source": [
    "// Using the From trait\n",
    "fn use_from_trait(s: &str) {\n",
    "    let my_string: MyString = s.into(); // Using the into() method\n",
    "    println!(\"Converted value: {}\", my_string.value);\n",
    "}\n",
    "\n",
    "\n",
    "// Using the Into trait\n",
    "fn use_into_trait(number: MyNumber_) {\n",
    "    let value: i32 = number.into(); // Using the into() method\n",
    "    println!(\"Converted value: {}\", value);\n",
    "}"
   ]
  },
  {
   "cell_type": "markdown",
   "id": "b70f1630",
   "metadata": {},
   "source": [
    "### 두 개의 함수를 호출해서 타입을 변환한다"
   ]
  },
  {
   "cell_type": "code",
   "execution_count": 17,
   "id": "c5afbfd3",
   "metadata": {},
   "outputs": [],
   "source": [
    "fn main() {\n",
    "    // Using the From trait\n",
    "    use_from_trait(\"Hello, World!\");\n",
    "\n",
    "    // Using the Into trait\n",
    "    let my_number = MyNumber_ { value: 42 };\n",
    "    use_into_trait(my_number);\n",
    "}"
   ]
  },
  {
   "cell_type": "code",
   "execution_count": 18,
   "id": "f26ced14",
   "metadata": {},
   "outputs": [
    {
     "name": "stdout",
     "output_type": "stream",
     "text": [
      "Converted value: Hello, World!\n",
      "Converted value: 42\n"
     ]
    }
   ],
   "source": [
    "main();"
   ]
  },
  {
   "cell_type": "code",
   "execution_count": null,
   "id": "a6f61596",
   "metadata": {},
   "outputs": [],
   "source": []
  }
 ],
 "metadata": {
  "kernelspec": {
   "display_name": "Rust",
   "language": "rust",
   "name": "rust"
  },
  "language_info": {
   "codemirror_mode": "rust",
   "file_extension": ".rs",
   "mimetype": "text/rust",
   "name": "Rust",
   "pygment_lexer": "rust",
   "version": ""
  }
 },
 "nbformat": 4,
 "nbformat_minor": 5
}
