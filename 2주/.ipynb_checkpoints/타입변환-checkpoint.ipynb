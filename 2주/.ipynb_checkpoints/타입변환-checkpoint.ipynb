{
 "cells": [
  {
   "cell_type": "markdown",
   "id": "0ac7908b",
   "metadata": {},
   "source": [
    "## 타입변환 "
   ]
  },
  {
   "cell_type": "code",
   "execution_count": null,
   "id": "51fcc3e5",
   "metadata": {},
   "outputs": [],
   "source": [
    "\n",
    "\n",
    "FromStr 트레이트와 parse 메서드를 사용한 문자열 파싱: FromStr 트레이트를 구현하여 문자열을 다른 타입으로 파싱할 수 있습니다. parse 메서드를 사용하여 문자열을 해당 타입으로 변환할 수 있습니다. 예를 들어, 문자열을 i32로 파싱하려면 i32::from_str(\"42\")?와 같이 사용할 수 있습니다.\n",
    "\n",
    "try_into 메서드를 사용한 타입 변환: std::convert::TryInto 트레이트를 사용하여 타입 변환을 시도할 수 있습니다. 이를 통해 타입 간의 변환 시에 발생할 수 있는 오류를 처리할 수 있습니다. 예를 들어, u32를 i32로 변환하려면 let x: u32 = 42; let y: Result<i32, _> = x.try_into();와 같이 사용할 수 있습니다."
   ]
  },
  {
   "cell_type": "markdown",
   "id": "cf60588e",
   "metadata": {},
   "source": [
    "## 1. as 키워드를 사용한 변환: \n",
    "\n",
    "- 이 방법은 원시 타입 간의 변환 또는 명시적으로 구현된 From 및 Into 트레이트를 통한 타입 간 변환에 사용됩니다."
   ]
  },
  {
   "cell_type": "code",
   "execution_count": null,
   "id": "0afe9aa1",
   "metadata": {},
   "outputs": [],
   "source": [
    "예를 들어, i32를 u32로 변환하려면 as 키워드를 사용할 수 있습니다: let x: i32 = 42; let y: u32 = x as u32;."
   ]
  },
  {
   "cell_type": "code",
   "execution_count": 2,
   "id": "3cb4110f",
   "metadata": {},
   "outputs": [],
   "source": [
    "let x: i32 = 42;\n",
    "let y: u32 = x as u32;"
   ]
  },
  {
   "cell_type": "code",
   "execution_count": null,
   "id": "8125d306",
   "metadata": {},
   "outputs": [],
   "source": []
  },
  {
   "cell_type": "markdown",
   "id": "eff07b4e",
   "metadata": {},
   "source": [
    "## From 및 Into 트레이트를 사용한 변환: 이 트레이트는 타입 간의 자동 변환을 위해 사용됩니다. \n",
    "\n",
    "예를 들어, String에서 &str로 변환하려면 Into<&str>을 구현한 String 타입의 값을 사용할 수 있습니다: \n"
   ]
  },
  {
   "cell_type": "code",
   "execution_count": null,
   "id": "8ea667c7",
   "metadata": {},
   "outputs": [],
   "source": []
  },
  {
   "cell_type": "code",
   "execution_count": 6,
   "id": "e0b13dbe",
   "metadata": {},
   "outputs": [
    {
     "ename": "Error",
     "evalue": "the trait bound `&str: From<String>` is not satisfied",
     "output_type": "error",
     "traceback": [
      "\u001b[31m[E0277] Error:\u001b[0m the trait bound `&str: From<String>` is not satisfied",
      "   \u001b[38;5;246m╭\u001b[0m\u001b[38;5;246m─\u001b[0m\u001b[38;5;246m[\u001b[0mcommand_6:1:1\u001b[38;5;246m]\u001b[0m",
      "   \u001b[38;5;246m│\u001b[0m",
      " \u001b[38;5;246m2 │\u001b[0m \u001b[38;5;249ml\u001b[0m\u001b[38;5;249me\u001b[0m\u001b[38;5;249mt\u001b[0m\u001b[38;5;249m \u001b[0m\u001b[38;5;249mr\u001b[0m\u001b[38;5;249m:\u001b[0m\u001b[38;5;249m \u001b[0m\u001b[38;5;249m&\u001b[0m\u001b[38;5;249ms\u001b[0m\u001b[38;5;249mt\u001b[0m\u001b[38;5;249mr\u001b[0m\u001b[38;5;249m \u001b[0m\u001b[38;5;249m=\u001b[0m\u001b[38;5;249m \u001b[0m\u001b[38;5;249ms\u001b[0m\u001b[38;5;249m.\u001b[0m\u001b[38;5;54mi\u001b[0m\u001b[38;5;54mn\u001b[0m\u001b[38;5;54mt\u001b[0m\u001b[38;5;54mo\u001b[0m\u001b[38;5;249m(\u001b[0m\u001b[38;5;249m)\u001b[0m\u001b[38;5;249m;\u001b[0m",
      " \u001b[38;5;246m  ·\u001b[0m                 \u001b[38;5;54m─\u001b[0m\u001b[38;5;54m─\u001b[0m\u001b[38;5;54m┬\u001b[0m\u001b[38;5;54m─\u001b[0m  ",
      " \u001b[38;5;246m  ·\u001b[0m                   \u001b[38;5;54m╰\u001b[0m\u001b[38;5;54m─\u001b[0m\u001b[38;5;54m─\u001b[0m\u001b[38;5;54m─\u001b[0m the trait `From<String>` is not implemented for `&str`",
      "\u001b[38;5;246m───╯\u001b[0m"
     ]
    }
   ],
   "source": [
    "let s: String = \"hello\".to_string(); \n",
    "let r: &str = s.into();"
   ]
  },
  {
   "cell_type": "code",
   "execution_count": null,
   "id": "6db2f460",
   "metadata": {},
   "outputs": [],
   "source": []
  },
  {
   "cell_type": "markdown",
   "id": "3d1b1df5",
   "metadata": {},
   "source": [
    "## FromStr 트레이트와 parse 메서드를 사용한 문자열 파싱: FromStr 트레이트를 구현하여 문자열을 다른 타입으로 파싱할 수 있습니다. \n",
    "\n",
    "parse 메서드를 사용하여 문자열을 해당 타입으로 변환할 수 있습니다.\n",
    "\n",
    "예를 들어, 문자열을 i32로 파싱하려면 i32::from_str(\"42\")?와 같이 사용할 수 있습니다."
   ]
  },
  {
   "cell_type": "code",
   "execution_count": 5,
   "id": "0f6e982d",
   "metadata": {},
   "outputs": [],
   "source": [
    "use std::str::FromStr;"
   ]
  },
  {
   "cell_type": "code",
   "execution_count": 7,
   "id": "e624033a",
   "metadata": {},
   "outputs": [
    {
     "data": {
      "text/plain": [
       "42"
      ]
     },
     "execution_count": 7,
     "metadata": {},
     "output_type": "execute_result"
    }
   ],
   "source": [
    "i32::from_str(\"42\")?"
   ]
  },
  {
   "cell_type": "code",
   "execution_count": null,
   "id": "e5b1e095",
   "metadata": {},
   "outputs": [],
   "source": []
  },
  {
   "cell_type": "code",
   "execution_count": null,
   "id": "d1382d2f",
   "metadata": {},
   "outputs": [],
   "source": []
  },
  {
   "cell_type": "markdown",
   "id": "82dbf609",
   "metadata": {},
   "source": [
    "## try_into 메서드를 사용한 타입 변환: \n",
    "\n",
    "std::convert::TryInto 트레이트를 사용하여 타입 변환을 시도할 수 있습니다. \n",
    "\n",
    "이를 통해 타입 간의 변환 시에 발생할 수 있는 오류를 처리할 수 있습니다. \n"
   ]
  },
  {
   "cell_type": "code",
   "execution_count": null,
   "id": "efc9af69",
   "metadata": {},
   "outputs": [],
   "source": []
  },
  {
   "cell_type": "code",
   "execution_count": 8,
   "id": "e772f7ed",
   "metadata": {},
   "outputs": [],
   "source": [
    "let x: u32 = 42; \n",
    "let y: Result<i32, _> = x.try_into();"
   ]
  },
  {
   "cell_type": "code",
   "execution_count": null,
   "id": "e479c78c",
   "metadata": {},
   "outputs": [],
   "source": []
  },
  {
   "cell_type": "code",
   "execution_count": null,
   "id": "e56e91d0",
   "metadata": {},
   "outputs": [],
   "source": []
  },
  {
   "cell_type": "code",
   "execution_count": 9,
   "id": "a4fb4b55",
   "metadata": {},
   "outputs": [],
   "source": [
    "use std::convert::{Into, TryInto};"
   ]
  },
  {
   "cell_type": "code",
   "execution_count": 20,
   "id": "aa2f699a",
   "metadata": {},
   "outputs": [],
   "source": [
    "struct MyNumber(i32);                                    // 튜플 구조체 \n",
    "\n",
    "impl Into<String> for MyNumber {                         // 트레이트를 구현 \n",
    "    fn into(self) -> String {                           // 현재 소유권이 이동되고 새로운 소유권이 생성 \n",
    "        format!(\"MyNumber: {}\", self.0)                  // 값을 변환해서 반환 \n",
    "    } \n",
    "}\n",
    "\n",
    "impl TryInto<u32> for MyNumber {                          // 트레이트 구현 \n",
    "    type Error = &'static str;                            // 연관타입 지정 \n",
    "\n",
    "    fn try_into(self) -> Result<u32, Self::Error> {       // 반환 결과가 에러 발생할 수 있음 \n",
    "        if self.0 >= 0 {\n",
    "            Ok(self.0 as u32)\n",
    "        } else {\n",
    "            Err(\"Cannot convert negative number to u32\")\n",
    "        }\n",
    "    }\n",
    "}\n",
    "\n",
    "fn main() {\n",
    "    let number = MyNumber(42);                            // 데이터 생성 \n",
    "\n",
    "    // Into example\n",
    "    let string: String = number.into();\n",
    "    println!(\"Into 처리 : {:?}\", string);\n",
    "    \n",
    "    let number = MyNumber(42);                            // 데이터 생성 \n",
    "    // TryInto example\n",
    "    let result: Result<u32, &str> = number.try_into();\n",
    "    match result {\n",
    "        Ok(value) => println!(\"TryInto 처리 : {:?}\", value),\n",
    "        Err(error) => println!(\"TryInto error: {:?}\", error),\n",
    "    }\n",
    "}\n"
   ]
  },
  {
   "cell_type": "code",
   "execution_count": 21,
   "id": "86fab928",
   "metadata": {},
   "outputs": [
    {
     "name": "stdout",
     "output_type": "stream",
     "text": [
      "Into 처리 : \"MyNumber: 42\"\n",
      "TryInto 처리 : 42\n"
     ]
    }
   ],
   "source": [
    "main();"
   ]
  },
  {
   "cell_type": "code",
   "execution_count": null,
   "id": "af24b873",
   "metadata": {},
   "outputs": [],
   "source": []
  }
 ],
 "metadata": {
  "kernelspec": {
   "display_name": "Rust",
   "language": "rust",
   "name": "rust"
  },
  "language_info": {
   "codemirror_mode": "rust",
   "file_extension": ".rs",
   "mimetype": "text/rust",
   "name": "Rust",
   "pygment_lexer": "rust",
   "version": ""
  }
 },
 "nbformat": 4,
 "nbformat_minor": 5
}
