{
 "cells": [
  {
   "cell_type": "markdown",
   "id": "a8eb4002",
   "metadata": {},
   "source": [
    "## 타입변환 "
   ]
  },
  {
   "cell_type": "code",
   "execution_count": null,
   "id": "16721448",
   "metadata": {},
   "outputs": [],
   "source": [
    "\n",
    "\n",
    "FromStr 트레이트와 parse 메서드를 사용한 문자열 파싱: FromStr 트레이트를 구현하여 문자열을 다른 타입으로 파싱할 수 있습니다. parse 메서드를 사용하여 문자열을 해당 타입으로 변환할 수 있습니다. 예를 들어, 문자열을 i32로 파싱하려면 i32::from_str(\"42\")?와 같이 사용할 수 있습니다.\n",
    "\n",
    "try_into 메서드를 사용한 타입 변환: std::convert::TryInto 트레이트를 사용하여 타입 변환을 시도할 수 있습니다. 이를 통해 타입 간의 변환 시에 발생할 수 있는 오류를 처리할 수 있습니다. 예를 들어, u32를 i32로 변환하려면 let x: u32 = 42; let y: Result<i32, _> = x.try_into();와 같이 사용할 수 있습니다."
   ]
  },
  {
   "cell_type": "markdown",
   "id": "0f01f106",
   "metadata": {},
   "source": [
    "## 1. as 키워드를 사용한 변환: \n",
    "\n",
    "- 이 방법은 원시 타입 간의 변환 또는 명시적으로 구현된 From 및 Into 트레이트를 통한 타입 간 변환에 사용됩니다."
   ]
  },
  {
   "cell_type": "code",
   "execution_count": null,
   "id": "57014721",
   "metadata": {},
   "outputs": [],
   "source": [
    "예를 들어, i32를 u32로 변환하려면 as 키워드를 사용할 수 있습니다: let x: i32 = 42; let y: u32 = x as u32;."
   ]
  },
  {
   "cell_type": "code",
   "execution_count": 2,
   "id": "c283f49c",
   "metadata": {},
   "outputs": [],
   "source": [
    "let x: i32 = 42;\n",
    "let y: u32 = x as u32;"
   ]
  },
  {
   "cell_type": "code",
   "execution_count": null,
   "id": "c1f11386",
   "metadata": {},
   "outputs": [],
   "source": []
  },
  {
   "cell_type": "markdown",
   "id": "e3279bcd",
   "metadata": {},
   "source": [
    "## From 및 Into 트레이트를 사용한 변환: 이 트레이트는 타입 간의 자동 변환을 위해 사용됩니다. \n",
    "\n",
    "예를 들어, String에서 &str로 변환하려면 Into<&str>을 구현한 String 타입의 값을 사용할 수 있습니다: \n"
   ]
  },
  {
   "cell_type": "code",
   "execution_count": null,
   "id": "83c9d146",
   "metadata": {},
   "outputs": [],
   "source": []
  },
  {
   "cell_type": "code",
   "execution_count": 6,
   "id": "0d9f2575",
   "metadata": {},
   "outputs": [
    {
     "ename": "Error",
     "evalue": "the trait bound `&str: From<String>` is not satisfied",
     "output_type": "error",
     "traceback": [
      "\u001b[31m[E0277] Error:\u001b[0m the trait bound `&str: From<String>` is not satisfied",
      "   \u001b[38;5;246m╭\u001b[0m\u001b[38;5;246m─\u001b[0m\u001b[38;5;246m[\u001b[0mcommand_6:1:1\u001b[38;5;246m]\u001b[0m",
      "   \u001b[38;5;246m│\u001b[0m",
      " \u001b[38;5;246m2 │\u001b[0m \u001b[38;5;249ml\u001b[0m\u001b[38;5;249me\u001b[0m\u001b[38;5;249mt\u001b[0m\u001b[38;5;249m \u001b[0m\u001b[38;5;249mr\u001b[0m\u001b[38;5;249m:\u001b[0m\u001b[38;5;249m \u001b[0m\u001b[38;5;249m&\u001b[0m\u001b[38;5;249ms\u001b[0m\u001b[38;5;249mt\u001b[0m\u001b[38;5;249mr\u001b[0m\u001b[38;5;249m \u001b[0m\u001b[38;5;249m=\u001b[0m\u001b[38;5;249m \u001b[0m\u001b[38;5;249ms\u001b[0m\u001b[38;5;249m.\u001b[0m\u001b[38;5;54mi\u001b[0m\u001b[38;5;54mn\u001b[0m\u001b[38;5;54mt\u001b[0m\u001b[38;5;54mo\u001b[0m\u001b[38;5;249m(\u001b[0m\u001b[38;5;249m)\u001b[0m\u001b[38;5;249m;\u001b[0m",
      " \u001b[38;5;246m  ·\u001b[0m                 \u001b[38;5;54m─\u001b[0m\u001b[38;5;54m─\u001b[0m\u001b[38;5;54m┬\u001b[0m\u001b[38;5;54m─\u001b[0m  ",
      " \u001b[38;5;246m  ·\u001b[0m                   \u001b[38;5;54m╰\u001b[0m\u001b[38;5;54m─\u001b[0m\u001b[38;5;54m─\u001b[0m\u001b[38;5;54m─\u001b[0m the trait `From<String>` is not implemented for `&str`",
      "\u001b[38;5;246m───╯\u001b[0m"
     ]
    }
   ],
   "source": [
    "let s: String = \"hello\".to_string(); \n",
    "let r: &str = s.into();"
   ]
  },
  {
   "cell_type": "code",
   "execution_count": null,
   "id": "954152c6",
   "metadata": {},
   "outputs": [],
   "source": []
  },
  {
   "cell_type": "markdown",
   "id": "093a5354",
   "metadata": {},
   "source": [
    "## FromStr 트레이트와 parse 메서드를 사용한 문자열 파싱: FromStr 트레이트를 구현하여 문자열을 다른 타입으로 파싱할 수 있습니다. \n",
    "\n",
    "parse 메서드를 사용하여 문자열을 해당 타입으로 변환할 수 있습니다.\n",
    "\n",
    "예를 들어, 문자열을 i32로 파싱하려면 i32::from_str(\"42\")?와 같이 사용할 수 있습니다."
   ]
  },
  {
   "cell_type": "code",
   "execution_count": 5,
   "id": "0a06755c",
   "metadata": {},
   "outputs": [],
   "source": [
    "use std::str::FromStr;"
   ]
  },
  {
   "cell_type": "code",
   "execution_count": 7,
   "id": "d7b823e9",
   "metadata": {},
   "outputs": [
    {
     "data": {
      "text/plain": [
       "42"
      ]
     },
     "execution_count": 7,
     "metadata": {},
     "output_type": "execute_result"
    }
   ],
   "source": [
    "i32::from_str(\"42\")?"
   ]
  },
  {
   "cell_type": "code",
   "execution_count": null,
   "id": "960265dc",
   "metadata": {},
   "outputs": [],
   "source": []
  },
  {
   "cell_type": "code",
   "execution_count": null,
   "id": "9927f0be",
   "metadata": {},
   "outputs": [],
   "source": []
  },
  {
   "cell_type": "markdown",
   "id": "a6957305",
   "metadata": {},
   "source": [
    "## try_into 메서드를 사용한 타입 변환: \n",
    "\n",
    "std::convert::TryInto 트레이트를 사용하여 타입 변환을 시도할 수 있습니다. \n",
    "\n",
    "이를 통해 타입 간의 변환 시에 발생할 수 있는 오류를 처리할 수 있습니다. \n"
   ]
  },
  {
   "cell_type": "code",
   "execution_count": null,
   "id": "ac04bec4",
   "metadata": {},
   "outputs": [],
   "source": []
  },
  {
   "cell_type": "code",
   "execution_count": 8,
   "id": "c5c69e62",
   "metadata": {},
   "outputs": [],
   "source": [
    "let x: u32 = 42; \n",
    "let y: Result<i32, _> = x.try_into();"
   ]
  },
  {
   "cell_type": "code",
   "execution_count": null,
   "id": "72fb8e0b",
   "metadata": {},
   "outputs": [],
   "source": []
  },
  {
   "cell_type": "markdown",
   "id": "f13a7d70",
   "metadata": {},
   "source": [
    "## 타입변환 예제 처리하기 "
   ]
  },
  {
   "cell_type": "markdown",
   "id": "2f7926e0",
   "metadata": {},
   "source": [
    "### 트레이트 사용"
   ]
  },
  {
   "cell_type": "code",
   "execution_count": 3,
   "id": "03aaf34b",
   "metadata": {},
   "outputs": [],
   "source": [
    "use std::convert::{Into, TryInto};"
   ]
  },
  {
   "cell_type": "markdown",
   "id": "2e6e7433",
   "metadata": {},
   "source": [
    "### 구조체 정의 "
   ]
  },
  {
   "cell_type": "code",
   "execution_count": 2,
   "id": "9863fee2",
   "metadata": {},
   "outputs": [],
   "source": [
    "struct MyNumber(i32);   "
   ]
  },
  {
   "cell_type": "markdown",
   "id": "af01235a",
   "metadata": {},
   "source": [
    "### 트레이트를 구현하기 "
   ]
  },
  {
   "cell_type": "code",
   "execution_count": 4,
   "id": "04e54461",
   "metadata": {},
   "outputs": [],
   "source": [
    "impl Into<String> for MyNumber {                         // 트레이트를 구현 \n",
    "    fn into(self) -> String {                           // 현재 소유권이 이동되고 새로운 소유권이 생성 \n",
    "        format!(\"MyNumber: {}\", self.0)                  // 값을 변환해서 반환 \n",
    "    } \n",
    "}\n"
   ]
  },
  {
   "cell_type": "code",
   "execution_count": 5,
   "id": "0c5b5420",
   "metadata": {},
   "outputs": [],
   "source": [
    "impl TryInto<u32> for MyNumber {                          // 트레이트 구현 \n",
    "    type Error = &'static str;                            // 연관타입 지정 \n",
    "\n",
    "    fn try_into(self) -> Result<u32, Self::Error> {       // 반환 결과가 에러 발생할 수 있음 \n",
    "        if self.0 >= 0 {\n",
    "            Ok(self.0 as u32)\n",
    "        } else {\n",
    "            Err(\"Cannot convert negative number to u32\")\n",
    "        }\n",
    "    }\n",
    "}\n"
   ]
  },
  {
   "cell_type": "markdown",
   "id": "88627a6f",
   "metadata": {},
   "source": [
    "### 인스턴스를 생성하고 자료형 변형하기 "
   ]
  },
  {
   "cell_type": "code",
   "execution_count": 8,
   "id": "41f07436",
   "metadata": {},
   "outputs": [],
   "source": [
    "fn main() {\n",
    "    let number = MyNumber(42);                            // 데이터 생성 \n",
    "\n",
    "    // Into example\n",
    "    let string: String = number.into();                   // i32에서 String으로 변환 \n",
    "    println!(\"Into 처리 : {:?}\", string);\n",
    "    \n",
    "    let number = MyNumber(42);                            // 데이터 생성 \n",
    "    // TryInto example\n",
    "    let result: Result<u32, &str> = number.try_into();    // i32에서 u32로 변환 \n",
    "    match result {\n",
    "        Ok(value) => println!(\"TryInto 처리 : {:?}\", value),\n",
    "        Err(error) => println!(\"TryInto error: {:?}\", error),\n",
    "    }\n",
    "}"
   ]
  },
  {
   "cell_type": "code",
   "execution_count": 9,
   "id": "23bb3b8d",
   "metadata": {},
   "outputs": [
    {
     "name": "stdout",
     "output_type": "stream",
     "text": [
      "Into 처리 : \"MyNumber: 42\"\n",
      "TryInto 처리 : 42\n"
     ]
    }
   ],
   "source": [
    "main();"
   ]
  },
  {
   "cell_type": "code",
   "execution_count": null,
   "id": "18c2eb93",
   "metadata": {},
   "outputs": [],
   "source": []
  }
 ],
 "metadata": {
  "kernelspec": {
   "display_name": "Rust",
   "language": "rust",
   "name": "rust"
  },
  "language_info": {
   "codemirror_mode": "rust",
   "file_extension": ".rs",
   "mimetype": "text/rust",
   "name": "Rust",
   "pygment_lexer": "rust",
   "version": ""
  }
 },
 "nbformat": 4,
 "nbformat_minor": 5
}
