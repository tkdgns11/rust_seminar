{
 "cells": [
  {
   "cell_type": "markdown",
   "id": "b11708d7",
   "metadata": {},
   "source": [
    "## 구조체 내부의 필드의 자료형의 원시자료형일 경우 성립함"
   ]
  },
  {
   "cell_type": "code",
   "execution_count": 19,
   "id": "f0e00d33",
   "metadata": {},
   "outputs": [],
   "source": [
    "#[derive(Copy, Clone,Debug)]\n",
    "struct MyStruct {\n",
    "    value: i32,\n",
    "}\n",
    "\n",
    "fn main() {\n",
    "    let my_struct1 = MyStruct { value: 10 };\n",
    "    let my_struct2 = my_struct1;  // 얕은 복사\n",
    "    let my_struct3 = my_struct1.clone();  // 깊은 복사\n",
    "\n",
    "    println!(\"my_struct1: {:?}\", my_struct1);\n",
    "    println!(\"my_struct2: {:?}\", my_struct2);\n",
    "    println!(\"my_struct3: {:?}\", my_struct3);\n",
    "}"
   ]
  },
  {
   "cell_type": "code",
   "execution_count": 20,
   "id": "18e17337",
   "metadata": {},
   "outputs": [
    {
     "name": "stdout",
     "output_type": "stream",
     "text": [
      "my_struct1: MyStruct { value: 10 }\n",
      "my_struct2: MyStruct { value: 10 }\n",
      "my_struct3: MyStruct { value: 10 }\n"
     ]
    }
   ],
   "source": [
    "main();"
   ]
  },
  {
   "cell_type": "code",
   "execution_count": null,
   "id": "594b7547",
   "metadata": {},
   "outputs": [],
   "source": []
  },
  {
   "cell_type": "code",
   "execution_count": 27,
   "id": "7f888094",
   "metadata": {},
   "outputs": [],
   "source": [
    "#[derive(Copy, Clone,Debug)]\n",
    "struct My_ {\n",
    "    value: u32,\n",
    "}\n",
    "\n",
    "\n",
    "#[derive(Copy, Clone,Debug)]\n",
    "struct MyStruct_ {\n",
    "    value: My_\n",
    "}\n",
    "\n",
    "fn main() {\n",
    "    let my_struct1 = MyStruct_ { value: My_ { value:100} };\n",
    "    let my_struct2 = my_struct1;  // 얕은 복사\n",
    "    let my_struct3 = my_struct1.clone();  // 깊은 복사\n",
    "\n",
    "    println!(\"my_struct1: {:?}\", my_struct1);\n",
    "    println!(\"my_struct2: {:?}\", my_struct2);\n",
    "    println!(\"my_struct3: {:?}\", my_struct3);\n",
    "}"
   ]
  },
  {
   "cell_type": "code",
   "execution_count": 28,
   "id": "37ab7b07",
   "metadata": {},
   "outputs": [
    {
     "name": "stdout",
     "output_type": "stream",
     "text": [
      "my_struct1: MyStruct_ { value: My_ { value: 100 } }\n",
      "my_struct2: MyStruct_ { value: My_ { value: 100 } }\n",
      "my_struct3: MyStruct_ { value: My_ { value: 100 } }\n"
     ]
    }
   ],
   "source": [
    "main();"
   ]
  },
  {
   "cell_type": "code",
   "execution_count": null,
   "id": "d40239d8",
   "metadata": {},
   "outputs": [],
   "source": []
  },
  {
   "cell_type": "code",
   "execution_count": null,
   "id": "9ab7294d",
   "metadata": {},
   "outputs": [],
   "source": []
  },
  {
   "cell_type": "code",
   "execution_count": 32,
   "id": "387ecfea",
   "metadata": {},
   "outputs": [],
   "source": [
    "#[derive(Clone,Debug)]\n",
    "struct MyStruct1 {\n",
    "    value: i32,\n",
    "}\n",
    "\n",
    "impl Copy for MyStruct1 {}\n",
    "\n",
    "fn main() {\n",
    "    let my_struct1 = MyStruct1 { value: 10 };\n",
    "    let my_struct2 = my_struct1;  // 얕은 복사\n",
    "\n",
    "    println!(\"my_struct1: {:?}\", my_struct1);\n",
    "    println!(\"my_struct2: {:?}\", my_struct2);\n",
    "}"
   ]
  },
  {
   "cell_type": "code",
   "execution_count": 33,
   "id": "4c6b166f",
   "metadata": {},
   "outputs": [
    {
     "name": "stdout",
     "output_type": "stream",
     "text": [
      "my_struct1: MyStruct1 { value: 10 }\n",
      "my_struct2: MyStruct1 { value: 10 }\n"
     ]
    }
   ],
   "source": [
    "main();"
   ]
  },
  {
   "cell_type": "code",
   "execution_count": null,
   "id": "b49468e0",
   "metadata": {},
   "outputs": [],
   "source": []
  },
  {
   "cell_type": "code",
   "execution_count": 34,
   "id": "8d8340d3",
   "metadata": {},
   "outputs": [],
   "source": [
    "#[derive(Debug)]\n",
    "struct MyStruct2 {\n",
    "    value: i32,\n",
    "}\n",
    "\n",
    "impl Clone for MyStruct2 {\n",
    "    fn clone(&self) -> Self {\n",
    "        MyStruct2 { value: self.value }\n",
    "    }\n",
    "}\n",
    "\n",
    "fn main() {\n",
    "    let my_struct1 = MyStruct2 { value: 10 };\n",
    "    let my_struct2 = my_struct1.clone();  // 깊은 복사\n",
    "\n",
    "    println!(\"my_struct1: {:?}\", my_struct1);\n",
    "    println!(\"my_struct2: {:?}\", my_struct2);\n",
    "}"
   ]
  },
  {
   "cell_type": "code",
   "execution_count": 35,
   "id": "4c667bf6",
   "metadata": {},
   "outputs": [
    {
     "name": "stdout",
     "output_type": "stream",
     "text": [
      "my_struct1: MyStruct2 { value: 10 }\n",
      "my_struct2: MyStruct2 { value: 10 }\n"
     ]
    }
   ],
   "source": [
    "main();"
   ]
  },
  {
   "cell_type": "code",
   "execution_count": null,
   "id": "05162e46",
   "metadata": {},
   "outputs": [],
   "source": []
  },
  {
   "cell_type": "code",
   "execution_count": 36,
   "id": "39471aa8",
   "metadata": {},
   "outputs": [],
   "source": [
    "#[derive(Debug)]\n",
    "struct MyStruct3 {\n",
    "    value: i32,\n",
    "}\n",
    "\n",
    "impl Clone for MyStruct3 {\n",
    "    fn clone(&self) -> Self {\n",
    "        MyStruct3 { value: self.value }\n",
    "    }\n",
    "}\n",
    "\n",
    "impl Copy for MyStruct3 {}\n",
    "\n",
    "fn main() {\n",
    "    let my_struct1 = MyStruct3 { value: 10 };\n",
    "    let my_struct2 = my_struct1.clone();  // 깊은 복사\n",
    "    let my_struct3 = my_struct1;          // 얇은 복사\n",
    "\n",
    "    println!(\"my_struct1: {:?}\", my_struct1);\n",
    "    println!(\"my_struct2: {:?}\", my_struct2);\n",
    "    println!(\"my_struct3: {:?}\", my_struct3);\n",
    "}"
   ]
  },
  {
   "cell_type": "code",
   "execution_count": 37,
   "id": "3bfbfce4",
   "metadata": {},
   "outputs": [
    {
     "name": "stdout",
     "output_type": "stream",
     "text": [
      "my_struct1: MyStruct3 { value: 10 }\n",
      "my_struct2: MyStruct3 { value: 10 }\n",
      "my_struct3: MyStruct3 { value: 10 }\n"
     ]
    }
   ],
   "source": [
    "main();"
   ]
  },
  {
   "cell_type": "code",
   "execution_count": null,
   "id": "eb16222e",
   "metadata": {},
   "outputs": [],
   "source": []
  },
  {
   "cell_type": "code",
   "execution_count": 44,
   "id": "0ffe40cf",
   "metadata": {},
   "outputs": [],
   "source": [
    "#[derive(Debug)]\n",
    "struct MyStruct4<'a> {\n",
    "    value: &'a str,\n",
    "}\n",
    "\n",
    "impl Clone for MyStruct4<'_> {\n",
    "    fn clone(&self) -> Self {\n",
    "        MyStruct4 { value: self.value }\n",
    "    }\n",
    "}\n",
    "\n",
    "impl Copy for MyStruct4<'_ > {}\n",
    "\n",
    "fn main() {\n",
    "    let my_struct1 = MyStruct4 { value: \"10\" };\n",
    "    let my_struct2 = my_struct1.clone();  // 깊은 복사\n",
    "    let my_struct3 = my_struct1;          // 얇은 복사\n",
    "\n",
    "    println!(\"my_struct1: {:?}\", my_struct1);\n",
    "    println!(\"my_struct2: {:?}\", my_struct2);\n",
    "    println!(\"my_struct3: {:?}\", my_struct3);\n",
    "}"
   ]
  },
  {
   "cell_type": "code",
   "execution_count": 45,
   "id": "02ec7d99",
   "metadata": {},
   "outputs": [
    {
     "name": "stdout",
     "output_type": "stream",
     "text": [
      "my_struct1: MyStruct4 { value: \"10\" }\n",
      "my_struct2: MyStruct4 { value: \"10\" }\n",
      "my_struct3: MyStruct4 { value: \"10\" }\n"
     ]
    }
   ],
   "source": [
    "main();"
   ]
  },
  {
   "cell_type": "code",
   "execution_count": null,
   "id": "da144807",
   "metadata": {},
   "outputs": [],
   "source": []
  }
 ],
 "metadata": {
  "kernelspec": {
   "display_name": "Rust",
   "language": "rust",
   "name": "rust"
  },
  "language_info": {
   "codemirror_mode": "rust",
   "file_extension": ".rs",
   "mimetype": "text/rust",
   "name": "Rust",
   "pygment_lexer": "rust",
   "version": ""
  }
 },
 "nbformat": 4,
 "nbformat_minor": 5
}
