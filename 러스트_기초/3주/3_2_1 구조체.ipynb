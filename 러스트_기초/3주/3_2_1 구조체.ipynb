{
 "cells": [
  {
   "cell_type": "markdown",
   "id": "a2d0b262",
   "metadata": {},
   "source": [
    "## 구조체 \n",
    "\n",
    "- 러스트에서 구조체는 데이터를 묶어 하나의 새로운 타입을 만드는 데 사용됩니다.\n",
    "- 구조체는 다른 언어에서의 클래스와 유사한 개념으로 사용할 수 있습니다.\n",
    "- 러스트에서 구조체는 데이터를 담는 데 사용되는 커스텀 타입을 정의할 때 사용됩니다.\n",
    "- 구조체는 필드로 구성되며, 각 필드는 해당 구조체의 인스턴스를 특정하는 데 사용됩니다. "
   ]
  },
  {
   "cell_type": "markdown",
   "id": "3a89809e",
   "metadata": {},
   "source": [
    "## 1.  구조체 정의와 인스턴스 생성\n",
    "\n",
    "- 구조체는 struct 예약어를 사용해서 필드들을 선언\n",
    "- 구조체의 인스턴스는 구조체 이름과 필드와 값을 지정해서 생성 : 리터럴 기법\n",
    "- 구조체의 연관함수 등을 사용해서 생성 "
   ]
  },
  {
   "cell_type": "markdown",
   "id": "9abab896",
   "metadata": {},
   "source": [
    "## 1-1 구조체 선언\n",
    "\n",
    "- 구조체를 정의할 때 struct 키워드를 사용합니다. \n",
    "- 구조체는 필드라 불리는 여러 변수를 가질 수 있으며, 이러한 필드는 쉼표로 구분하여 정의됩니다.\n",
    "- 구조체는 struct 키워드를 사용하여 정의되며, 필드는 필드이름: 필드타입 형식으로 선언됩니다."
   ]
  },
  {
   "cell_type": "markdown",
   "id": "027594ab",
   "metadata": {},
   "source": [
    "### 구조체의 필드에는 다양한 데이터 타입을 지정할 수 있습니다.\n",
    "\n",
    "- 구조체도 출력하려면 속성을 Debug로 지정이 필요"
   ]
  },
  {
   "cell_type": "code",
   "execution_count": 16,
   "id": "cf492f48",
   "metadata": {},
   "outputs": [],
   "source": [
    "#[derive(Debug)]\n",
    "struct User {\n",
    "    username: String,\n",
    "    email: String,\n",
    "    sign_in_count: u64,\n",
    "    active: bool,\n",
    "}"
   ]
  },
  {
   "cell_type": "code",
   "execution_count": null,
   "id": "47d79c3e",
   "metadata": {},
   "outputs": [],
   "source": []
  },
  {
   "cell_type": "code",
   "execution_count": 3,
   "id": "9867b117",
   "metadata": {},
   "outputs": [],
   "source": [
    "#[derive(Debug)]\n",
    "struct Person {\n",
    "    name: String,\n",
    "    age: u32,\n",
    "    is_student: bool,\n",
    "}"
   ]
  },
  {
   "cell_type": "markdown",
   "id": "42a74645",
   "metadata": {},
   "source": [
    "## 1-2 구조체  인스턴스 생성 \n",
    "\n",
    "- 구조체 이름과 블럭 내에 필드명과 값을 작성"
   ]
  },
  {
   "cell_type": "markdown",
   "id": "3fba4cbc",
   "metadata": {},
   "source": [
    "### 구조체 인스턴스를 생성\n",
    "\n",
    "- struct 키워드를 사용하여 구조체를 정의한 후, 해당 구조체의 필드를 초기화\n",
    "- 모든 필드의 값을 전부 지정해야 함 "
   ]
  },
  {
   "cell_type": "code",
   "execution_count": 17,
   "id": "8e9b5f16",
   "metadata": {},
   "outputs": [],
   "source": [
    "let user1 = User {\n",
    "    email: String::from(\"someone@example.com\"),\n",
    "    username: String::from(\"someusername123\"),\n",
    "    active: true,\n",
    "    sign_in_count: 1,\n",
    "};"
   ]
  },
  {
   "cell_type": "code",
   "execution_count": 5,
   "id": "4ea30888",
   "metadata": {},
   "outputs": [
    {
     "ename": "Error",
     "evalue": "Couldn't automatically determine type of variable `person1`.\nPlease give it an explicit type.",
     "output_type": "error",
     "traceback": [
      "Couldn't automatically determine type of variable `person1`.\nPlease give it an explicit type."
     ]
    }
   ],
   "source": [
    "let person1 = Person {\n",
    "    name: String::from(\"Alice\"),\n",
    "    age: 25,\n",
    "    is_student: true,\n",
    "};"
   ]
  },
  {
   "cell_type": "markdown",
   "id": "5cd01140",
   "metadata": {},
   "source": [
    "## 1-3 구조체 필드 접근하기\n"
   ]
  },
  {
   "cell_type": "markdown",
   "id": "da9841d3",
   "metadata": {},
   "source": [
    "### 점(.) 표기법을 사용"
   ]
  },
  {
   "cell_type": "code",
   "execution_count": 4,
   "id": "06c4aee7",
   "metadata": {},
   "outputs": [
    {
     "data": {
      "text/plain": [
       "\"someone@example.com\""
      ]
     },
     "execution_count": 4,
     "metadata": {},
     "output_type": "execute_result"
    }
   ],
   "source": [
    "user1.email"
   ]
  },
  {
   "cell_type": "code",
   "execution_count": 5,
   "id": "bf2e7beb",
   "metadata": {},
   "outputs": [
    {
     "data": {
      "text/plain": [
       "\"someusername123\""
      ]
     },
     "execution_count": 5,
     "metadata": {},
     "output_type": "execute_result"
    }
   ],
   "source": [
    "user1.username"
   ]
  },
  {
   "cell_type": "code",
   "execution_count": 6,
   "id": "3cf5c87d",
   "metadata": {},
   "outputs": [
    {
     "data": {
      "text/plain": [
       "true"
      ]
     },
     "execution_count": 6,
     "metadata": {},
     "output_type": "execute_result"
    }
   ],
   "source": [
    "user1.active"
   ]
  },
  {
   "cell_type": "code",
   "execution_count": 7,
   "id": "c2766fb3",
   "metadata": {},
   "outputs": [
    {
     "data": {
      "text/plain": [
       "1"
      ]
     },
     "execution_count": 7,
     "metadata": {},
     "output_type": "execute_result"
    }
   ],
   "source": [
    "user1.sign_in_count "
   ]
  },
  {
   "cell_type": "code",
   "execution_count": null,
   "id": "27811172",
   "metadata": {},
   "outputs": [],
   "source": []
  },
  {
   "cell_type": "code",
   "execution_count": 4,
   "id": "f0286900",
   "metadata": {},
   "outputs": [
    {
     "name": "stdout",
     "output_type": "stream",
     "text": [
      "Name: Alice\n",
      "Age: 25\n",
      "Is student: true\n"
     ]
    }
   ],
   "source": [
    "println!(\"Name: {}\", person1.name);\n",
    "println!(\"Age: {}\", person1.age);\n",
    "println!(\"Is student: {}\", person1.is_student);"
   ]
  },
  {
   "cell_type": "markdown",
   "id": "c69602e2",
   "metadata": {},
   "source": [
    "##  1-4 필드 값 변경 하기  \n",
    "\n",
    "-  구조체 인스턴스에 들어있는 값을 바꾸고자 할 때는, 점(.) 표기법을 사용하여 특정 필드에 새 값을 할당"
   ]
  },
  {
   "cell_type": "markdown",
   "id": "ff64f0a0",
   "metadata": {},
   "source": [
    "## 점표기법 접근 후 값을 할당 "
   ]
  },
  {
   "cell_type": "code",
   "execution_count": 8,
   "id": "91839ab7",
   "metadata": {},
   "outputs": [],
   "source": [
    "let mut user2 = User {\n",
    "    email: String::from(\"someone@example.com\"),\n",
    "    username: String::from(\"someusername123\"),\n",
    "    active: true,\n",
    "    sign_in_count: 1,\n",
    "};\n"
   ]
  },
  {
   "cell_type": "code",
   "execution_count": 9,
   "id": "6906e33f",
   "metadata": {},
   "outputs": [
    {
     "data": {
      "text/plain": [
       "\"someone@example.com\""
      ]
     },
     "execution_count": 9,
     "metadata": {},
     "output_type": "execute_result"
    }
   ],
   "source": [
    "user2.email "
   ]
  },
  {
   "cell_type": "code",
   "execution_count": 10,
   "id": "9f470701",
   "metadata": {},
   "outputs": [],
   "source": [
    "user2.email = String::from(\"anotheremail@example.com\");"
   ]
  },
  {
   "cell_type": "code",
   "execution_count": 11,
   "id": "c6516b4d",
   "metadata": {},
   "outputs": [
    {
     "data": {
      "text/plain": [
       "\"anotheremail@example.com\""
      ]
     },
     "execution_count": 11,
     "metadata": {},
     "output_type": "execute_result"
    }
   ],
   "source": [
    "user2.email "
   ]
  },
  {
   "cell_type": "markdown",
   "id": "0168a1bb",
   "metadata": {},
   "source": [
    "## 1-5  구조체의 구현 알아보기 \n",
    "\n",
    "- 구조체 구현은 impl 예약어와 구조체 이름을 사용한다.\n",
    "- 구조체 구현에는 메서드와 연관함수를 지정할 수 있다.\n",
    "- 연관함수와 메서드의 차이점은 매개변수에 구조체 인스턴스 정보이다 "
   ]
  },
  {
   "cell_type": "code",
   "execution_count": null,
   "id": "e5647ba3",
   "metadata": {},
   "outputs": [],
   "source": []
  },
  {
   "cell_type": "markdown",
   "id": "8cefa973",
   "metadata": {},
   "source": [
    "### 연관함수 지정하기\n",
    "\n",
    "- 구조체 인스턴스를 생성하기 위한 함수 정의\n",
    "- 메서드와 차이점은 객체 인스턴스 관련 정보를 매개변수에 지정하지 않는다. "
   ]
  },
  {
   "cell_type": "code",
   "execution_count": 14,
   "id": "051509b1",
   "metadata": {},
   "outputs": [],
   "source": [
    ":clear"
   ]
  },
  {
   "cell_type": "code",
   "execution_count": 18,
   "id": "f570b5f2",
   "metadata": {},
   "outputs": [],
   "source": [
    "impl User {\n",
    "    fn getString_(user:&Self) {\n",
    "        println!(\" hello method \");\n",
    "    }\n",
    "    \n",
    "    fn build_user_(email: String, username: String) -> User {\n",
    "        User {\n",
    "            email: email,\n",
    "            username: username,\n",
    "            active: true,\n",
    "            sign_in_count: 1,\n",
    "        }\n",
    "    }\n",
    "}"
   ]
  },
  {
   "cell_type": "code",
   "execution_count": 20,
   "id": "855258af",
   "metadata": {},
   "outputs": [
    {
     "name": "stdout",
     "output_type": "stream",
     "text": [
      " hello method \n"
     ]
    },
    {
     "data": {
      "text/plain": [
       "()"
      ]
     },
     "execution_count": 20,
     "metadata": {},
     "output_type": "execute_result"
    }
   ],
   "source": [
    "User::getString_(&user1)"
   ]
  },
  {
   "cell_type": "markdown",
   "id": "cdd11d86",
   "metadata": {},
   "source": [
    "###  연관함수로 인스턴스 생성 "
   ]
  },
  {
   "cell_type": "code",
   "execution_count": 14,
   "id": "6acfbbbe",
   "metadata": {},
   "outputs": [],
   "source": [
    "let user2 = User::build_user(String::from(\"someone@example.com\"),String::from(\"dahl\"));"
   ]
  },
  {
   "cell_type": "markdown",
   "id": "7016aebc",
   "metadata": {},
   "source": [
    "### 메서드 호출 "
   ]
  },
  {
   "cell_type": "code",
   "execution_count": 15,
   "id": "6aa980ab",
   "metadata": {},
   "outputs": [
    {
     "name": "stdout",
     "output_type": "stream",
     "text": [
      " hello method \n"
     ]
    },
    {
     "data": {
      "text/plain": [
       "()"
      ]
     },
     "execution_count": 15,
     "metadata": {},
     "output_type": "execute_result"
    }
   ],
   "source": [
    "user2.getString()"
   ]
  },
  {
   "cell_type": "markdown",
   "id": "67538cdf",
   "metadata": {},
   "source": [
    "### 함수를 정의해서 구조체의 인스턴스를 생성할 수 있다. "
   ]
  },
  {
   "cell_type": "code",
   "execution_count": 4,
   "id": "eee4ffaf",
   "metadata": {},
   "outputs": [],
   "source": [
    "fn build_user(email: String, username: String) -> User {\n",
    "    User {\n",
    "        email: email,\n",
    "        username: username,\n",
    "        active: true,\n",
    "        sign_in_count: 1,\n",
    "    }\n",
    "}"
   ]
  },
  {
   "cell_type": "code",
   "execution_count": null,
   "id": "add35488",
   "metadata": {},
   "outputs": [],
   "source": []
  },
  {
   "cell_type": "code",
   "execution_count": 5,
   "id": "43029e7a",
   "metadata": {},
   "outputs": [],
   "source": [
    "fn build_user_1(email: String, username: String) -> User {\n",
    "    User {\n",
    "        email,\n",
    "        username,\n",
    "        active: true,\n",
    "        sign_in_count: 1,\n",
    "    }\n",
    "}"
   ]
  },
  {
   "cell_type": "code",
   "execution_count": null,
   "id": "1067375e",
   "metadata": {},
   "outputs": [],
   "source": []
  },
  {
   "cell_type": "markdown",
   "id": "26c8837e",
   "metadata": {},
   "source": [
    "## 1-6 구조체에 구현된 new 함수 와 Self  사용하기"
   ]
  },
  {
   "cell_type": "code",
   "execution_count": 22,
   "id": "18b3baf4",
   "metadata": {},
   "outputs": [],
   "source": [
    "#[derive(Debug)]\n",
    "pub struct Person {\n",
    "    pub name: String,\n",
    "    age: u32,\n",
    "}"
   ]
  },
  {
   "cell_type": "markdown",
   "id": "9e88f1db",
   "metadata": {},
   "source": [
    "### Self 로 반환\n",
    "\n",
    "- 구조체 자기 타입으로 결과를 반환"
   ]
  },
  {
   "cell_type": "code",
   "execution_count": 24,
   "id": "09a0c71a",
   "metadata": {},
   "outputs": [],
   "source": [
    "impl Person {\n",
    "    fn new(name: String, age: u32) -> Self {\n",
    "        Person { name, age }\n",
    "    }\n",
    "}\n",
    "\n",
    "let person = Person::new(String::from(\"Bob\"), 25);"
   ]
  },
  {
   "cell_type": "markdown",
   "id": "eb0b8911",
   "metadata": {},
   "source": [
    "### 구조체로 반환 "
   ]
  },
  {
   "cell_type": "code",
   "execution_count": 24,
   "id": "aef9614d",
   "metadata": {},
   "outputs": [],
   "source": [
    "impl Person {\n",
    "    fn new_(name: String, age: Option<u32>) -> Person {\n",
    "        let default_age = 18;\n",
    "        Person {\n",
    "            name,\n",
    "            age: age.unwrap_or(default_age),\n",
    "        }\n",
    "    }\n",
    "}"
   ]
  },
  {
   "cell_type": "markdown",
   "id": "e973498a",
   "metadata": {},
   "source": [
    "### 동일한 결과"
   ]
  },
  {
   "cell_type": "code",
   "execution_count": 27,
   "id": "c02c70c1",
   "metadata": {},
   "outputs": [
    {
     "name": "stdout",
     "output_type": "stream",
     "text": [
      " Person { name: \"Alice\", age: 20 }\n",
      " Person { name: \"Bob\", age: 18 }\n"
     ]
    }
   ],
   "source": [
    "let person1 = Person::new(String::from(\"Alice\"), 20);\n",
    "let person2 = Person::new_(String::from(\"Bob\"), None);\n",
    "\n",
    "println!(\" {:?}\", person1);\n",
    "println!(\" {:?}\", person2);"
   ]
  },
  {
   "cell_type": "code",
   "execution_count": null,
   "id": "b000e992",
   "metadata": {},
   "outputs": [],
   "source": []
  },
  {
   "cell_type": "markdown",
   "id": "45a7a6dd",
   "metadata": {},
   "source": [
    "## 2. 구조체 선언과 구현 전체 사용해보기 \n",
    "\n",
    "- std::fmt::Debug라는 트레이트가 구현되어 있지 않아서 그런다고 한다.\n",
    "- {:?}는 디버그 출력 형태로 결과를 출력하는데\n",
    "- std::fmt::Debug 트레이트가 구현되어 있어야 그것이 가능해진다.\n",
    "- 우리는 구조체 정의 앞에 #[derive(Debug)] 애노테이션을 추가함으로써 그것을 할 수 있다."
   ]
  },
  {
   "cell_type": "code",
   "execution_count": 14,
   "id": "06427a7b",
   "metadata": {},
   "outputs": [],
   "source": [
    "#[derive(Debug)]\n",
    "struct Rectangle {\n",
    "    height: u32,\n",
    "    width: u32,\n",
    "}\n",
    "\n",
    "impl Rectangle {\n",
    "    fn area(&self) -> u32 {\n",
    "        self.height * self.width\n",
    "    }\n",
    "    \n",
    "    fn can_hold(&self, other: &Rectangle) -> bool {\n",
    "        self.area()  >  other.area()\n",
    "    }\n",
    "    \n",
    "    fn square(size: u32) -> Rectangle {\n",
    "        Rectangle {\n",
    "            width: size,\n",
    "            height: size,\n",
    "        }\n",
    "    }\n",
    "    \n",
    "    fn new(width: u32, height: u32) -> Rectangle {\n",
    "        Rectangle {\n",
    "            width,\n",
    "            height,\n",
    "        }\n",
    "    }\n",
    "}"
   ]
  },
  {
   "cell_type": "code",
   "execution_count": null,
   "id": "1745dd42",
   "metadata": {},
   "outputs": [],
   "source": []
  },
  {
   "cell_type": "code",
   "execution_count": 19,
   "id": "1a36b963",
   "metadata": {},
   "outputs": [],
   "source": [
    "fn main() {\n",
    "    let rect1 = Rectangle { height: 50, width: 30 };\n",
    "    let rect2 = Rectangle { height: 40, width: 30 };\n",
    "\n",
    "    println!(\"면적은 {} square pixels.\",rect1.area());\n",
    "    \n",
    "    println!(\"내 면적이 크다  {} \",rect1.can_hold(&rect2));\n",
    "    \n",
    "    let aaa =  Rectangle::square(10);\n",
    "    \n",
    "    println!(\"면적은  {} square pixels.\",\n",
    "        aaa.area()\n",
    "    );\n",
    "}"
   ]
  },
  {
   "cell_type": "code",
   "execution_count": 20,
   "id": "a71ef9ae",
   "metadata": {},
   "outputs": [
    {
     "name": "stdout",
     "output_type": "stream",
     "text": [
      "면적은 1500 square pixels.\n",
      "내 면적이 크다  true \n",
      "면적은  100 square pixels.\n"
     ]
    },
    {
     "data": {
      "text/plain": [
       "()"
      ]
     },
     "execution_count": 20,
     "metadata": {},
     "output_type": "execute_result"
    }
   ],
   "source": [
    "main()"
   ]
  },
  {
   "cell_type": "code",
   "execution_count": null,
   "id": "c4a11fa7",
   "metadata": {},
   "outputs": [],
   "source": []
  }
 ],
 "metadata": {
  "kernelspec": {
   "display_name": "Rust",
   "language": "rust",
   "name": "rust"
  },
  "language_info": {
   "codemirror_mode": "rust",
   "file_extension": ".rs",
   "mimetype": "text/rust",
   "name": "Rust",
   "pygment_lexer": "rust",
   "version": ""
  }
 },
 "nbformat": 4,
 "nbformat_minor": 5
}
