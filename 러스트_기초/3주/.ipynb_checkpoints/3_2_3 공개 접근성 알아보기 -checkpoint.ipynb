{
 "cells": [
  {
   "cell_type": "code",
   "execution_count": null,
   "id": "726eafdb",
   "metadata": {},
   "outputs": [],
   "source": []
  },
  {
   "cell_type": "markdown",
   "id": "5190fb5a",
   "metadata": {},
   "source": [
    "## 1. 공개 접근성 알아보기 \n",
    "\n",
    "- 동일한 모듈에서 접근이 가능하다. "
   ]
  },
  {
   "cell_type": "markdown",
   "id": "64db728c",
   "metadata": {},
   "source": [
    "## 공개접근성\n",
    "- pub은 접근성 제어 키워드로 사용됩니다. pub 키워드를 사용하여 해당 요소를 외부로 공개할 수 있습니다. \n",
    "- pub 키워드는 모듈, 구조체, 열거형, 함수, 변수 등에 적용될 수 있습니다.\n",
    "\n",
    "### 공개가 필요한 경우 지정 필요\n",
    "- pub 키워드를 사용하면 해당 요소가 모듈 외부에서도 접근 가능하게 됩니다. \n",
    "- 이는 모듈 내부와 외부 간의 인터페이스를 정의하는 데 유용합니다. \n",
    "- 외부에서 사용되어야 하는 함수, 구조체 등을 pub으로 선언하여 모듈의 공개 API를 정의할 수 있습니다."
   ]
  },
  {
   "cell_type": "code",
   "execution_count": null,
   "id": "a969d81b",
   "metadata": {},
   "outputs": [],
   "source": []
  },
  {
   "cell_type": "markdown",
   "id": "384269f6",
   "metadata": {},
   "source": [
    "## 1-1 동일한 모듈은 바로 사용"
   ]
  },
  {
   "cell_type": "code",
   "execution_count": 2,
   "id": "7b9a6d60",
   "metadata": {},
   "outputs": [
    {
     "name": "stdout",
     "output_type": "stream",
     "text": [
      "blub\n"
     ]
    }
   ],
   "source": [
    "struct SeaCreature {\n",
    "    name: String,\n",
    "    noise: String,\n",
    "}\n",
    "\n",
    "impl SeaCreature {\n",
    "    fn get_sound(&self) -> &str {\n",
    "        &self.noise\n",
    "    }\n",
    "}\n",
    "\n",
    "fn main() {\n",
    "    let creature = SeaCreature {\n",
    "        name: String::from(\"Ferris\"),\n",
    "        noise: String::from(\"blub\"),\n",
    "    };\n",
    "    println!(\"{}\", creature.get_sound());\n",
    "}\n",
    "\n",
    "main();"
   ]
  },
  {
   "cell_type": "markdown",
   "id": "34baca74",
   "metadata": {},
   "source": [
    "## 1-2  형제 모듈일 경우는 내부 아이템을 공개 필요 "
   ]
  },
  {
   "cell_type": "markdown",
   "id": "183195b6",
   "metadata": {},
   "source": [
    "### 구조체 공개 방법\n",
    "\n",
    "- 구조체는 구조체와 필드에 대해 각각 공개가 필요하다.\n",
    "- 구조체의 메서드는 메서드 별로 공개를 처리 "
   ]
  },
  {
   "cell_type": "code",
   "execution_count": 3,
   "id": "9603dc0a",
   "metadata": {},
   "outputs": [
    {
     "name": "stdout",
     "output_type": "stream",
     "text": [
      "blub\n"
     ]
    }
   ],
   "source": [
    "mod Aaa { \n",
    "    pub struct SeaCreature1 {        // 다른 모듈에서 사용할 때는 구조체를 공개 \n",
    "        pub name: String,            // 필드도 공개가 필요 \n",
    "        pub noise: String,\n",
    "   }\n",
    "\n",
    "   impl SeaCreature1 {\n",
    "        pub fn get_sound(&self) -> &str {\n",
    "            &self.noise\n",
    "        }\n",
    "    }\n",
    "}\n",
    "\n",
    "fn main() {\n",
    "    let creature = Aaa::SeaCreature1 {  // 인스턴스 생성할 때는 형제 모듈의 구조체를 참조 \n",
    "        name: String::from(\"Ferris\"),\n",
    "        noise: String::from(\"blub\"),\n",
    "    };\n",
    "    println!(\"{}\", creature.get_sound());\n",
    "}\n",
    "\n",
    "main();"
   ]
  },
  {
   "cell_type": "markdown",
   "id": "8f666014",
   "metadata": {},
   "source": [
    "## 1-3  자식 모듈에 있을 경우는 전부 공개 필요 \n",
    "\n",
    "- 모듈을 단계별 구조화하면 해당하는 모듈가 그 내부의 구조체/필드와 메서드 등에 필요하면 공개를 처리해야 한다.\n",
    "- 해당 모듈을 접근할 때는 :: 를 사용해서 모듈의 단계별 접근을 처리해야 한다. "
   ]
  },
  {
   "cell_type": "code",
   "execution_count": 4,
   "id": "72e85b83",
   "metadata": {},
   "outputs": [
    {
     "name": "stdout",
     "output_type": "stream",
     "text": [
      "blub\n"
     ]
    }
   ],
   "source": [
    "mod Aaa1 { \n",
    "    pub mod Bbb { \n",
    "        pub struct SeaCreature {\n",
    "            pub name: String,\n",
    "            pub noise: String,\n",
    "       }\n",
    "\n",
    "       impl SeaCreature {\n",
    "            pub fn get_sound(&self) -> &str {\n",
    "                &self.noise\n",
    "            }\n",
    "        }\n",
    "    }\n",
    "}\n",
    "\n",
    "fn main() {\n",
    "    let creature = Aaa1::Bbb::SeaCreature {\n",
    "        name: String::from(\"Ferris\"),\n",
    "        noise: String::from(\"blub\"),\n",
    "    };\n",
    "    println!(\"{}\", creature.get_sound());\n",
    "}\n",
    "\n",
    "main();"
   ]
  },
  {
   "cell_type": "markdown",
   "id": "8f3a8b20",
   "metadata": {},
   "source": [
    "## 1-4 구조체 정의와 모듈을 분리\n",
    "\n",
    "- 구현을 분리해서 다른 모듈에 정의할 때는 구조체를 외부에 공개해야 한다. \n",
    "- 구조체 구현은 항상 동일한 이름을 사용해서 구현한다.\n",
    "\n",
    "### 구조체 접근할 때\n",
    "\n",
    "- super는 최상위의 모듈부터 하위 모듈로 접근할 때 사용한다 \n",
    "- self는 현재 모듈에서 하위모듈로 접근할 때 사용 \n",
    "- pub use 는 현재 모듈을 외부의 공개 및 사용하도록 지정 \n"
   ]
  },
  {
   "cell_type": "code",
   "execution_count": 6,
   "id": "dac39ebd",
   "metadata": {},
   "outputs": [
    {
     "name": "stdout",
     "output_type": "stream",
     "text": [
      "Color(255, 255, 255)\n",
      "Color(255, 0, 0)\n",
      "Color(255, 0, 0)\n"
     ]
    }
   ],
   "source": [
    "pub mod color {\n",
    "    #[derive(Debug)]\n",
    "    pub struct Color(pub u8, pub u8, pub u8);\n",
    "\n",
    "    impl Color {\n",
    "        pub const WHITE: Color = Color(255, 255, 255);\n",
    "    }\n",
    "}\n",
    "\n",
    "pub mod values {\n",
    "    use super::color::Color;\n",
    "    impl Color {\n",
    "        pub fn red() -> Color {\n",
    "            Color(255, 0, 0)\n",
    "        }\n",
    "    }\n",
    "}\n",
    "\n",
    "pub use self::color::Color;               // 현재 \n",
    "fn main() {\n",
    "    \n",
    "    println!(\"{:?}\", color::Color::WHITE);\n",
    "    println!(\"{:?}\",color::Color::red());\n",
    "    println!(\"{:?}\",Color::red());\n",
    "    // values::Color::red();              // Color 구조체를 인식하지 못함\n",
    "}\n",
    "\n",
    "main();"
   ]
  },
  {
   "cell_type": "code",
   "execution_count": null,
   "id": "ff61be14",
   "metadata": {},
   "outputs": [],
   "source": []
  },
  {
   "cell_type": "code",
   "execution_count": null,
   "id": "d422867d",
   "metadata": {},
   "outputs": [],
   "source": []
  }
 ],
 "metadata": {
  "kernelspec": {
   "display_name": "Rust",
   "language": "rust",
   "name": "rust"
  },
  "language_info": {
   "codemirror_mode": "rust",
   "file_extension": ".rs",
   "mimetype": "text/rust",
   "name": "Rust",
   "pygment_lexer": "rust",
   "version": ""
  }
 },
 "nbformat": 4,
 "nbformat_minor": 5
}
