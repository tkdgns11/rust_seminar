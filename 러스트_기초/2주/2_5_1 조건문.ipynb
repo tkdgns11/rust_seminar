{
 "cells": [
  {
   "cell_type": "markdown",
   "id": "28d5f681",
   "metadata": {},
   "source": [
    "## 1. 조건문 \n",
    "\n",
    "- 특정 조건식이 만족할 경우 처리한다. 특정 로직의 분기 처리를 수행한다.\n",
    "- 조건식의 결과는 항상 논리값으로만 평가되어야 된다.\n",
    "- 논리값도 변수에 할당하는 표현식으로 사용된다. \n"
   ]
  },
  {
   "cell_type": "markdown",
   "id": "15b9495d",
   "metadata": {},
   "source": [
    "## 불리언 객체 \n",
    "\n",
    "- 불리언(Boolean) 자료형을 표현하기 위해 bool 타입을 제공합니다. \n",
    "- bool 타입은 두 가지 값을 가질 수 있습니다: true와 false."
   ]
  },
  {
   "cell_type": "code",
   "execution_count": 3,
   "id": "25c55185",
   "metadata": {},
   "outputs": [],
   "source": [
    "let t : bool = true;\n",
    "let f : bool = false;"
   ]
  },
  {
   "cell_type": "code",
   "execution_count": null,
   "id": "5aa72cc3",
   "metadata": {},
   "outputs": [],
   "source": []
  },
  {
   "cell_type": "markdown",
   "id": "d49339dc",
   "metadata": {},
   "source": [
    "## 조건식으로 사용가능한 연산자 \n",
    "\n",
    "- 논리 연산자(&&, ||, !)를 사용하여 조건을 조합하고, \n",
    "- 비교 연산자(==, !=, <, >, <=, >=)를 사용하여 값들을 비교할 수도 있습니다. \n",
    "- 이러한 연산자들을 조합하여 복잡한 조건을 처리할 수 있습니다."
   ]
  },
  {
   "cell_type": "code",
   "execution_count": null,
   "id": "67a3b0e8",
   "metadata": {},
   "outputs": [],
   "source": []
  },
  {
   "cell_type": "markdown",
   "id": "8dd70d0d",
   "metadata": {},
   "source": [
    "## 1-1 단일 if 문..\n",
    "- 항상 참인 경우만 체클 할 때 사용 "
   ]
  },
  {
   "cell_type": "code",
   "execution_count": 4,
   "id": "37e74d0d",
   "metadata": {},
   "outputs": [
    {
     "name": "stdout",
     "output_type": "stream",
     "text": [
      " 동일한 결과일 경우 \n"
     ]
    }
   ],
   "source": [
    "fn main() {\n",
    "    let number = 3;\n",
    "\n",
    "    if number == 3 {\n",
    "        println!(\" 동일한 결과일 경우 \");\n",
    "    }\n",
    "}\n",
    "\n",
    "main();"
   ]
  },
  {
   "cell_type": "markdown",
   "id": "d1b2c697",
   "metadata": {},
   "source": [
    "###  조건식일 때는 항상 논리값을 결과로 처리\n",
    "\n",
    "- number는 정수형이라서 예외 발생함 "
   ]
  },
  {
   "cell_type": "code",
   "execution_count": 5,
   "id": "b2766b4a",
   "metadata": {},
   "outputs": [
    {
     "ename": "Error",
     "evalue": "mismatched types",
     "output_type": "error",
     "traceback": [
      "\u001b[31m[E0308] Error:\u001b[0m mismatched types",
      "   \u001b[38;5;246m╭\u001b[0m\u001b[38;5;246m─\u001b[0m\u001b[38;5;246m[\u001b[0mcommand_5:1:1\u001b[38;5;246m]\u001b[0m",
      "   \u001b[38;5;246m│\u001b[0m",
      " \u001b[38;5;246m4 │\u001b[0m \u001b[38;5;249m \u001b[0m\u001b[38;5;249m \u001b[0m\u001b[38;5;249m \u001b[0m\u001b[38;5;249m \u001b[0m\u001b[38;5;249mi\u001b[0m\u001b[38;5;249mf\u001b[0m\u001b[38;5;249m \u001b[0m\u001b[38;5;54mn\u001b[0m\u001b[38;5;54mu\u001b[0m\u001b[38;5;54mm\u001b[0m\u001b[38;5;54mb\u001b[0m\u001b[38;5;54me\u001b[0m\u001b[38;5;54mr\u001b[0m\u001b[38;5;249m \u001b[0m\u001b[38;5;249m{\u001b[0m",
      " \u001b[38;5;246m  ·\u001b[0m        \u001b[38;5;54m─\u001b[0m\u001b[38;5;54m─\u001b[0m\u001b[38;5;54m─\u001b[0m\u001b[38;5;54m┬\u001b[0m\u001b[38;5;54m─\u001b[0m\u001b[38;5;54m─\u001b[0m  ",
      " \u001b[38;5;246m  ·\u001b[0m           \u001b[38;5;54m╰\u001b[0m\u001b[38;5;54m─\u001b[0m\u001b[38;5;54m─\u001b[0m\u001b[38;5;54m─\u001b[0m\u001b[38;5;54m─\u001b[0m expected `bool`, found integer",
      "\u001b[38;5;246m───╯\u001b[0m"
     ]
    }
   ],
   "source": [
    "fn main() {\n",
    "    let number = 3;\n",
    "\n",
    "    if number {\n",
    "        println!(\"number was three\");\n",
    "    }\n",
    "}\n",
    "\n",
    "main();"
   ]
  },
  {
   "cell_type": "markdown",
   "id": "75927efb",
   "metadata": {},
   "source": [
    "## 1-2  단일 if else 문\n",
    "- 특정 조건식이 참과 거짓을 판단할 때 사용 "
   ]
  },
  {
   "cell_type": "code",
   "execution_count": 6,
   "id": "b6184cf7",
   "metadata": {},
   "outputs": [
    {
     "name": "stdout",
     "output_type": "stream",
     "text": [
      "condition was true\n"
     ]
    }
   ],
   "source": [
    "fn main() {\n",
    "    let number = 3;\n",
    "\n",
    "    if number < 5 {\n",
    "        println!(\"condition was true\");\n",
    "    } else {\n",
    "        println!(\"condition was false\");\n",
    "    }\n",
    "}\n",
    "\n",
    "main();"
   ]
  },
  {
   "cell_type": "code",
   "execution_count": null,
   "id": "b2b3047c",
   "metadata": {},
   "outputs": [],
   "source": []
  },
  {
   "cell_type": "markdown",
   "id": "b5dfa1b4",
   "metadata": {},
   "source": [
    "### 논리식 즉 특정값을 비교연산해서 참과 거짓으로 처리 "
   ]
  },
  {
   "cell_type": "code",
   "execution_count": 4,
   "id": "e520ebd0",
   "metadata": {},
   "outputs": [],
   "source": [
    "fn main() {\n",
    "    let number = 3;\n",
    "\n",
    "    if number != 0 {\n",
    "        println!(\"number was something other than zero\");\n",
    "    }\n",
    "}"
   ]
  },
  {
   "cell_type": "code",
   "execution_count": 5,
   "id": "8a425388",
   "metadata": {},
   "outputs": [
    {
     "name": "stdout",
     "output_type": "stream",
     "text": [
      "number was something other than zero\n"
     ]
    },
    {
     "data": {
      "text/plain": [
       "()"
      ]
     },
     "execution_count": 5,
     "metadata": {},
     "output_type": "execute_result"
    }
   ],
   "source": [
    "main()"
   ]
  },
  {
   "cell_type": "markdown",
   "id": "87169a26",
   "metadata": {},
   "source": [
    "## 1-3 복합 제어문\n",
    "\n",
    "- 조건식이 여러 개일 경우 else if를 추가해서 사용한다. "
   ]
  },
  {
   "cell_type": "code",
   "execution_count": 8,
   "id": "932cf64e",
   "metadata": {},
   "outputs": [
    {
     "name": "stdout",
     "output_type": "stream",
     "text": [
      "number is divisible by 3\n"
     ]
    }
   ],
   "source": [
    "fn main() {\n",
    "    let number = 6;\n",
    "\n",
    "    if number % 4 == 0 {\n",
    "        println!(\"number is divisible by 4\");\n",
    "    } else if number % 3 == 0 {\n",
    "        println!(\"number is divisible by 3\");\n",
    "    } else if number % 2 == 0 {\n",
    "        println!(\"number is divisible by 2\");\n",
    "    } else {\n",
    "        println!(\"number is not divisible by 4, 3, or 2\");\n",
    "    }\n",
    "}\n",
    "\n",
    "main();"
   ]
  },
  {
   "cell_type": "code",
   "execution_count": null,
   "id": "4b5a2fef",
   "metadata": {},
   "outputs": [],
   "source": []
  },
  {
   "cell_type": "markdown",
   "id": "eb46e039",
   "metadata": {},
   "source": [
    "## 1-4 조건표현식 처리하기\n",
    "\n",
    "- 조건의 결과를 변수에 할당할 수 있다. \n",
    "- 평가된 결과를 반환해야 하므로 참과 거짓의 결과가 값으로 반환되어야 한다. "
   ]
  },
  {
   "cell_type": "code",
   "execution_count": 7,
   "id": "fd0620df",
   "metadata": {},
   "outputs": [
    {
     "name": "stdout",
     "output_type": "stream",
     "text": [
      " 반환된 값 : 5\n"
     ]
    }
   ],
   "source": [
    "fn main() {\n",
    "    let condition = true;\n",
    "    let number = if condition {\n",
    "        5\n",
    "    } else {\n",
    "        6\n",
    "    };\n",
    "\n",
    "    println!(\" 반환된 값 : {}\", number);\n",
    "}\n",
    "\n",
    "main();"
   ]
  },
  {
   "cell_type": "code",
   "execution_count": null,
   "id": "20605942",
   "metadata": {},
   "outputs": [],
   "source": []
  },
  {
   "cell_type": "code",
   "execution_count": null,
   "id": "3035deb6",
   "metadata": {},
   "outputs": [],
   "source": []
  }
 ],
 "metadata": {
  "kernelspec": {
   "display_name": "Rust",
   "language": "rust",
   "name": "rust"
  },
  "language_info": {
   "codemirror_mode": "rust",
   "file_extension": ".rs",
   "mimetype": "text/rust",
   "name": "Rust",
   "pygment_lexer": "rust",
   "version": ""
  }
 },
 "nbformat": 4,
 "nbformat_minor": 5
}
