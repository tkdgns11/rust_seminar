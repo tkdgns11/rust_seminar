{
 "cells": [
  {
   "cell_type": "code",
   "execution_count": null,
   "id": "eecdd3fb",
   "metadata": {},
   "outputs": [],
   "source": []
  },
  {
   "cell_type": "code",
   "execution_count": null,
   "id": "a2fce7e6",
   "metadata": {},
   "outputs": [],
   "source": []
  },
  {
   "cell_type": "markdown",
   "id": "9dff117a",
   "metadata": {},
   "source": [
    "# 1. 구조체 제너릭 "
   ]
  },
  {
   "cell_type": "code",
   "execution_count": null,
   "id": "a8a34c06",
   "metadata": {},
   "outputs": [],
   "source": []
  },
  {
   "cell_type": "markdown",
   "id": "f38d6e3b",
   "metadata": {},
   "source": [
    "## 1-1 명시적인 구조체 처리 "
   ]
  },
  {
   "cell_type": "markdown",
   "id": "c61d4347",
   "metadata": {},
   "source": [
    "### 유닛구조체와 튜플구조체 정의 "
   ]
  },
  {
   "cell_type": "code",
   "execution_count": 2,
   "id": "92239aad",
   "metadata": {},
   "outputs": [],
   "source": [
    "struct A;          // Concrete type `A`.\n",
    "struct S(A);       // Concrete type `S`."
   ]
  },
  {
   "cell_type": "markdown",
   "id": "f2701706",
   "metadata": {},
   "source": [
    "### 타입구조체를 처리하는 함수 "
   ]
  },
  {
   "cell_type": "code",
   "execution_count": 3,
   "id": "b30997f1",
   "metadata": {},
   "outputs": [],
   "source": [
    "fn reg_fn(_s: S) {}"
   ]
  },
  {
   "cell_type": "markdown",
   "id": "bd72e84f",
   "metadata": {},
   "source": [
    "### 메인함수에서 튜플 구조체 처리 실행"
   ]
  },
  {
   "cell_type": "code",
   "execution_count": 16,
   "id": "65a61da4",
   "metadata": {},
   "outputs": [],
   "source": [
    "fn main() {\n",
    "    // Using the non-generic functions\n",
    "    let a = A;\n",
    "    let s = S(a);\n",
    "    reg_fn(s);          // Concrete type.\n",
    "\n",
    "    println!(\"Success!\");\n",
    "}\n"
   ]
  },
  {
   "cell_type": "code",
   "execution_count": 17,
   "id": "e88a1dc6",
   "metadata": {},
   "outputs": [
    {
     "name": "stdout",
     "output_type": "stream",
     "text": [
      "Success!\n"
     ]
    },
    {
     "data": {
      "text/plain": [
       "()"
      ]
     },
     "execution_count": 17,
     "metadata": {},
     "output_type": "execute_result"
    }
   ],
   "source": [
    "main()"
   ]
  },
  {
   "cell_type": "markdown",
   "id": "89073fa7",
   "metadata": {},
   "source": [
    "## 1-2 구조체 제너릭 처리 알아보기 "
   ]
  },
  {
   "cell_type": "code",
   "execution_count": 4,
   "id": "61fa0b70",
   "metadata": {},
   "outputs": [],
   "source": [
    "struct SGen<T>(T); // Generic type `SGen`.\n"
   ]
  },
  {
   "cell_type": "code",
   "execution_count": 6,
   "id": "87f868fb",
   "metadata": {},
   "outputs": [],
   "source": [
    "fn gen_spec_t(_s: SGen<A>) {}         // 특정 자료형 가진 구조체 사용함수 \n",
    "\n",
    "fn gen_spec_i32(_s: SGen<i32>) {}     // 프리미티브 자료형 가진 구조체 사용 함수 \n",
    "\n",
    "fn generic<T>(_s: SGen<T>) {}         // 제너릭 구조체 사용함수 "
   ]
  },
  {
   "cell_type": "code",
   "execution_count": null,
   "id": "e6588baa",
   "metadata": {},
   "outputs": [],
   "source": []
  },
  {
   "cell_type": "code",
   "execution_count": 7,
   "id": "9e56700d",
   "metadata": {},
   "outputs": [],
   "source": [
    "fn main() {\n",
    "                                // Using the non-generic functions\n",
    "    let a = A;\n",
    "    \n",
    "    let sg = SGen(a);\n",
    "    gen_spec_t(sg);             // Implicitly specified type parameter `A`.\n",
    "    \n",
    "    let a32 = 100; \n",
    "    let sg32 = SGen(a32);\n",
    "    gen_spec_i32(sg32);         // Implicitly specified type parameter `i32`.\n",
    "    \n",
    "    let gen = 'b';\n",
    "    let sg322 = SGen(gen);\n",
    "                                // Explicitly specified type parameter `char` to `generic()`.\n",
    "    generic::<char>(sg322);\n",
    "    let sg323 = SGen(gen);\n",
    "                                // Implicitly specified type parameter `char` to `generic()`.\n",
    "    generic(sg323);\n",
    "\n",
    "    println!(\"Success!\");\n",
    "}\n"
   ]
  },
  {
   "cell_type": "code",
   "execution_count": 8,
   "id": "046b3da2",
   "metadata": {},
   "outputs": [
    {
     "name": "stdout",
     "output_type": "stream",
     "text": [
      "Success!\n"
     ]
    },
    {
     "data": {
      "text/plain": [
       "()"
      ]
     },
     "execution_count": 8,
     "metadata": {},
     "output_type": "execute_result"
    }
   ],
   "source": [
    "main()"
   ]
  },
  {
   "cell_type": "markdown",
   "id": "6c7b1e46",
   "metadata": {},
   "source": [
    "## 1-3. 제너릭 구조체의 필드 타입 지정하기"
   ]
  },
  {
   "cell_type": "markdown",
   "id": "3cecd74a",
   "metadata": {},
   "source": [
    "## 1-3-1 필드의 타입이 다른데 동일하게 처리한  경우 "
   ]
  },
  {
   "cell_type": "markdown",
   "id": "42390f20",
   "metadata": {},
   "source": [
    "### 명시적인 타입처리할 때는 정확한 타입체크 "
   ]
  },
  {
   "cell_type": "code",
   "execution_count": 6,
   "id": "20c3cc5c",
   "metadata": {},
   "outputs": [
    {
     "ename": "Error",
     "evalue": "mismatched types",
     "output_type": "error",
     "traceback": [
      "\u001b[31m[E0308] Error:\u001b[0m mismatched types",
      "    \u001b[38;5;246m╭\u001b[0m\u001b[38;5;246m─\u001b[0m\u001b[38;5;246m[\u001b[0mcommand_6:1:1\u001b[38;5;246m]\u001b[0m",
      "    \u001b[38;5;246m│\u001b[0m",
      " \u001b[38;5;246m14 │\u001b[0m \u001b[38;5;249m \u001b[0m\u001b[38;5;249m \u001b[0m\u001b[38;5;249m \u001b[0m\u001b[38;5;249m \u001b[0m\u001b[38;5;249ml\u001b[0m\u001b[38;5;249me\u001b[0m\u001b[38;5;249mt\u001b[0m\u001b[38;5;249m \u001b[0m\u001b[38;5;249my\u001b[0m\u001b[38;5;249m \u001b[0m\u001b[38;5;249m=\u001b[0m\u001b[38;5;249m \u001b[0m\u001b[38;5;249mV\u001b[0m\u001b[38;5;249ma\u001b[0m\u001b[38;5;249ml\u001b[0m\u001b[38;5;249m{\u001b[0m\u001b[38;5;249m \u001b[0m\u001b[38;5;249mv\u001b[0m\u001b[38;5;249ma\u001b[0m\u001b[38;5;249ml\u001b[0m\u001b[38;5;249m:\u001b[0m\u001b[38;5;249m \u001b[0m\u001b[38;5;54m\"\u001b[0m\u001b[38;5;54mh\u001b[0m\u001b[38;5;54me\u001b[0m\u001b[38;5;54ml\u001b[0m\u001b[38;5;54ml\u001b[0m\u001b[38;5;54mo\u001b[0m\u001b[38;5;54m\"\u001b[0m\u001b[38;5;54m.\u001b[0m\u001b[38;5;54mt\u001b[0m\u001b[38;5;54mo\u001b[0m\u001b[38;5;54m_\u001b[0m\u001b[38;5;54ms\u001b[0m\u001b[38;5;54mt\u001b[0m\u001b[38;5;54mr\u001b[0m\u001b[38;5;54mi\u001b[0m\u001b[38;5;54mn\u001b[0m\u001b[38;5;54mg\u001b[0m\u001b[38;5;54m(\u001b[0m\u001b[38;5;54m)\u001b[0m\u001b[38;5;249m}\u001b[0m\u001b[38;5;249m;\u001b[0m",
      " \u001b[38;5;246m   ·\u001b[0m                       \u001b[38;5;54m─\u001b[0m\u001b[38;5;54m─\u001b[0m\u001b[38;5;54m─\u001b[0m\u001b[38;5;54m─\u001b[0m\u001b[38;5;54m─\u001b[0m\u001b[38;5;54m─\u001b[0m\u001b[38;5;54m─\u001b[0m\u001b[38;5;54m─\u001b[0m\u001b[38;5;54m─\u001b[0m\u001b[38;5;54m┬\u001b[0m\u001b[38;5;54m─\u001b[0m\u001b[38;5;54m─\u001b[0m\u001b[38;5;54m─\u001b[0m\u001b[38;5;54m─\u001b[0m\u001b[38;5;54m─\u001b[0m\u001b[38;5;54m─\u001b[0m\u001b[38;5;54m─\u001b[0m\u001b[38;5;54m─\u001b[0m\u001b[38;5;54m─\u001b[0m  ",
      " \u001b[38;5;246m   ·\u001b[0m                                \u001b[38;5;54m╰\u001b[0m\u001b[38;5;54m─\u001b[0m\u001b[38;5;54m─\u001b[0m\u001b[38;5;54m─\u001b[0m\u001b[38;5;54m─\u001b[0m\u001b[38;5;54m─\u001b[0m\u001b[38;5;54m─\u001b[0m\u001b[38;5;54m─\u001b[0m\u001b[38;5;54m─\u001b[0m\u001b[38;5;54m─\u001b[0m\u001b[38;5;54m─\u001b[0m\u001b[38;5;54m─\u001b[0m expected `f64`, found struct `String`",
      "\u001b[38;5;246m────╯\u001b[0m"
     ]
    }
   ],
   "source": [
    "struct Val {\n",
    "    val: f64,\n",
    "}\n",
    "\n",
    "impl Val {\n",
    "    fn value(&self) -> &f64 {\n",
    "        &self.val\n",
    "    }\n",
    "}\n",
    "\n",
    "\n",
    "fn main() {\n",
    "    let x = Val{ val: 3.0 };\n",
    "    let y = Val{ val: \"hello\".to_string()};\n",
    "    println!(\"{}, {}\", x.value(), y.value());\n",
    "}\n"
   ]
  },
  {
   "cell_type": "code",
   "execution_count": 8,
   "id": "bd488988",
   "metadata": {},
   "outputs": [
    {
     "name": "stdout",
     "output_type": "stream",
     "text": [
      "3, 10\n"
     ]
    },
    {
     "data": {
      "text/plain": [
       "()"
      ]
     },
     "execution_count": 8,
     "metadata": {},
     "output_type": "execute_result"
    }
   ],
   "source": [
    "main()"
   ]
  },
  {
   "cell_type": "markdown",
   "id": "cc9107d4",
   "metadata": {},
   "source": [
    "### 항상 동일한 자료형으로 처리"
   ]
  },
  {
   "cell_type": "code",
   "execution_count": 7,
   "id": "91dbad5f",
   "metadata": {},
   "outputs": [],
   "source": [
    "struct Val {\n",
    "    val: f64,\n",
    "}\n",
    "\n",
    "impl Val {\n",
    "    fn value(&self) -> &f64 {\n",
    "        &self.val\n",
    "    }\n",
    "}\n",
    "\n",
    "\n",
    "fn main() {\n",
    "    let x = Val{ val: 3.0 };\n",
    "    let y = Val{ val: 10.0};\n",
    "    println!(\"{}, {}\", x.value(), y.value());\n",
    "}\n"
   ]
  },
  {
   "cell_type": "markdown",
   "id": "247d5000",
   "metadata": {},
   "source": [
    "### 제너릭도 항상 동일한 자료형 처리를 요구"
   ]
  },
  {
   "cell_type": "code",
   "execution_count": 10,
   "id": "1125c3fa",
   "metadata": {},
   "outputs": [],
   "source": [
    "// Modify this struct to make the code work\n",
    "struct Point<T> {\n",
    "    x: T,\n",
    "    y: T,\n",
    "}"
   ]
  },
  {
   "cell_type": "code",
   "execution_count": 11,
   "id": "f348aa95",
   "metadata": {},
   "outputs": [
    {
     "ename": "Error",
     "evalue": "mismatched types",
     "output_type": "error",
     "traceback": [
      "\u001b[31m[E0308] Error:\u001b[0m mismatched types",
      "   \u001b[38;5;246m╭\u001b[0m\u001b[38;5;246m─\u001b[0m\u001b[38;5;246m[\u001b[0mcommand_11:1:1\u001b[38;5;246m]\u001b[0m",
      "   \u001b[38;5;246m│\u001b[0m",
      " \u001b[38;5;246m3 │\u001b[0m \u001b[38;5;249m \u001b[0m\u001b[38;5;249m \u001b[0m\u001b[38;5;249m \u001b[0m\u001b[38;5;249m \u001b[0m\u001b[38;5;249ml\u001b[0m\u001b[38;5;249me\u001b[0m\u001b[38;5;249mt\u001b[0m\u001b[38;5;249m \u001b[0m\u001b[38;5;249mp\u001b[0m\u001b[38;5;249m \u001b[0m\u001b[38;5;249m=\u001b[0m\u001b[38;5;249m \u001b[0m\u001b[38;5;249mP\u001b[0m\u001b[38;5;249mo\u001b[0m\u001b[38;5;249mi\u001b[0m\u001b[38;5;249mn\u001b[0m\u001b[38;5;249mt\u001b[0m\u001b[38;5;249m{\u001b[0m\u001b[38;5;249mx\u001b[0m\u001b[38;5;249m:\u001b[0m\u001b[38;5;249m \u001b[0m\u001b[38;5;249m5\u001b[0m\u001b[38;5;249m,\u001b[0m\u001b[38;5;249m \u001b[0m\u001b[38;5;249my\u001b[0m\u001b[38;5;249m \u001b[0m\u001b[38;5;249m:\u001b[0m\u001b[38;5;249m \u001b[0m\u001b[38;5;54m\"\u001b[0m\u001b[38;5;54mh\u001b[0m\u001b[38;5;54me\u001b[0m\u001b[38;5;54ml\u001b[0m\u001b[38;5;54ml\u001b[0m\u001b[38;5;54mo\u001b[0m\u001b[38;5;54m\"\u001b[0m\u001b[38;5;54m.\u001b[0m\u001b[38;5;54mt\u001b[0m\u001b[38;5;54mo\u001b[0m\u001b[38;5;54m_\u001b[0m\u001b[38;5;54ms\u001b[0m\u001b[38;5;54mt\u001b[0m\u001b[38;5;54mr\u001b[0m\u001b[38;5;54mi\u001b[0m\u001b[38;5;54mn\u001b[0m\u001b[38;5;54mg\u001b[0m\u001b[38;5;54m(\u001b[0m\u001b[38;5;54m)\u001b[0m\u001b[38;5;249m}\u001b[0m\u001b[38;5;249m;\u001b[0m",
      " \u001b[38;5;246m  ·\u001b[0m                             \u001b[38;5;54m─\u001b[0m\u001b[38;5;54m─\u001b[0m\u001b[38;5;54m─\u001b[0m\u001b[38;5;54m─\u001b[0m\u001b[38;5;54m─\u001b[0m\u001b[38;5;54m─\u001b[0m\u001b[38;5;54m─\u001b[0m\u001b[38;5;54m─\u001b[0m\u001b[38;5;54m─\u001b[0m\u001b[38;5;54m┬\u001b[0m\u001b[38;5;54m─\u001b[0m\u001b[38;5;54m─\u001b[0m\u001b[38;5;54m─\u001b[0m\u001b[38;5;54m─\u001b[0m\u001b[38;5;54m─\u001b[0m\u001b[38;5;54m─\u001b[0m\u001b[38;5;54m─\u001b[0m\u001b[38;5;54m─\u001b[0m\u001b[38;5;54m─\u001b[0m  ",
      " \u001b[38;5;246m  ·\u001b[0m                                      \u001b[38;5;54m╰\u001b[0m\u001b[38;5;54m─\u001b[0m\u001b[38;5;54m─\u001b[0m\u001b[38;5;54m─\u001b[0m\u001b[38;5;54m─\u001b[0m\u001b[38;5;54m─\u001b[0m\u001b[38;5;54m─\u001b[0m\u001b[38;5;54m─\u001b[0m\u001b[38;5;54m─\u001b[0m\u001b[38;5;54m─\u001b[0m\u001b[38;5;54m─\u001b[0m\u001b[38;5;54m─\u001b[0m expected integer, found `String`",
      "\u001b[38;5;246m───╯\u001b[0m"
     ]
    }
   ],
   "source": [
    "fn main() {\n",
    "    // DON'T modify this code.\n",
    "    let p = Point{x: 5, y : \"hello\".to_string()};\n",
    "\n",
    "    println!(\"Success!\");\n",
    "}"
   ]
  },
  {
   "cell_type": "code",
   "execution_count": 12,
   "id": "e77a9c98",
   "metadata": {},
   "outputs": [
    {
     "name": "stdout",
     "output_type": "stream",
     "text": [
      "Success!\n"
     ]
    }
   ],
   "source": [
    "fn main() {\n",
    "    // DON'T modify this code.\n",
    "    let p = Point{x: 5, y : 100};\n",
    "\n",
    "    println!(\"Success!\");\n",
    "}\n",
    "\n",
    "main();"
   ]
  },
  {
   "cell_type": "code",
   "execution_count": null,
   "id": "a9d50788",
   "metadata": {},
   "outputs": [],
   "source": []
  },
  {
   "cell_type": "markdown",
   "id": "804539e2",
   "metadata": {},
   "source": [
    "## 1-3-2 필드의 타입이 다른 경우 "
   ]
  },
  {
   "cell_type": "code",
   "execution_count": 3,
   "id": "3073a226",
   "metadata": {},
   "outputs": [],
   "source": [
    "struct Point<T:Add<Output=T>,U> {\n",
    "    x: T,\n",
    "    y: U,\n",
    "}\n",
    "\n",
    "fn main() {\n",
    "    // DON'T modify this code.\n",
    "    let p = Point{x: 5, y : \"hello\".to_string()};\n",
    "\n",
    "    println!(\"Success!\");\n",
    "}"
   ]
  },
  {
   "cell_type": "code",
   "execution_count": 4,
   "id": "497e4297",
   "metadata": {},
   "outputs": [
    {
     "name": "stdout",
     "output_type": "stream",
     "text": [
      "Success!\n"
     ]
    },
    {
     "data": {
      "text/plain": [
       "()"
      ]
     },
     "execution_count": 4,
     "metadata": {},
     "output_type": "execute_result"
    }
   ],
   "source": [
    "main()"
   ]
  },
  {
   "cell_type": "markdown",
   "id": "51015139",
   "metadata": {},
   "source": [
    "## 1-4 구조체 구현 제너릭\n",
    "\n",
    "- 벡터를 사용자 정의 벡터로 만들기 "
   ]
  },
  {
   "cell_type": "code",
   "execution_count": 3,
   "id": "d3cb6a68",
   "metadata": {},
   "outputs": [],
   "source": [
    "use std::ops::Add;"
   ]
  },
  {
   "cell_type": "code",
   "execution_count": 2,
   "id": "ae8474ab",
   "metadata": {},
   "outputs": [],
   "source": [
    "struct MyVec<T> {\n",
    "    data: Vec<T>,\n",
    "}\n"
   ]
  },
  {
   "cell_type": "markdown",
   "id": "748d5f87",
   "metadata": {},
   "source": [
    "### 메서드 구현을 위해서는 impl 다음에 타입매개변수를 지정해야 함 "
   ]
  },
  {
   "cell_type": "code",
   "execution_count": 3,
   "id": "e002418b",
   "metadata": {},
   "outputs": [],
   "source": [
    "impl<T> MyVec<T>  {\n",
    "    fn new() -> MyVec<T> {\n",
    "        MyVec { data: Vec::new() }\n",
    "    }\n",
    "\n",
    "    fn push(&mut self, value: T) {\n",
    "        self.data.push(value);\n",
    "    }\n",
    "\n",
    "    fn pop(&mut self) -> Option<T> {\n",
    "        self.data.pop()\n",
    "    }\n",
    "}"
   ]
  },
  {
   "cell_type": "code",
   "execution_count": 12,
   "id": "d87222b5",
   "metadata": {},
   "outputs": [],
   "source": [
    "impl MyVec<i32>  {\n",
    "    fn new_1() -> MyVec<i32> {\n",
    "        MyVec { data: vec![1,2,3] }\n",
    "    }\n",
    "}"
   ]
  },
  {
   "cell_type": "code",
   "execution_count": 15,
   "id": "3daf2176",
   "metadata": {},
   "outputs": [],
   "source": [
    "fn main() {\n",
    "    let mut v = MyVec::new();\n",
    "    v.push(1);\n",
    "    v.push(2);\n",
    "    v.push(3);\n",
    "\n",
    "    while let Some(x) = v.pop() {\n",
    "        println!(\"{}\", x);\n",
    "    }\n",
    "}"
   ]
  },
  {
   "cell_type": "code",
   "execution_count": 16,
   "id": "ce356193",
   "metadata": {},
   "outputs": [
    {
     "name": "stdout",
     "output_type": "stream",
     "text": [
      "3\n",
      "2\n",
      "1\n"
     ]
    }
   ],
   "source": [
    "main();"
   ]
  },
  {
   "cell_type": "code",
   "execution_count": null,
   "id": "3435737b",
   "metadata": {},
   "outputs": [],
   "source": []
  }
 ],
 "metadata": {
  "kernelspec": {
   "display_name": "Rust",
   "language": "rust",
   "name": "rust"
  },
  "language_info": {
   "codemirror_mode": "rust",
   "file_extension": ".rs",
   "mimetype": "text/rust",
   "name": "Rust",
   "pygment_lexer": "rust",
   "version": ""
  }
 },
 "nbformat": 4,
 "nbformat_minor": 5
}
