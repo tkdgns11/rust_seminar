{
 "cells": [
  {
   "cell_type": "code",
   "execution_count": null,
   "id": "3d89cca9",
   "metadata": {},
   "outputs": [],
   "source": []
  },
  {
   "cell_type": "markdown",
   "id": "6a9b079a",
   "metadata": {},
   "source": [
    "## 1.  동적 타입에 대한 바운드 처리 \n",
    "\n",
    "- 스마트 포인터는 컴파일시점에 모든 것이 확정되지 않아 동적 타입이다.\n",
    "- 이때 ?Sized는 크기가 고정되지 않는 트레이트 제한이다.\n",
    "- std::fmt::Debug도 고정되지 않는 객체를 위한 트레이트이다. \n",
    "- 함수의 트레이트를 표시할 때는 실제 매개변수와 반환타입까지 지정해야 함 "
   ]
  },
  {
   "cell_type": "markdown",
   "id": "7a49dcae",
   "metadata": {},
   "source": [
    "##  ?Sized는 트레이트 제약(트레이트 바운드)\n",
    "\n",
    "- ?Sized는 사이즈가 알려지지 않은 타입에 대한 표현입니다.\n",
    "\n",
    "### 동적인 트레이트 처리 \n",
    "\n",
    "- 일반적으로 러스트에서 제네릭(Generic)으로 사용되는 타입은 컴파일 시점에 크기가 알려져 있어야 합니다. \n",
    "- 하지만 ?Sized를 사용하면 크기가 알려지지 않은 타입을 제네릭으로 사용할 수 있습니다. \n",
    "- 예를 들어, T: ?Sized는 T가 크기가 알려지지 않은 타입일 수 있다는 것을 의미합니다.\n",
    "\n",
    "### ?Sized 트레이트 제약은 주로 슬라이스(Slice)와 같이 동적 크기를 가지는 타입에 대한 제네릭 처리에 사용됩니다. \n",
    "- 슬라이스는 실행 시간에 크기가 결정되기 때문에 컴파일 시점에 크기를 알 수 없습니다. \n",
    "- 따라서 ?Sized 제약을 사용하여 슬라이스와 같은 동적 크기 타입을 처리할 수 있습니다."
   ]
  },
  {
   "cell_type": "markdown",
   "id": "b7981854",
   "metadata": {},
   "source": [
    "## 1-1 문자열이나 벡터 처리 "
   ]
  },
  {
   "cell_type": "markdown",
   "id": "4e6565b0",
   "metadata": {},
   "source": [
    "## Box 스마트 포인터 \n",
    "- 주로 동적으로 할당된 데이터에 대한 소유권을 관리하기 위해 사용됩니다. \n",
    "\n",
    "### 다음은 Box의 주요 특징입니다:\n",
    "\n",
    "- 힙에 할당된 데이터 소유: Box는 힙에 할당된 데이터에 대한 소유권을 가집니다. 스마트 포인터로써 데이터의 메모리 할당과 해제를 자동으로 처리합니다.\n",
    "\n",
    "- 고정 크기: Box는 고정 크기를 가지는 포인터로, 스택에 저장될 때 고정된 크기만을 차지합니다.\n",
    "\n",
    "- 소유권 전이: Box는 소유권 전이(semantics of ownership transfer)를 통해 데이터를 소유합니다. 다른 Box나 함수에 소유권을 전달할 수 있으며, 이를 통해 데이터의 소유자를 이동시킬 수 있습니다."
   ]
  },
  {
   "cell_type": "markdown",
   "id": "d5b99492",
   "metadata": {},
   "source": [
    "## 스마트 포인터 처리하는 제너릭 함수 정의 \n",
    "\n",
    "- ?Sized를 사용해서 동적인 자료형을 스마트 포인터에 넣는다. "
   ]
  },
  {
   "cell_type": "code",
   "execution_count": 3,
   "id": "b6178bac",
   "metadata": {},
   "outputs": [],
   "source": [
    "fn print_box<T:std::fmt::Debug + ?Sized>(b: Box<T>) {\n",
    "    println!(\"{:?}\", b);\n",
    "}"
   ]
  },
  {
   "cell_type": "markdown",
   "id": "68715f8a",
   "metadata": {},
   "source": [
    "### 문자열과 벡터 처리 "
   ]
  },
  {
   "cell_type": "code",
   "execution_count": 2,
   "id": "55afffbb",
   "metadata": {},
   "outputs": [
    {
     "name": "stdout",
     "output_type": "stream",
     "text": [
      "\"가을이\"\n",
      "[1, 2, 3]\n"
     ]
    }
   ],
   "source": [
    "fn main() {\n",
    "    print_box(Box::new(String::from(\"가을이\")));\n",
    "    print_box(Box::new(vec![1,2,3]));\n",
    "}\n",
    "\n",
    "main();"
   ]
  },
  {
   "cell_type": "markdown",
   "id": "f6978bf6",
   "metadata": {},
   "source": [
    "### 원시 자료형을 넣고 처리할 경우 "
   ]
  },
  {
   "cell_type": "code",
   "execution_count": 13,
   "id": "b3514761",
   "metadata": {},
   "outputs": [],
   "source": [
    "fn print_box_1<T: Sized + std::fmt::Debug>(b: Box<T>) {\n",
    "    println!(\"{:?}\", b);\n",
    "}"
   ]
  },
  {
   "cell_type": "code",
   "execution_count": 14,
   "id": "f168931e",
   "metadata": {},
   "outputs": [
    {
     "name": "stdout",
     "output_type": "stream",
     "text": [
      "100\n"
     ]
    }
   ],
   "source": [
    "fn main() {\n",
    "    print_box_1(Box::new(100));\n",
    "}\n",
    "\n",
    "main();"
   ]
  },
  {
   "cell_type": "code",
   "execution_count": null,
   "id": "181fae7e",
   "metadata": {},
   "outputs": [],
   "source": []
  },
  {
   "cell_type": "code",
   "execution_count": 15,
   "id": "9475214a",
   "metadata": {},
   "outputs": [
    {
     "name": "stdout",
     "output_type": "stream",
     "text": [
      "\"겨울이\"\n"
     ]
    }
   ],
   "source": [
    "fn main() {\n",
    "    print_box_1(Box::new(String::from(\"겨울이\")));\n",
    "}\n",
    "\n",
    "main();"
   ]
  },
  {
   "cell_type": "markdown",
   "id": "37e0d6f9",
   "metadata": {},
   "source": [
    "## 1-2  동적으로 함수 및 슬라이스 실행"
   ]
  },
  {
   "cell_type": "markdown",
   "id": "da5bfd1e",
   "metadata": {},
   "source": [
    "### 함수를 동적으로 처리 "
   ]
  },
  {
   "cell_type": "code",
   "execution_count": 16,
   "id": "3e8e00e8",
   "metadata": {},
   "outputs": [
    {
     "name": "stdout",
     "output_type": "stream",
     "text": [
      " 출력 \n"
     ]
    }
   ],
   "source": [
    "fn add() {\n",
    "    println!(\" 출력 \");\n",
    "}\n",
    "\n",
    "fn print_box1<T:Fn()->()>(b: Box<T>) {\n",
    "    b()\n",
    "}\n",
    "\n",
    "fn main() {\n",
    "    print_box1(Box::new(add));\n",
    "}\n",
    "\n",
    "main();"
   ]
  },
  {
   "cell_type": "markdown",
   "id": "b1a47924",
   "metadata": {},
   "source": [
    "### 슬라이스을 동적으로 처리 "
   ]
  },
  {
   "cell_type": "code",
   "execution_count": 17,
   "id": "09404dc6",
   "metadata": {},
   "outputs": [
    {
     "name": "stdout",
     "output_type": "stream",
     "text": [
      "Size of data: 5\n",
      "Size of data: 3\n"
     ]
    }
   ],
   "source": [
    "fn process<T: ?Sized>(data: &T) {\n",
    "    println!(\"Size of data: {}\", std::mem::size_of_val(data));\n",
    "    // 동적 크기 타입에 대한 처리\n",
    "}\n",
    "\n",
    "fn main() {\n",
    "    let array: [u8; 5] = [1, 2, 3, 4, 5];\n",
    "    let slice: &[u8] = &array[1..=3];\n",
    "\n",
    "    process(&array); // 정적 크기 타입인 배열 호출\n",
    "    process(slice); // 동적 크기 타입인 슬라이스 호출\n",
    "}\n",
    "\n",
    "main();"
   ]
  },
  {
   "cell_type": "code",
   "execution_count": null,
   "id": "a1b8dc22",
   "metadata": {},
   "outputs": [],
   "source": []
  },
  {
   "cell_type": "code",
   "execution_count": null,
   "id": "26ef9432",
   "metadata": {},
   "outputs": [],
   "source": []
  }
 ],
 "metadata": {
  "kernelspec": {
   "display_name": "Rust",
   "language": "rust",
   "name": "rust"
  },
  "language_info": {
   "codemirror_mode": "rust",
   "file_extension": ".rs",
   "mimetype": "text/rust",
   "name": "Rust",
   "pygment_lexer": "rust",
   "version": ""
  }
 },
 "nbformat": 4,
 "nbformat_minor": 5
}
