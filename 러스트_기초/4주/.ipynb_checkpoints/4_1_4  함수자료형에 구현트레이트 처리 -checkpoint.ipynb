{
 "cells": [
  {
   "cell_type": "code",
   "execution_count": null,
   "id": "f18ca417",
   "metadata": {},
   "outputs": [],
   "source": []
  },
  {
   "cell_type": "markdown",
   "id": "19202e37",
   "metadata": {},
   "source": [
    "## 1. impl Trait 처리 "
   ]
  },
  {
   "cell_type": "markdown",
   "id": "82519f2a",
   "metadata": {},
   "source": [
    "### 타입을 처리하는 함수 정의 "
   ]
  },
  {
   "cell_type": "code",
   "execution_count": 2,
   "id": "38aca3df",
   "metadata": {},
   "outputs": [],
   "source": [
    "use std::any::type_name;\n",
    "\n",
    "fn type_of<T>(_: T) -> &'static str {\n",
    "    type_name::<T>()\n",
    "}"
   ]
  },
  {
   "cell_type": "code",
   "execution_count": null,
   "id": "75ba9cd5",
   "metadata": {},
   "outputs": [],
   "source": []
  },
  {
   "cell_type": "markdown",
   "id": "e2b2bcb4",
   "metadata": {},
   "source": [
    "## 1-1 impl 트레이트 지정하기\n",
    "\n",
    "- 함수 매개변수와 반환타입으로 지정이 가능 \n",
    "- 트레이트가 구현된 매개변수를 전달을 받아서 처리할 수 있다. "
   ]
  },
  {
   "cell_type": "code",
   "execution_count": 3,
   "id": "ed42765b",
   "metadata": {},
   "outputs": [],
   "source": [
    "fn copy(_item: impl Copy) {\n",
    "    println!(\"Copy\");\n",
    "}\n",
    "\n",
    "fn clone(_item: impl Clone) {\n",
    "    println!(\"Clone\");\n",
    "}"
   ]
  },
  {
   "cell_type": "code",
   "execution_count": 4,
   "id": "521a97dd",
   "metadata": {},
   "outputs": [
    {
     "name": "stdout",
     "output_type": "stream",
     "text": [
      "Copy\n",
      "Clone\n",
      "Clone\n"
     ]
    }
   ],
   "source": [
    "fn main() {\n",
    "    let num = 1;\n",
    "    copy(num);\n",
    "    clone(num);\n",
    "\n",
    "    let string = String::from(\"Hello\");\n",
    "    clone(string);\n",
    "    // copy(string); // 🤯\n",
    "}\n",
    "main();"
   ]
  },
  {
   "cell_type": "code",
   "execution_count": null,
   "id": "e37b8470",
   "metadata": {},
   "outputs": [],
   "source": []
  },
  {
   "cell_type": "markdown",
   "id": "ce9c2ccd",
   "metadata": {},
   "source": [
    "## 1-2  함수 자료형도 구현 트레이트 처리 "
   ]
  },
  {
   "cell_type": "markdown",
   "id": "eb50c3ee",
   "metadata": {},
   "source": [
    "### 구현 트레이트로 처리하기 "
   ]
  },
  {
   "cell_type": "code",
   "execution_count": 5,
   "id": "06b3b830",
   "metadata": {},
   "outputs": [],
   "source": [
    "fn f(g: impl FnOnce() -> String) {\n",
    "    println!(\"{}\", g());\n",
    "}"
   ]
  },
  {
   "cell_type": "code",
   "execution_count": 6,
   "id": "1ba4027d",
   "metadata": {},
   "outputs": [
    {
     "name": "stdout",
     "output_type": "stream",
     "text": [
      "foobar\n"
     ]
    }
   ],
   "source": [
    "fn main() {\n",
    "    let mut s = String::from(\"foo\");\n",
    "    let t = String::from(\"bar\");\n",
    "\n",
    "    f(|| {s += &t;s});\n",
    "}\n",
    "\n",
    "main();"
   ]
  },
  {
   "cell_type": "markdown",
   "id": "651d6e65",
   "metadata": {},
   "source": [
    "### 구현 트레이트 처리시 예외 발생 \n",
    "\n",
    "- 왜냐하면 구현 트레이트는 오직 함수와 메서드만 처리가 가능\n",
    "- 클로저로 처리된 경우는 예외발생 "
   ]
  },
  {
   "cell_type": "code",
   "execution_count": 7,
   "id": "62b70779",
   "metadata": {},
   "outputs": [],
   "source": [
    "pub fn make_quadratic(a: f64, b: f64, c: f64) -> impl Fn(f64) -> f64 {\n",
    "    move |x| a*x*x + b*x + c\n",
    "}"
   ]
  },
  {
   "cell_type": "markdown",
   "id": "2400ae52",
   "metadata": {},
   "source": [
    "### 클로저가 들어오면 예외  "
   ]
  },
  {
   "cell_type": "code",
   "execution_count": 8,
   "id": "4a4f3a36",
   "metadata": {},
   "outputs": [
    {
     "ename": "Error",
     "evalue": "`impl Trait` only allowed in function and inherent method return types, not in variable bindings",
     "output_type": "error",
     "traceback": [
      "\u001b[31m[E0562] Error:\u001b[0m `impl Trait` only allowed in function and inherent method return types, not in variable bindings",
      "   \u001b[38;5;246m╭\u001b[0m\u001b[38;5;246m─\u001b[0m\u001b[38;5;246m[\u001b[0mcommand_8:1:1\u001b[38;5;246m]\u001b[0m",
      "   \u001b[38;5;246m│\u001b[0m",
      " \u001b[38;5;246m2 │\u001b[0m \u001b[38;5;249m \u001b[0m\u001b[38;5;249m \u001b[0m\u001b[38;5;249m \u001b[0m\u001b[38;5;249m \u001b[0m\u001b[38;5;249ml\u001b[0m\u001b[38;5;249me\u001b[0m\u001b[38;5;249mt\u001b[0m\u001b[38;5;249m \u001b[0m\u001b[38;5;249mq\u001b[0m\u001b[38;5;249mu\u001b[0m\u001b[38;5;249ma\u001b[0m\u001b[38;5;249md\u001b[0m\u001b[38;5;249m_\u001b[0m\u001b[38;5;249mf\u001b[0m\u001b[38;5;249mn\u001b[0m\u001b[38;5;249m:\u001b[0m\u001b[38;5;249m \u001b[0m\u001b[38;5;54mi\u001b[0m\u001b[38;5;54mm\u001b[0m\u001b[38;5;54mp\u001b[0m\u001b[38;5;54ml\u001b[0m\u001b[38;5;54m \u001b[0m\u001b[38;5;54mF\u001b[0m\u001b[38;5;54mn\u001b[0m\u001b[38;5;54m(\u001b[0m\u001b[38;5;54mf\u001b[0m\u001b[38;5;54m6\u001b[0m\u001b[38;5;54m4\u001b[0m\u001b[38;5;54m)\u001b[0m\u001b[38;5;54m \u001b[0m\u001b[38;5;54m-\u001b[0m\u001b[38;5;54m>\u001b[0m\u001b[38;5;54m \u001b[0m\u001b[38;5;54mf\u001b[0m\u001b[38;5;54m6\u001b[0m\u001b[38;5;54m4\u001b[0m\u001b[38;5;249m \u001b[0m\u001b[38;5;249m=\u001b[0m\u001b[38;5;249m \u001b[0m\u001b[38;5;249mm\u001b[0m\u001b[38;5;249ma\u001b[0m\u001b[38;5;249mk\u001b[0m\u001b[38;5;249me\u001b[0m\u001b[38;5;249m_\u001b[0m\u001b[38;5;249mq\u001b[0m\u001b[38;5;249mu\u001b[0m\u001b[38;5;249ma\u001b[0m\u001b[38;5;249md\u001b[0m\u001b[38;5;249mr\u001b[0m\u001b[38;5;249ma\u001b[0m\u001b[38;5;249mt\u001b[0m\u001b[38;5;249mi\u001b[0m\u001b[38;5;249mc\u001b[0m\u001b[38;5;249m(\u001b[0m\u001b[38;5;249m5\u001b[0m\u001b[38;5;249m.\u001b[0m\u001b[38;5;249m0\u001b[0m\u001b[38;5;249m,\u001b[0m\u001b[38;5;249m \u001b[0m\u001b[38;5;249m4\u001b[0m\u001b[38;5;249m.\u001b[0m\u001b[38;5;249m0\u001b[0m\u001b[38;5;249m,\u001b[0m\u001b[38;5;249m \u001b[0m\u001b[38;5;249m3\u001b[0m\u001b[38;5;249m.\u001b[0m\u001b[38;5;249m0\u001b[0m\u001b[38;5;249m)\u001b[0m\u001b[38;5;249m;\u001b[0m",
      " \u001b[38;5;246m  ·\u001b[0m                  \u001b[38;5;54m─\u001b[0m\u001b[38;5;54m─\u001b[0m\u001b[38;5;54m─\u001b[0m\u001b[38;5;54m─\u001b[0m\u001b[38;5;54m─\u001b[0m\u001b[38;5;54m─\u001b[0m\u001b[38;5;54m─\u001b[0m\u001b[38;5;54m─\u001b[0m\u001b[38;5;54m─\u001b[0m\u001b[38;5;54m┬\u001b[0m\u001b[38;5;54m─\u001b[0m\u001b[38;5;54m─\u001b[0m\u001b[38;5;54m─\u001b[0m\u001b[38;5;54m─\u001b[0m\u001b[38;5;54m─\u001b[0m\u001b[38;5;54m─\u001b[0m\u001b[38;5;54m─\u001b[0m\u001b[38;5;54m─\u001b[0m\u001b[38;5;54m─\u001b[0m  ",
      " \u001b[38;5;246m  ·\u001b[0m                           \u001b[38;5;54m╰\u001b[0m\u001b[38;5;54m─\u001b[0m\u001b[38;5;54m─\u001b[0m\u001b[38;5;54m─\u001b[0m\u001b[38;5;54m─\u001b[0m\u001b[38;5;54m─\u001b[0m\u001b[38;5;54m─\u001b[0m\u001b[38;5;54m─\u001b[0m\u001b[38;5;54m─\u001b[0m\u001b[38;5;54m─\u001b[0m\u001b[38;5;54m─\u001b[0m\u001b[38;5;54m─\u001b[0m error: `impl Trait` only allowed in function and inherent method return types, not in variable bindings",
      "\u001b[38;5;246m───╯\u001b[0m"
     ]
    }
   ],
   "source": [
    "fn main() { \n",
    "    let quad_fn: impl Fn(f64) -> f64 = make_quadratic(5.0, 4.0, 3.0);\n",
    "           //error: `impl Trait` only allowed in function and inherent method return types\n",
    "    println!(\"{}\", type_of(&quad_fn));\n",
    "}\n",
    "\n",
    "main();"
   ]
  },
  {
   "cell_type": "markdown",
   "id": "33371dd7",
   "metadata": {},
   "source": [
    "### 그래서 반환결과를 처리 결과로 변환해야 함 "
   ]
  },
  {
   "cell_type": "code",
   "execution_count": 9,
   "id": "6baa060f",
   "metadata": {},
   "outputs": [
    {
     "name": "stdout",
     "output_type": "stream",
     "text": [
      "&ctx::make_quadratic::{{closure}}\n",
      "543\n"
     ]
    }
   ],
   "source": [
    "fn main() { \n",
    "    let quad_fn = make_quadratic(5.0, 4.0, 3.0);\n",
    "    \n",
    "    println!(\"{}\", type_of(&quad_fn));\n",
    "    \n",
    "    println!(\"{}\", call_make_quadratic(10.0));\n",
    "}\n",
    "\n",
    "\n",
    "pub fn call_make_quadratic(x: f64) -> f64 {\n",
    "    let quad_fn = make_quadratic(5.0, 4.0, 3.0);\n",
    "    quad_fn(x) \n",
    "}\n",
    "\n",
    "main();"
   ]
  },
  {
   "cell_type": "code",
   "execution_count": null,
   "id": "16c526f4",
   "metadata": {},
   "outputs": [],
   "source": []
  },
  {
   "cell_type": "markdown",
   "id": "635466e0",
   "metadata": {},
   "source": [
    "## 1-3 구현트레이트와 트레이트 객체 혼용"
   ]
  },
  {
   "cell_type": "code",
   "execution_count": null,
   "id": "83f35f97",
   "metadata": {},
   "outputs": [],
   "source": []
  },
  {
   "cell_type": "code",
   "execution_count": 11,
   "id": "a10df36e",
   "metadata": {},
   "outputs": [],
   "source": [
    "pub fn make_quadratic_box(a: f64, b: f64, c: f64) -> Box<dyn Fn(f64) -> f64> {\n",
    "    Box::new(make_quadratic(a, b, c))\n",
    "}\n",
    "\n",
    "pub fn make_quadratic_no_capture() -> impl Fn(f64) -> f64 {\n",
    "    |x| 42.0*x*x + 84.0*x + 0.0\n",
    "}\n",
    "\n",
    "pub fn make_quadratic_box_no_capture() -> Box<dyn Fn(f64) -> f64> {\n",
    "    Box::new(make_quadratic_no_capture())\n",
    "}"
   ]
  },
  {
   "cell_type": "code",
   "execution_count": 12,
   "id": "f4783dd5",
   "metadata": {},
   "outputs": [
    {
     "name": "stdout",
     "output_type": "stream",
     "text": [
      "1017062.1650670001\n",
      "430353.5418\n",
      "430353.5418\n"
     ]
    }
   ],
   "source": [
    "fn main() {\n",
    "    let a = 100.23f64;\n",
    "    let b = make_quadratic_box(a,a,a);\n",
    "    println!(\"{}\", b(a));\n",
    "    \n",
    "    let c = make_quadratic_no_capture();\n",
    "    println!(\"{}\", c(a));\n",
    "    let d = make_quadratic_box_no_capture();\n",
    "    println!(\"{}\", d(a));\n",
    "}\n",
    "\n",
    "main();"
   ]
  },
  {
   "cell_type": "code",
   "execution_count": null,
   "id": "d2f73aa9",
   "metadata": {},
   "outputs": [],
   "source": []
  },
  {
   "cell_type": "code",
   "execution_count": null,
   "id": "75db5bec",
   "metadata": {},
   "outputs": [],
   "source": []
  }
 ],
 "metadata": {
  "kernelspec": {
   "display_name": "Rust",
   "language": "rust",
   "name": "rust"
  },
  "language_info": {
   "codemirror_mode": "rust",
   "file_extension": ".rs",
   "mimetype": "text/rust",
   "name": "Rust",
   "pygment_lexer": "rust",
   "version": ""
  }
 },
 "nbformat": 4,
 "nbformat_minor": 5
}
