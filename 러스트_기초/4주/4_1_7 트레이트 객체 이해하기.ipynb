{
 "cells": [
  {
   "cell_type": "code",
   "execution_count": null,
   "id": "f3deeba4",
   "metadata": {},
   "outputs": [],
   "source": []
  },
  {
   "cell_type": "markdown",
   "id": "44b6c13d",
   "metadata": {},
   "source": [
    "##  트레이트(Trait) 객체(Trait Objects)\n",
    "\n",
    "- 동적 디스패치(dynamic dispatch)를 위해 사용되는 메커니즘입니다. \n",
    "-  특정 트레이트를 구현한 다양한 타입의 값들을 통일된 인터페이스로 다룰 수 있게 해줍니다.\n",
    "\n",
    "- 특정 트레이트를 구현한 타입의 값에 대한 참조나 스마트 포인터로서 동작합니다. \n",
    "- 이를 통해 다형성(polymorphism)을 구현할 수 있으며, 런타임에 동적으로 다양한 타입의 객체를 다룰 수 있는 유연성을 제공합니다."
   ]
  },
  {
   "cell_type": "markdown",
   "id": "b9e62cfc",
   "metadata": {},
   "source": [
    "## 1-1 함수 매개변수에 트레이트 객체 정의하기"
   ]
  },
  {
   "cell_type": "code",
   "execution_count": null,
   "id": "7872974b",
   "metadata": {},
   "outputs": [],
   "source": []
  },
  {
   "cell_type": "code",
   "execution_count": 6,
   "id": "84fa3818",
   "metadata": {},
   "outputs": [],
   "source": [
    "trait Printable {\n",
    "    fn print(&self);\n",
    "}\n"
   ]
  },
  {
   "cell_type": "code",
   "execution_count": 3,
   "id": "f07da785",
   "metadata": {},
   "outputs": [],
   "source": [
    "struct Person {\n",
    "    name: String,\n",
    "    age: u32,\n",
    "}\n",
    "\n",
    "impl Printable for Person {\n",
    "    fn print(&self) {\n",
    "        println!(\"Name: {}, Age: {}\", self.name, self.age);\n",
    "    }\n",
    "}"
   ]
  },
  {
   "cell_type": "code",
   "execution_count": null,
   "id": "fc977f41",
   "metadata": {},
   "outputs": [],
   "source": []
  },
  {
   "cell_type": "code",
   "execution_count": 8,
   "id": "90f23631",
   "metadata": {},
   "outputs": [],
   "source": [
    "struct Student {\n",
    "    name: String,\n",
    "    school : String, \n",
    "    age: u32,\n",
    "}\n",
    "\n",
    "impl Printable for Student {\n",
    "    fn print(&self) {\n",
    "        println!(\"Name: {}, Age: {} School : {} \", self.name, self.age, self.school);\n",
    "    }\n",
    "}"
   ]
  },
  {
   "cell_type": "code",
   "execution_count": null,
   "id": "360b2c1c",
   "metadata": {},
   "outputs": [],
   "source": []
  },
  {
   "cell_type": "code",
   "execution_count": 4,
   "id": "5572ea8b",
   "metadata": {},
   "outputs": [],
   "source": [
    "fn print_info(item: &dyn Printable) {\n",
    "    item.print();\n",
    "}\n"
   ]
  },
  {
   "cell_type": "code",
   "execution_count": null,
   "id": "94ffdc46",
   "metadata": {},
   "outputs": [],
   "source": []
  },
  {
   "cell_type": "code",
   "execution_count": 10,
   "id": "97f0c084",
   "metadata": {},
   "outputs": [
    {
     "name": "stdout",
     "output_type": "stream",
     "text": [
      "Name: John, Age: 30\n",
      "Name: 종로, Age: 25 School : 한국대학교 \n"
     ]
    }
   ],
   "source": [
    "fn main() {\n",
    "    let person = Person {\n",
    "        name: String::from(\"John\"),\n",
    "        age: 30,\n",
    "    };\n",
    "\n",
    "    print_info(&person);\n",
    "    \n",
    "     let stu = Student {\n",
    "        name: String::from(\"종로\"),\n",
    "        age: 25,\n",
    "        school : String::from(\"한국대학교\")\n",
    "    };\n",
    "\n",
    "    print_info(&stu);\n",
    "}\n",
    "\n",
    "main();"
   ]
  },
  {
   "cell_type": "code",
   "execution_count": null,
   "id": "9dac4134",
   "metadata": {},
   "outputs": [],
   "source": []
  },
  {
   "cell_type": "markdown",
   "id": "feabf0eb",
   "metadata": {},
   "source": [
    "## 함수 매개변수로 구현 트레이트로 처리 \n"
   ]
  },
  {
   "cell_type": "markdown",
   "id": "63a77061",
   "metadata": {},
   "source": [
    "## 러스트(Rust)에서 &dyn 트레이트와 impl 트레이트를 정의한 함수의 차이점\n",
    "\n",
    "### 동적 디스패치 vs 정적 디스패치:\n",
    "- &dyn 트레이트는 동적 디스패치를 수행하는 반면, impl 트레이트는 정적 디스패치를 수행합니다. \n",
    "- 동적 디스패치는 런타임에 메서드를 찾아가는 방식으로, 트레이트 객체의 메서드 호출을 런타임에 결정합니다. \n",
    "- 반면 정적 디스패치는 컴파일 타임에 메서드를 결정하므로 성능상 이점이 있습니다.\n",
    "\n",
    "### 오버헤드: \n",
    "- &dyn 트레이트는 트레이트 객체를 참조하는 방식이므로 메모리 오버헤드가 발생합니다. \n",
    "- 트레이트 객체는 크기가 고정되어 있지 않으며, 동적 디스패치를 위한 가상 함수 테이블(Virtual Function Table)을 가지고 있습니다.\n",
    "- 따라서 &dyn 트레이트를 사용할 경우 약간의 오버헤드가 발생할 수 있습니다. \n",
    "- 반면, impl 트레이트는 컴파일 타임에 타입에 대한 정확한 메서드 호출을 수행하므로 추가적인 오버헤드가 없습니다.\n",
    "\n",
    "### 유연성: \n",
    "- &dyn 트레이트는 트레이트를 구현한 다양한 타입의 객체를 동일한 인터페이스로 다룰 수 있습니다. \n",
    "- 이를 통해 동적 다형성을 구현할 수 있으며, 런타임에 다양한 타입을 처리할 수 있습니다. \n",
    "- 반면, impl 트레이트는 컴파일 타임에 정확한 타입을 알고 있어야 하므로, 정적 다형성을 구현할 수 있습니다."
   ]
  },
  {
   "cell_type": "code",
   "execution_count": null,
   "id": "82656a68",
   "metadata": {},
   "outputs": [],
   "source": []
  },
  {
   "cell_type": "markdown",
   "id": "0aa78054",
   "metadata": {},
   "source": [
    "### 함수 매개변수로 트레이트 구현 처리\n",
    "\n",
    "- 정적 처리 "
   ]
  },
  {
   "cell_type": "code",
   "execution_count": 11,
   "id": "057fa815",
   "metadata": {},
   "outputs": [],
   "source": [
    "fn print_info_impl(item: &impl Printable) {\n",
    "    item.print();\n",
    "}\n"
   ]
  },
  {
   "cell_type": "markdown",
   "id": "3ad41eaa",
   "metadata": {},
   "source": [
    "### 2개의 구조체 인스턴스를 만들고 함수 호출\n",
    "- 위의 트레이트 객체와 처리 결과가 같다"
   ]
  },
  {
   "cell_type": "code",
   "execution_count": 12,
   "id": "486530c6",
   "metadata": {},
   "outputs": [
    {
     "name": "stdout",
     "output_type": "stream",
     "text": [
      "Name: John, Age: 30\n",
      "Name: 종로, Age: 25 School : 한국대학교 \n"
     ]
    }
   ],
   "source": [
    "fn main() {\n",
    "    let person = Person {\n",
    "        name: String::from(\"John\"),\n",
    "        age: 30,\n",
    "    };\n",
    "\n",
    "    print_info_impl(&person);\n",
    "    \n",
    "     let stu = Student {\n",
    "        name: String::from(\"종로\"),\n",
    "        age: 25,\n",
    "        school : String::from(\"한국대학교\")\n",
    "    };\n",
    "\n",
    "    print_info_impl(&stu);\n",
    "}\n",
    "\n",
    "main();"
   ]
  },
  {
   "cell_type": "code",
   "execution_count": null,
   "id": "fa219bfa",
   "metadata": {},
   "outputs": [],
   "source": []
  },
  {
   "cell_type": "markdown",
   "id": "a9156283",
   "metadata": {},
   "source": [
    "## 1-2 동적으로 여러 자료형을 처리\n",
    "\n",
    "- 동적 디스패치를 할 때는 명확히 트레이트 객체를 사용해야 함 "
   ]
  },
  {
   "cell_type": "code",
   "execution_count": null,
   "id": "2f526e01",
   "metadata": {},
   "outputs": [],
   "source": []
  },
  {
   "cell_type": "code",
   "execution_count": 4,
   "id": "27b47307",
   "metadata": {},
   "outputs": [],
   "source": [
    "trait Drawable {\n",
    "    fn draw(&self);\n",
    "}"
   ]
  },
  {
   "cell_type": "code",
   "execution_count": 5,
   "id": "cb633dfb",
   "metadata": {},
   "outputs": [],
   "source": [
    "struct Circle {\n",
    "    radius: f64,\n",
    "}\n",
    "\n",
    "impl Drawable for Circle {\n",
    "    fn draw(&self) {\n",
    "        println!(\"원의 반지름: {}\", self.radius);\n",
    "    }\n",
    "}"
   ]
  },
  {
   "cell_type": "code",
   "execution_count": 6,
   "id": "a52a83a3",
   "metadata": {},
   "outputs": [],
   "source": [
    "struct Rectangle {\n",
    "    width: f64,\n",
    "    height: f64,\n",
    "}\n",
    "\n",
    "impl Drawable for Rectangle {\n",
    "    fn draw(&self) {\n",
    "        println!(\"사각형의 너비: {} 높이: {}\", self.width, self.height);\n",
    "    }\n",
    "}"
   ]
  },
  {
   "cell_type": "markdown",
   "id": "fd5cfa6c",
   "metadata": {},
   "source": [
    "### 벡터로 여러 인스턴스를 받으면서 각각의 메서드 처리\n",
    "\n",
    "- 동적 디스패치 처리 "
   ]
  },
  {
   "cell_type": "code",
   "execution_count": 10,
   "id": "03aeef0a",
   "metadata": {},
   "outputs": [],
   "source": [
    "fn draw_objects(objects: Vec<Box<dyn Drawable>>) {\n",
    "    for object in objects {\n",
    "        object.draw();\n",
    "    }\n",
    "}"
   ]
  },
  {
   "cell_type": "markdown",
   "id": "d4915fc6",
   "metadata": {},
   "source": [
    "### 여러 인스턴스를 박스로 생성하고 벡터에 할당 후 함수 호출 "
   ]
  },
  {
   "cell_type": "code",
   "execution_count": 11,
   "id": "bd0ff759",
   "metadata": {},
   "outputs": [
    {
     "name": "stdout",
     "output_type": "stream",
     "text": [
      "원의 반지름: 5\n",
      "사각형의 너비: 10 높이: 8\n"
     ]
    }
   ],
   "source": [
    "fn main() {\n",
    "    let circle = Circle { radius: 5.0 };\n",
    "    let rectangle = Rectangle { width: 10.0, height: 8.0 };\n",
    "\n",
    "    let objects: Vec<Box<dyn Drawable>> = vec![\n",
    "        Box::new(circle),\n",
    "        Box::new(rectangle),\n",
    "    ];\n",
    "\n",
    "    draw_objects(objects);\n",
    "}\n",
    "\n",
    "main();"
   ]
  },
  {
   "cell_type": "code",
   "execution_count": null,
   "id": "b917dd0c",
   "metadata": {},
   "outputs": [],
   "source": []
  },
  {
   "cell_type": "markdown",
   "id": "a498c417",
   "metadata": {},
   "source": [
    "## 1-3 트레이트 제한으로 처리(구현 트레이트와 동일)"
   ]
  },
  {
   "cell_type": "markdown",
   "id": "26e13b6c",
   "metadata": {},
   "source": [
    "### 트레이트 정의 "
   ]
  },
  {
   "cell_type": "code",
   "execution_count": 2,
   "id": "43462251",
   "metadata": {},
   "outputs": [],
   "source": [
    "trait Drawable1 {\n",
    "    fn draw(&self);\n",
    "}"
   ]
  },
  {
   "cell_type": "markdown",
   "id": "c3152025",
   "metadata": {},
   "source": [
    "### 사각형 구조체와 트레이트 구현"
   ]
  },
  {
   "cell_type": "code",
   "execution_count": 3,
   "id": "61932206",
   "metadata": {},
   "outputs": [],
   "source": [
    "struct Rectangle1 {\n",
    "    width: u32,\n",
    "    height: u32,\n",
    "}\n",
    "\n",
    "impl Drawable1 for Rectangle1 {\n",
    "    fn draw(&self) {\n",
    "        println!(\"Drawing a rectangle with width: {} and height: {}\", self.width, self.height);\n",
    "    }\n",
    "}"
   ]
  },
  {
   "cell_type": "markdown",
   "id": "de77f3a9",
   "metadata": {},
   "source": [
    "### 원 구조체와 트레이트 메서드 구현"
   ]
  },
  {
   "cell_type": "code",
   "execution_count": 4,
   "id": "d433494d",
   "metadata": {},
   "outputs": [],
   "source": [
    "struct Circle1 {\n",
    "    radius: u32,\n",
    "}\n",
    "\n",
    "impl Drawable1 for Circle1 {\n",
    "    fn draw(&self) {\n",
    "        println!(\"Drawing a circle with radius: {}\", self.radius);\n",
    "    }\n",
    "}"
   ]
  },
  {
   "cell_type": "markdown",
   "id": "133f466a",
   "metadata": {},
   "source": [
    "### 트레이트 객체와 제너릭으로 공통함수 처리"
   ]
  },
  {
   "cell_type": "code",
   "execution_count": 10,
   "id": "12fedea2",
   "metadata": {},
   "outputs": [],
   "source": [
    "\n",
    "fn draw_using_dyn1(drawable: &dyn Drawable1) {\n",
    "    drawable.draw();\n",
    "}\n",
    "\n",
    "fn draw_using_imp1_l<T: Drawable1>(drawable: T) {\n",
    "    drawable.draw();\n",
    "}"
   ]
  },
  {
   "cell_type": "code",
   "execution_count": null,
   "id": "864223a9",
   "metadata": {},
   "outputs": [],
   "source": []
  },
  {
   "cell_type": "code",
   "execution_count": 12,
   "id": "fbb0d14b",
   "metadata": {},
   "outputs": [],
   "source": [
    "fn main() {\n",
    "    let rectangle = Rectangle1 {\n",
    "        width: 10,\n",
    "        height: 5,\n",
    "    };\n",
    "\n",
    "    let circle = Circle1 {\n",
    "        radius: 7,\n",
    "    };\n",
    "\n",
    "    draw_using_dyn1(&rectangle);  \n",
    "    draw_using_dyn1(&circle);    \n",
    "\n",
    "    draw_using_imp1_l(rectangle); \n",
    "    draw_using_imp1_l(circle);    \n",
    "}\n"
   ]
  },
  {
   "cell_type": "code",
   "execution_count": 13,
   "id": "94eb0632",
   "metadata": {},
   "outputs": [
    {
     "name": "stdout",
     "output_type": "stream",
     "text": [
      "Drawing a rectangle with width: 10 and height: 5\n",
      "Drawing a circle with radius: 7\n",
      "Drawing a rectangle with width: 10 and height: 5\n",
      "Drawing a circle with radius: 7\n"
     ]
    },
    {
     "data": {
      "text/plain": [
       "()"
      ]
     },
     "execution_count": 13,
     "metadata": {},
     "output_type": "execute_result"
    }
   ],
   "source": [
    "main()"
   ]
  },
  {
   "cell_type": "code",
   "execution_count": null,
   "id": "45552c66",
   "metadata": {},
   "outputs": [],
   "source": []
  }
 ],
 "metadata": {
  "kernelspec": {
   "display_name": "Rust",
   "language": "rust",
   "name": "rust"
  },
  "language_info": {
   "codemirror_mode": "rust",
   "file_extension": ".rs",
   "mimetype": "text/rust",
   "name": "Rust",
   "pygment_lexer": "rust",
   "version": ""
  }
 },
 "nbformat": 4,
 "nbformat_minor": 5
}
