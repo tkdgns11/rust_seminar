{
 "cells": [
  {
   "cell_type": "code",
   "execution_count": null,
   "id": "d0b9d530",
   "metadata": {},
   "outputs": [],
   "source": []
  },
  {
   "cell_type": "code",
   "execution_count": null,
   "id": "1eba457a",
   "metadata": {},
   "outputs": [],
   "source": []
  },
  {
   "cell_type": "markdown",
   "id": "3755cd95",
   "metadata": {},
   "source": [
    "# 1. 고차함수 처리 \n",
    "\n",
    "### 함수를 인자로 받는 함수: \n",
    "- 다른 함수를 인자로 받아서 내부에서 해당 함수를 실행하거나 조작하는 함수입니다. 이를 통해 코드의 재사용성과 유연성을 높일 수 있습니다.\n",
    "\n",
    "### 함수를 반환하는 함수: \n",
    "- 함수를 반환하는 함수는 다른 함수를 반환하는 동적인 함수입니다. \n",
    "- 반환되는 함수는 원래 함수의 상태를 기억할 수 있으며, 클로저를 통해 해당 상태에 접근할 수 있습니다."
   ]
  },
  {
   "cell_type": "code",
   "execution_count": null,
   "id": "61b1a666",
   "metadata": {},
   "outputs": [],
   "source": []
  },
  {
   "cell_type": "markdown",
   "id": "a28c9164",
   "metadata": {},
   "source": [
    "## 1-1 함수를 반환 처리  \n",
    "\n",
    "- 클로저를 반환할 때의 반환자료형은 트레이트 Fn으로 처리한다. "
   ]
  },
  {
   "cell_type": "markdown",
   "id": "cc09b7ad",
   "metadata": {},
   "source": [
    "### 클로저는  Fn 트레이트로 반환을 받는다"
   ]
  },
  {
   "cell_type": "code",
   "execution_count": 9,
   "id": "dd57e055",
   "metadata": {},
   "outputs": [],
   "source": [
    "// This works of course\n",
    "fn closure() -> impl Fn(i32) -> i32 {\n",
    "     |b| b                       \n",
    "}"
   ]
  },
  {
   "cell_type": "code",
   "execution_count": 10,
   "id": "6d613832",
   "metadata": {},
   "outputs": [
    {
     "data": {
      "text/plain": [
       "100"
      ]
     },
     "execution_count": 10,
     "metadata": {},
     "output_type": "execute_result"
    }
   ],
   "source": [
    "closure()(100)"
   ]
  },
  {
   "cell_type": "code",
   "execution_count": 22,
   "id": "9efa198b",
   "metadata": {},
   "outputs": [],
   "source": [
    "fn closure_1() -> impl Fn() -> () {\n",
    "     || println!(\" closure 1 \")\n",
    "}"
   ]
  },
  {
   "cell_type": "code",
   "execution_count": 23,
   "id": "6002a992",
   "metadata": {},
   "outputs": [
    {
     "name": "stdout",
     "output_type": "stream",
     "text": [
      " closure 1 \n"
     ]
    },
    {
     "data": {
      "text/plain": [
       "()"
      ]
     },
     "execution_count": 23,
     "metadata": {},
     "output_type": "execute_result"
    }
   ],
   "source": [
    "closure_1()()"
   ]
  },
  {
   "cell_type": "markdown",
   "id": "4a38c6cb",
   "metadata": {},
   "source": [
    "### 클로저를 반환할 때는 캡처된 자유변수는 move로 이동처리 "
   ]
  },
  {
   "cell_type": "code",
   "execution_count": 8,
   "id": "b766ff84",
   "metadata": {},
   "outputs": [],
   "source": [
    "fn make_adder_1(a: i32, b: i32) -> impl Fn() -> i32 {\n",
    "    move || a + b\n",
    "}"
   ]
  },
  {
   "cell_type": "code",
   "execution_count": 5,
   "id": "8fceb6c7",
   "metadata": {},
   "outputs": [
    {
     "data": {
      "text/plain": [
       "300"
      ]
     },
     "execution_count": 5,
     "metadata": {},
     "output_type": "execute_result"
    }
   ],
   "source": [
    "make_adder_1(100,200)()"
   ]
  },
  {
   "cell_type": "code",
   "execution_count": null,
   "id": "9f60403f",
   "metadata": {},
   "outputs": [],
   "source": []
  },
  {
   "cell_type": "code",
   "execution_count": 57,
   "id": "c3006c43",
   "metadata": {},
   "outputs": [],
   "source": [
    "fn counter() -> impl FnMut() -> i32 {\n",
    "    let mut value = 0;\n",
    "\n",
    "    move || -> i32 {\n",
    "        value += 1;\n",
    "        return value;\n",
    "    }\n",
    "}\n",
    "\n",
    "fn main() {\n",
    "    let mut incre = counter();\n",
    "    println!(\"Count 1: {}\", incre());\n",
    "    println!(\"Count 2: {}\", incre());\n",
    "}"
   ]
  },
  {
   "cell_type": "code",
   "execution_count": 58,
   "id": "429d8a59",
   "metadata": {},
   "outputs": [
    {
     "name": "stdout",
     "output_type": "stream",
     "text": [
      "Count 1: 1\n",
      "Count 2: 2\n"
     ]
    },
    {
     "data": {
      "text/plain": [
       "()"
      ]
     },
     "execution_count": 58,
     "metadata": {},
     "output_type": "execute_result"
    }
   ],
   "source": [
    "main()"
   ]
  },
  {
   "cell_type": "markdown",
   "id": "c39f1dfd",
   "metadata": {},
   "source": [
    "###  클로저를 반환해서 처리하기"
   ]
  },
  {
   "cell_type": "code",
   "execution_count": 2,
   "id": "42e8147b",
   "metadata": {},
   "outputs": [
    {
     "name": "stdout",
     "output_type": "stream",
     "text": [
      "3\n"
     ]
    }
   ],
   "source": [
    "fn make_adder(a: i32) -> impl Fn(i32) -> i32 {\n",
    "    move |b| a + b\n",
    "}\n",
    "\n",
    "fn main() {\n",
    "    println!(\"{}\", make_adder(1)(2));\n",
    "}\n",
    "\n",
    "main();"
   ]
  },
  {
   "cell_type": "code",
   "execution_count": 3,
   "id": "2fccbe0c",
   "metadata": {},
   "outputs": [
    {
     "name": "stdout",
     "output_type": "stream",
     "text": [
      "3\n"
     ]
    }
   ],
   "source": [
    "fn make_adder(a: i32) -> Box<dyn Fn(i32) -> i32> {\n",
    "    Box::new(move |b| a + b)\n",
    "}\n",
    "\n",
    "fn main() {\n",
    "    println!(\"{}\", make_adder(1)(2));\n",
    "}\n",
    "\n",
    "main();"
   ]
  },
  {
   "cell_type": "code",
   "execution_count": null,
   "id": "af2b74fa",
   "metadata": {},
   "outputs": [],
   "source": []
  },
  {
   "cell_type": "markdown",
   "id": "84e27a43",
   "metadata": {},
   "source": [
    "## 1-2 함수의 매개변수로 클로저 전달하기"
   ]
  },
  {
   "cell_type": "markdown",
   "id": "f73af398",
   "metadata": {},
   "source": [
    "### 변수에 할당하기 \n",
    "\n",
    "- 클로저를 변수에 할당할 때는 스마트 포인트로 처리\n",
    "- 트레이트 객체로 지정해서 처리해야 함 \n"
   ]
  },
  {
   "cell_type": "code",
   "execution_count": 10,
   "id": "5a3f9146",
   "metadata": {},
   "outputs": [],
   "source": [
    "fn closure1() -> impl Fn(i32) -> i32 {\n",
    "     |b| b                       \n",
    "}"
   ]
  },
  {
   "cell_type": "code",
   "execution_count": 13,
   "id": "547dc0d1",
   "metadata": {},
   "outputs": [
    {
     "name": "stdout",
     "output_type": "stream",
     "text": [
      " 100 \n"
     ]
    }
   ],
   "source": [
    "fn main() {\n",
    "    let cl : Box<dyn Fn(i32) -> i32>  = Box::new(closure1());\n",
    "    println!(\" {} \", cl(100));\n",
    "}\n",
    "main();"
   ]
  },
  {
   "cell_type": "markdown",
   "id": "52d82315",
   "metadata": {},
   "source": [
    "### 매개변수에 전달하기 "
   ]
  },
  {
   "cell_type": "code",
   "execution_count": 9,
   "id": "afd45d3b",
   "metadata": {},
   "outputs": [
    {
     "name": "stdout",
     "output_type": "stream",
     "text": [
      " 100.2 \n"
     ]
    }
   ],
   "source": [
    "fn func_arg (f1: impl Fn(f64)->f64,x:f64) ->  f64 {\n",
    "    f1(x)\n",
    "}\n",
    "\n",
    "fn main() {\n",
    "    let x = func_arg(|x| x , 100.2);\n",
    "    println!(\" {} \", x);\n",
    "}\n",
    "\n",
    "main(); "
   ]
  },
  {
   "cell_type": "code",
   "execution_count": null,
   "id": "71d2d07d",
   "metadata": {},
   "outputs": [],
   "source": []
  },
  {
   "cell_type": "code",
   "execution_count": null,
   "id": "d77c00a8",
   "metadata": {},
   "outputs": [],
   "source": []
  },
  {
   "cell_type": "markdown",
   "id": "daa8b48c",
   "metadata": {},
   "source": [
    "## 2. 고차함수를 사용해서 함수 결합하기 "
   ]
  },
  {
   "cell_type": "markdown",
   "id": "2d749454",
   "metadata": {},
   "source": [
    "## 2-1 결합 대상함수 정의 및 전달함수를 클로저로 전달 "
   ]
  },
  {
   "cell_type": "code",
   "execution_count": 10,
   "id": "9ae3eb75",
   "metadata": {},
   "outputs": [
    {
     "name": "stdout",
     "output_type": "stream",
     "text": [
      " -0.30561438888825215 \n"
     ]
    }
   ],
   "source": [
    "fn compose (f1: impl Fn(f64)->f64, f2: impl Fn(f64)->f64) -> impl Fn(f64)->f64 {\n",
    "    move |x| f1(f2(x))\n",
    "}\n",
    "\n",
    "fn main() {\n",
    "   let f = compose(f64::sin, |x| x*x); \n",
    "   println!(\" {} \", f(100.0));\n",
    "}\n",
    "main();"
   ]
  },
  {
   "cell_type": "markdown",
   "id": "dc2aa300",
   "metadata": {},
   "source": [
    "## 2-2 결합 대상함수 정의 및 전달함수를 클로저로 전달 "
   ]
  },
  {
   "cell_type": "code",
   "execution_count": 6,
   "id": "eaefc90c",
   "metadata": {},
   "outputs": [
    {
     "name": "stdout",
     "output_type": "stream",
     "text": [
      " g= h \n"
     ]
    }
   ],
   "source": [
    "fn compose <T>(f1: impl Fn(T)->T, f2: impl Fn(T)->T) -> impl Fn(T)->T {\n",
    "    move |x| f1(f2(x))\n",
    "}\n",
    "\n",
    "fn main() {\n",
    "    let g = compose(str::trim, |s| &s[0..2]);\n",
    "    println!(\" g= {} \", g(\" hello \"));\n",
    "}\n",
    "\n",
    "main();"
   ]
  },
  {
   "cell_type": "code",
   "execution_count": null,
   "id": "e801bd6f",
   "metadata": {},
   "outputs": [],
   "source": []
  }
 ],
 "metadata": {
  "kernelspec": {
   "display_name": "Rust",
   "language": "rust",
   "name": "rust"
  },
  "language_info": {
   "codemirror_mode": "rust",
   "file_extension": ".rs",
   "mimetype": "text/rust",
   "name": "Rust",
   "pygment_lexer": "rust",
   "version": ""
  }
 },
 "nbformat": 4,
 "nbformat_minor": 5
}
