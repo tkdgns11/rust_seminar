{
 "cells": [
  {
   "cell_type": "markdown",
   "id": "b5d670f4",
   "metadata": {},
   "source": [
    "# 자료형을 구분하는 방법 "
   ]
  },
  {
   "cell_type": "markdown",
   "id": "b33d46c1",
   "metadata": {},
   "source": [
    "## 정적 타이핑\n",
    "\n",
    "정적 타이핑은 컴파일 시점에 모든 변수와 표현식의 유형을 알 수 있는 유형 시스템입니다. \n",
    "즉, 컴파일러가 모든 연산이 유효한지, 런타임에 유형 오류가 발생하지 않는지 확인할 수 있습니다. \n",
    "정적 타이핑은 버그를 방지하고 코드를 더욱 안정적으로 만드는 데 도움이 될 수 있습니다.\n",
    "\n",
    "\n",
    "### 정적 타이핑의 장점\n",
    "\n",
    "- 정적 타이핑은 버그를 방지하고 코드를 더 안정적으로 만드는 데 도움이 될 수 있습니다.\n",
    "- 정적 타이핑은 코드를 더 간결하고 읽기 쉽게 만들 수 있습니다.\n",
    "- 정적 타이핑은 성능 향상에 도움이 될 수 있습니다.\n",
    "\n",
    "### 정적 타이핑의 단점\n",
    "\n",
    "- 정적 타이핑은 코드를 작성하기 더 어렵게 만들 수 있습니다.\n",
    "- 정적 타이핑은 코드의 유연성을 떨어뜨릴 수 있습니다.\n",
    "- 정적 타이핑은 코드의 이식성을 떨어뜨릴 수 있습니다.\n"
   ]
  },
  {
   "cell_type": "markdown",
   "id": "86c4de55",
   "metadata": {},
   "source": [
    "## 동적 타이핑\n",
    "\n",
    "동적 타이핑은 컴파일 시점에 변수와 표현식의 유형을 알 수 없는 유형 시스템입니다. \n",
    "즉, 컴파일러가 모든 연산이 유효한지 확인할 수 없으며 런타임에 유형 오류가 발생할 수 있습니다. \n",
    "동적 타입을 사용하면 코드를 더 유연하고 쉽게 작성할 수 있지만 버그를 찾아 수정하기가 더 어려워질 수 있습니다.\n",
    "\n",
    "\n",
    "### 동적 타이핑의 장점\n",
    "\n",
    "- 동적 타이핑을 사용하면 코드를 더 유연하고 쉽게 작성할 수 있습니다.\n",
    "- 동적 타이핑은 코드의 이식성을 높일 수 있습니다.\n",
    "- 동적 타이핑은 코드의 표현력을 높일 수 있습니다.\n",
    "\n",
    "### 동적 타이핑의 단점\n",
    "\n",
    "- 동적 타이핑은 코드의 안정성을 떨어뜨릴 수 있습니다.\n",
    "- 동적 타이핑은 코드를 더 읽기 어렵게 만들 수 있습니다.\n",
    "- 동적 타이핑은 코드를 느리게 만들 수 있습니다."
   ]
  },
  {
   "cell_type": "code",
   "execution_count": null,
   "id": "d0ff699a",
   "metadata": {},
   "outputs": [],
   "source": []
  },
  {
   "cell_type": "markdown",
   "id": "0bd8f51c",
   "metadata": {},
   "source": [
    "## 타입확인 함수 정의 "
   ]
  },
  {
   "cell_type": "code",
   "execution_count": 3,
   "id": "c76b6968",
   "metadata": {},
   "outputs": [],
   "source": [
    "use std::any::type_name;\n",
    "\n",
    "fn type_of<T>(_: T) -> &'static str {\n",
    "    type_name::<T>()\n",
    "}"
   ]
  },
  {
   "cell_type": "code",
   "execution_count": null,
   "id": "18d2ed6f",
   "metadata": {},
   "outputs": [],
   "source": []
  },
  {
   "cell_type": "code",
   "execution_count": null,
   "id": "5d208020",
   "metadata": {},
   "outputs": [],
   "source": []
  },
  {
   "cell_type": "markdown",
   "id": "16ae369b",
   "metadata": {},
   "source": [
    "##  1. 함수 자료형 지정하기\n",
    "\n",
    "- 함수나 클로저 등도 하나의 인스턴스이므로 다른 변수에 할당이 가능\n",
    "- 함수나 클로저를 함수의 매개변수에 할당이 가능\n",
    "- 함수나 클로저를 함수의 반환값으로 사용 가능 "
   ]
  },
  {
   "cell_type": "markdown",
   "id": "e00a0e8b",
   "metadata": {},
   "source": [
    "## 1-1. 함수 포인터 : Function pointer types\n",
    "\n",
    "### 함수포인터 표기법 \n",
    "- fn 키워드를 사용하여 작성된 함수 포인터 유형은 컴파일 시점에 반드시 정체를 알 수 없는 함수를 나타냅니다. \n",
    "\n",
    "### 함수포인터 사용 \n",
    "- 함수와 캡처되지 않는 클로저 모두에서 강제로 생성할 수 있습니다.\n",
    "\n",
    "- 안전하지 않은 한정자는 해당 타입의 값이 안전하지 않은 함수임을 나타내고, 외부 한정자는 외부 함수임을 나타냅니다"
   ]
  },
  {
   "cell_type": "markdown",
   "id": "44d93921",
   "metadata": {},
   "source": [
    "### 함수를 정의하고 실행한 결과를 변수에 저장\n",
    "\n",
    "- 함수의 반환값에 대한  소유권이 변수에 이동 "
   ]
  },
  {
   "cell_type": "code",
   "execution_count": 4,
   "id": "1d8e013f",
   "metadata": {},
   "outputs": [
    {
     "name": "stdout",
     "output_type": "stream",
     "text": [
      " 12\n"
     ]
    }
   ],
   "source": [
    "fn add(x: i32, y: i32) -> i32 {\n",
    "    x + y\n",
    "}\n",
    "\n",
    "fn main() {\n",
    "    let mut x = add(5,7);\n",
    "    println!(\" {}\",x);\n",
    "} \n",
    "\n",
    "main();"
   ]
  },
  {
   "cell_type": "markdown",
   "id": "11b97c82",
   "metadata": {},
   "source": [
    "### 함수 포인터로 함수 타입을 지정\n",
    "\n",
    "- type 예약어를 통해 자료형의 별칭을 지정\n",
    "- 함수 자료형에 정의된 함수는 다른 변수에 지정해도 이동대신 복사가 된다.\n"
   ]
  },
  {
   "cell_type": "code",
   "execution_count": 5,
   "id": "22793d22",
   "metadata": {},
   "outputs": [
    {
     "name": "stdout",
     "output_type": "stream",
     "text": [
      " 12\n",
      " type = fn(i32, i32) -> i32\n",
      " type = fn(i32, i32) -> i32\n",
      " 30\n"
     ]
    }
   ],
   "source": [
    "type Binop = fn(i32, i32) -> i32;\n",
    "\n",
    "fn main() {\n",
    "    let bo: Binop = add;\n",
    "    let x = bo(5,7);\n",
    "    println!(\" {}\",x);\n",
    "    println!(\" type = {}\",type_of(bo));\n",
    "    \n",
    "    let bo_mv: Binop = bo;\n",
    "\n",
    "    println!(\" type = {}\",type_of(bo_mv));\n",
    "    println!(\" {}\", bo_mv(10,20));\n",
    "}\n",
    "\n",
    "main();"
   ]
  },
  {
   "cell_type": "markdown",
   "id": "3fc6e897",
   "metadata": {},
   "source": [
    "## 2. Function item types\n",
    "\n",
    "- 함수를 정의하면 가지는 타입"
   ]
  },
  {
   "cell_type": "markdown",
   "id": "7c16a1c7",
   "metadata": {},
   "source": [
    "### Function item types은 \n",
    "- 함수의 타입을 나타내는 것이며, 변수에 할당하거나 다른 함수의 인자로 전달하는 등의 작업에 사용됩니다. \n",
    "- Function item types은 컴파일 타임에 함수의 시그니처에 대한 정보를 가지고 있으며, Rust의 강력한 타입 시스템을 활용하여 함수의 호환성을 보장합니다. \n",
    "- 즉, 함수의 매개변수와 반환 타입이 정확히 일치해야 합니다.\n",
    "\n",
    "### 함수 포인터는 \n",
    "- 함수의 주소를 가리키는 포인터입니다. \n",
    "- 함수 포인터는 동적 디스패치를 통해 함수 호출을 수행하며, 실행 시간에 함수를 가리키는 주소가 결정됩니다. \n",
    "- 함수 포인터는 C 스타일의 인터페이스, 콜백 함수 등에 주로 사용됩니다. \n",
    "- Rust에서도 함수 포인터를 사용할 수 있지만, 명시적으로 함수 포인터 타입을 선언해야 하며, 함수 포인터의 타입은 함수의 시그니처에 따라 결정됩니다.\n",
    "\n",
    "따라서 Function item types은 컴파일 타임에 타입 검사를 받으며, 함수 포인터는 실행 시간에 동적 디스패치를 통해 함수 호출을 수행합니다. Function item types은 더 강력한 타입 검사와 성능 향상을 제공하지만, 함수 포인터는 동적인 호출을 가능하게 합니다. 상황에 따라서 적절한 방식을 선택하여 함수를 다룰 수 있습니다."
   ]
  },
  {
   "cell_type": "code",
   "execution_count": 7,
   "id": "1bc8338d",
   "metadata": {},
   "outputs": [],
   "source": [
    "fn add_(x:u32, y:u32) -> u32 {\n",
    "    x+y\n",
    "}\n",
    "\n",
    "fn foo_<T>() { }"
   ]
  },
  {
   "cell_type": "code",
   "execution_count": 8,
   "id": "f6521a6e",
   "metadata": {},
   "outputs": [
    {
     "name": "stdout",
     "output_type": "stream",
     "text": [
      "0x16f6fead8\n",
      "&mut ctx::foo_<i32>\n",
      "300\n",
      "300\n",
      "fn(u32, u32) -> u32\n",
      "ctx::add_\n",
      "300\n"
     ]
    }
   ],
   "source": [
    "fn main() {\n",
    "    let x = &mut foo_::<i32>;\n",
    "    // *x = foo::<u32>; //~ ERROR mismatched types\n",
    "    println!(\"{:p}\",x);\n",
    "    println!(\"{}\", type_of(x));\n",
    "    \n",
    "    let foo_ptr_1 = add_;\n",
    "    println!(\"{}\", type_of(foo_ptr_1));         // 함수 아이템 타입\n",
    "    println!(\"{}\", foo_ptr_1(100,200));\n",
    "    let foo_ptr_3 = foo_ptr_1;\n",
    "    println!(\"{}\", foo_ptr_1(100,200));\n",
    "    \n",
    "    let foo_ptr_2 : fn(u32,u32)->u32 = add_;    \n",
    "    println!(\"{}\", type_of(foo_ptr_2));         // 함수 포인터 타입\n",
    "    println!(\"{}\", foo_ptr_2(100,200));\n",
    "}\n",
    "\n",
    "main();"
   ]
  },
  {
   "cell_type": "code",
   "execution_count": null,
   "id": "410a96f0",
   "metadata": {},
   "outputs": [],
   "source": []
  },
  {
   "cell_type": "markdown",
   "id": "162a4ea4",
   "metadata": {},
   "source": [
    "## 3. 다양한 함수 포인터 사용하기 "
   ]
  },
  {
   "cell_type": "markdown",
   "id": "ddc06102",
   "metadata": {},
   "source": [
    "### 변수에 할당 "
   ]
  },
  {
   "cell_type": "code",
   "execution_count": 9,
   "id": "2b01ae01",
   "metadata": {},
   "outputs": [
    {
     "name": "stdout",
     "output_type": "stream",
     "text": [
      "3\n"
     ]
    }
   ],
   "source": [
    "fn add(a: i32, b: i32) -> i32 {\n",
    "    a + b\n",
    "}\n",
    "\n",
    "fn main() {\n",
    "    let func_ptr: fn(i32, i32) -> i32 = add;\n",
    "\n",
    "    let result = func_ptr(1, 2);\n",
    "    println!(\"{}\", result);\n",
    "}\n",
    "\n",
    "main();"
   ]
  },
  {
   "cell_type": "markdown",
   "id": "9a6dedae",
   "metadata": {},
   "source": [
    "### 함수의 매개변수로 사용 "
   ]
  },
  {
   "cell_type": "code",
   "execution_count": 10,
   "id": "d0a23be2",
   "metadata": {},
   "outputs": [
    {
     "name": "stdout",
     "output_type": "stream",
     "text": [
      "3\n"
     ]
    }
   ],
   "source": [
    "fn apply_func(func: fn(i32, i32) -> i32, a: i32, b: i32) -> i32 {\n",
    "    func(a, b)\n",
    "}\n",
    "\n",
    "fn add(a: i32, b: i32) -> i32 {\n",
    "    a + b\n",
    "}\n",
    "\n",
    "fn main() {\n",
    "    let result = apply_func(add, 1, 2);\n",
    "    println!(\"{}\", result);\n",
    "}\n",
    "\n",
    "main();"
   ]
  },
  {
   "cell_type": "markdown",
   "id": "d9e2cbbb",
   "metadata": {},
   "source": [
    "### 반환값으로 사용 "
   ]
  },
  {
   "cell_type": "code",
   "execution_count": 12,
   "id": "526f83c2",
   "metadata": {},
   "outputs": [],
   "source": [
    "fn add(a: i32, b: i32) -> i32 {\n",
    "    a + b\n",
    "}\n",
    "\n",
    "fn sub(a: i32, b: i32) -> i32 {\n",
    "    a - b\n",
    "}\n",
    "\n",
    "fn choose_func(op: &str) -> fn(i32, i32) -> i32 {\n",
    "    match op {\n",
    "        \"+\" => add,\n",
    "        \"-\" => sub,\n",
    "        _ => panic!(\"Invalid operation\"),\n",
    "    }\n",
    "}\n"
   ]
  },
  {
   "cell_type": "code",
   "execution_count": 13,
   "id": "42707ae0",
   "metadata": {},
   "outputs": [
    {
     "name": "stdout",
     "output_type": "stream",
     "text": [
      "3\n"
     ]
    }
   ],
   "source": [
    "fn main() {\n",
    "    let op = \"+\";\n",
    "    let func = choose_func(op);\n",
    "    let result = func(1, 2);\n",
    "    println!(\"{}\", result);\n",
    "}\n",
    "\n",
    "main();"
   ]
  },
  {
   "cell_type": "code",
   "execution_count": null,
   "id": "62a3c3c8",
   "metadata": {},
   "outputs": [],
   "source": []
  }
 ],
 "metadata": {
  "kernelspec": {
   "display_name": "Rust",
   "language": "rust",
   "name": "rust"
  },
  "language_info": {
   "codemirror_mode": "rust",
   "file_extension": ".rs",
   "mimetype": "text/rust",
   "name": "Rust",
   "pygment_lexer": "rust",
   "version": ""
  }
 },
 "nbformat": 4,
 "nbformat_minor": 5
}
