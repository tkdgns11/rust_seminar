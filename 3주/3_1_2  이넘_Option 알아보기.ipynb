{
 "cells": [
  {
   "cell_type": "code",
   "execution_count": null,
   "id": "7a0f9841",
   "metadata": {},
   "outputs": [],
   "source": []
  },
  {
   "cell_type": "markdown",
   "id": "625b8942",
   "metadata": {},
   "source": [
    "## 1. 널값이 없이  Option 이넘  처리하기 \n",
    "\n",
    "- Option은 값이 있을 수도 있고 없을 수도 있는 옵셔널 타입입니다. \n",
    "- 이는 주로 값이 존재하지 않을 수 있는 경우에 사용됩니다.\n",
    "\n",
    "\n"
   ]
  },
  {
   "cell_type": "markdown",
   "id": "d72a6cee",
   "metadata": {},
   "source": [
    "## 러스트에서 널 처리를 Option 이넘(enum)으로 하는 이유\n",
    "\n",
    "### 안전한 널 처리: \n",
    "- Option은 널 값을 나타내는 Some과 널을 나타내지 않는 None 두 가지 값으로 구성됩니다. \n",
    "- 이를 통해 명시적으로 널 값을 다룰 수 있으며, 컴파일러가 타입 검사를 수행하여 널 관련 오류를 사전에 방지할 수 있습니다. \n",
    "- 따라서 Option을 사용함으로써 널 처리에 대한 안전성을 확보할 수 있습니다.\n",
    "\n",
    "### 패턴 매칭과 함께 사용: \n",
    "- Option은 패턴 매칭을 통해 간편하게 널 처리를 다룰 수 있도록 합니다. \n",
    "- Some과 None 두 가지 상태를 패턴 매칭을 통해 구분하고, 각각에 대한 처리를 수행할 수 있습니다. \n",
    "- 이를 통해 코드의 가독성과 유지보수성을 향상시킬 수 있습니다.\n",
    "\n",
    "### 명확한 의미 전달: \n",
    "- Option을 사용하여 널 처리를 하면 해당 값이 널임을 명시적으로 전달할 수 있습니다. \n",
    "- 코드를 읽는 사람들에게 해당 변수나 매개변수가 널일 수 있음을 명확히 알릴 수 있으며, 이를 통해 코드의 의도를 명확하게 전달할 수 있습니다.\n",
    "\n",
    "### 컴파일러 최적화: \n",
    "- Option은 널 처리에 대한 추가적인 메모리 할당 없이, Some 값과 None 값만으로 널 처리를 구현합니다. \n",
    "- 이는 메모리 사용량을 최적화하고, 불필요한 널 값의 할당을 방지하여 성능을 향상시킬 수 있습니다."
   ]
  },
  {
   "cell_type": "code",
   "execution_count": null,
   "id": "d6cc0c5d",
   "metadata": {},
   "outputs": [],
   "source": []
  },
  {
   "cell_type": "markdown",
   "id": "ca3ffea6",
   "metadata": {},
   "source": [
    "## Option은 두 가지 가지(Variant)를 가집니다:\n",
    "\n",
    "#### Some: \n",
    "- 값이 존재함을 나타내는 가지로, Some(value) 형태로 값을 갖습니다. \n",
    "- value는 Option 내부에 포함된 값입니다.\n",
    "\n",
    "#### None: \n",
    "- 값이 존재하지 않음을 나타내는 가지로, 추가적인 데이터를 가지지 않습니다. \n",
    "- None은 주로 값이 없는 상태를 표현하거나, 함수나 메서드에서 실패 또는 오류 상태를 나타낼 때 사용됩니다."
   ]
  },
  {
   "cell_type": "code",
   "execution_count": null,
   "id": "3ebc6ca4",
   "metadata": {},
   "outputs": [],
   "source": []
  },
  {
   "cell_type": "markdown",
   "id": "575e5356",
   "metadata": {},
   "source": [
    "## 1-1 Option 이넘 알아보기\n",
    "\n",
    "- 제너릭으로 정의된 이넘은 실제 값에 대한 자료형을 지정\n",
    "- 이넘 내의 값을 사용한 variant가 2개 정의(Some, None)"
   ]
  },
  {
   "cell_type": "code",
   "execution_count": 2,
   "id": "82611b6c",
   "metadata": {},
   "outputs": [
    {
     "name": "stdout",
     "output_type": "stream",
     "text": [
      " Some(100) \n",
      " 100 \n",
      " None \n"
     ]
    }
   ],
   "source": [
    "fn main() {\n",
    "    let a : Option<i32> = Some(100);\n",
    "    println!(\" {:?} \", a);\n",
    "    println!(\" {} \", a.unwrap());\n",
    "    \n",
    "    let b : Option<i32> = None;\n",
    "    println!(\" {:?} \", b);\n",
    "}\n",
    "\n",
    "main();"
   ]
  },
  {
   "cell_type": "markdown",
   "id": "6e65b2d2",
   "metadata": {},
   "source": [
    "### Option 내의 값을 조회\n",
    "\n",
    "- Some 내의 데이터를 가져올 때는 unwrap 메서드로 처리\n",
    "- None 처리는 저장된 변수 그래도"
   ]
  },
  {
   "cell_type": "code",
   "execution_count": 5,
   "id": "a7d08f43",
   "metadata": {},
   "outputs": [
    {
     "name": "stdout",
     "output_type": "stream",
     "text": [
      " 100 \n",
      " None \n"
     ]
    }
   ],
   "source": [
    "let a : Option<i32> = Some(100);\n",
    "let b : Option<i32> = None;\n",
    "println!(\" {:?} \", a.unwrap());\n",
    "println!(\" {:?} \", b);                  // None 값일 경우는 unwrap() 사요 못함 "
   ]
  },
  {
   "cell_type": "code",
   "execution_count": null,
   "id": "7980e6a1",
   "metadata": {},
   "outputs": [],
   "source": []
  },
  {
   "cell_type": "markdown",
   "id": "b0749453",
   "metadata": {},
   "source": [
    "## 1-2. 함수의 반환값 :  option 이넘 \n",
    "\n",
    "- Option<i32>은 i32 값을 갖거나 None 값을 가질 수 있습니다."
   ]
  },
  {
   "cell_type": "markdown",
   "id": "4a21fa0b",
   "metadata": {},
   "source": [
    "### 특정 산식에 대한 값을 처리 "
   ]
  },
  {
   "cell_type": "code",
   "execution_count": 11,
   "id": "aaac0276",
   "metadata": {},
   "outputs": [
    {
     "name": "stdout",
     "output_type": "stream",
     "text": [
      "Result1: 5\n",
      "Cannot divide by zero!\n"
     ]
    }
   ],
   "source": [
    "fn divide(a: f64, b: f64) -> Option<f64> {\n",
    "    if b != 0.0 {\n",
    "        Some(a / b)\n",
    "    } else {\n",
    "        None\n",
    "    }\n",
    "}\n",
    "\n",
    "fn main() {\n",
    "    let result1 = divide(10.0, 2.0);\n",
    "    match result1 {\n",
    "        Some(value) => println!(\"Result1: {}\", value),\n",
    "        None => println!(\"Cannot divide by zero!\"),\n",
    "    }\n",
    "\n",
    "    let result2 = divide(10.0, 0.0);\n",
    "    match result2 {\n",
    "        Some(value) => println!(\"Result2: {}\", value),\n",
    "        None => println!(\"Cannot divide by zero!\"),\n",
    "    }\n",
    "}\n",
    "\n",
    "main();"
   ]
  },
  {
   "cell_type": "code",
   "execution_count": null,
   "id": "7f36bee2",
   "metadata": {},
   "outputs": [],
   "source": []
  },
  {
   "cell_type": "markdown",
   "id": "05fd6323",
   "metadata": {},
   "source": [
    "### 특정 기능을 처리한 후에 반환하기 "
   ]
  },
  {
   "cell_type": "code",
   "execution_count": 9,
   "id": "e99b523c",
   "metadata": {},
   "outputs": [],
   "source": [
    "fn divide(dividend: i32, divisor: i32) -> Option<i32> {\n",
    "    if divisor == 0 {\n",
    "        None\n",
    "    } else {\n",
    "        Some(dividend / divisor)\n",
    "    }\n",
    "}"
   ]
  },
  {
   "cell_type": "code",
   "execution_count": 10,
   "id": "1798c753",
   "metadata": {},
   "outputs": [
    {
     "name": "stdout",
     "output_type": "stream",
     "text": [
      "Result: 5\n"
     ]
    }
   ],
   "source": [
    "fn main() {\n",
    "    let result = divide(10, 2);\n",
    "    match result {\n",
    "        Some(x) => println!(\"Result: {}\", x),\n",
    "        None => println!(\"Cannot divide by zero\"),\n",
    "    }\n",
    "}\n",
    "\n",
    "main();"
   ]
  },
  {
   "cell_type": "code",
   "execution_count": null,
   "id": "5348b207",
   "metadata": {},
   "outputs": [],
   "source": []
  }
 ],
 "metadata": {
  "kernelspec": {
   "display_name": "Rust",
   "language": "rust",
   "name": "rust"
  },
  "language_info": {
   "codemirror_mode": "rust",
   "file_extension": ".rs",
   "mimetype": "text/rust",
   "name": "Rust",
   "pygment_lexer": "rust",
   "version": ""
  }
 },
 "nbformat": 4,
 "nbformat_minor": 5
}
