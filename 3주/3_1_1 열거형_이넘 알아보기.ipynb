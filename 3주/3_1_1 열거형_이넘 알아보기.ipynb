{
 "cells": [
  {
   "cell_type": "code",
   "execution_count": null,
   "id": "d0f3d4bf",
   "metadata": {},
   "outputs": [],
   "source": []
  },
  {
   "cell_type": "markdown",
   "id": "83c80da0",
   "metadata": {},
   "source": [
    "# 1. 열거형/이넘 알아보기 "
   ]
  },
  {
   "cell_type": "markdown",
   "id": "ce9bbe1d",
   "metadata": {},
   "source": [
    "## 러스트에서 이넘을 사용하는 이유는 다음과 같습니다:\n",
    "\n",
    "### 타입 안정성: \n",
    "- 이넘은 사전에 정의된 가능한 값들을 제한하여 타입 안정성을 제공합니다. \n",
    "- 이넘을 사용하면 컴파일러가 유효하지 않은 값 또는 처리되지 않은 경우를 감지하여 컴파일 시간에 오류를 잡을 수 있습니다.\n",
    "\n",
    "### 가독성: \n",
    "- 이넘은 코드를 읽고 이해하기 쉽게 만들어줍니다. \n",
    "- 이름있는 값들을 이넘으로 그룹화하여 코드의 의도를 명확하게 전달할 수 있습니다.\n",
    "\n",
    "### 패턴 매칭: \n",
    "- 이넘은 패턴 매칭과 함께 사용할 때 특히 유용합니다. \n",
    "- 패턴 매칭을 사용하면 각각의 이넘 값에 대해 다른 동작을 수행할 수 있습니다. \n",
    "- 이를 통해 조건부 로직을 간결하고 표현적으로 작성할 수 있습니다.\n",
    "\n",
    "### 타입 변환: \n",
    "- 이넘은 여러 가지 타입을 단일 타입으로 대체할 수 있는 유연성을 제공합니다.\n",
    "- 예를 들어, 서로 다른 타입의 값을 가지는 경우에 이넘을 사용하여 일관된 타입을 유지할 수 있습니다.\n",
    "\n",
    "\n",
    "\n",
    "#### 이넘은 주로 상태, 옵션 값, 에러 처리 등 다양한 상황에서 사용됩니다. \n",
    "#### 이넘을 사용하면 코드의 안정성과 가독성을 향상시킬 수 있으며, 잠재적인 버그를 방지할 수 있습니다."
   ]
  },
  {
   "cell_type": "markdown",
   "id": "d65c7871",
   "metadata": {},
   "source": [
    "## 열거형/이넘 \n",
    "\n",
    "- 열거형(Enum)을 사용하여 여러 개의 관련된 값을 그룹화하고 특정한 유형의 값만 가질 수 있는 사용자 정의 타입을 만들 수 있습니다. \n",
    "- 열거형은 다양한 상황에서 패턴 매칭과 함께 사용되며, 프로그램의 의도를 명확하게 표현하고 코드의 가독성을 높일 수 있습니다."
   ]
  },
  {
   "cell_type": "markdown",
   "id": "36021234",
   "metadata": {},
   "source": [
    "### 특정 ip 값을 이넘으로 처리 \n",
    "\n",
    "- 구조체를 정의할 때 속성을 추가로 정의할 수 있다.\n",
    "- 속성은 #과 대괄호 안에 속성을 지정할 수 있다.\n",
    "- derive(Debug)는 Debug 트레이트를 열거형에 적용한다는 뜻이다."
   ]
  },
  {
   "cell_type": "code",
   "execution_count": 3,
   "id": "4057d780",
   "metadata": {},
   "outputs": [
    {
     "name": "stdout",
     "output_type": "stream",
     "text": [
      "V4\n",
      "V6\n"
     ]
    }
   ],
   "source": [
    "#[derive(Debug)]                // 속성으로 Debug 할당\n",
    "enum IpAddrKind {\n",
    "    V4,\n",
    "    V6,\n",
    "}\n",
    "\n",
    "fn main() {\n",
    "    let four = IpAddrKind::V4;   // 열거형 객체 사용 \n",
    "    let six = IpAddrKind::V6;\n",
    "    \n",
    "    println!(\"{four:?}\");\n",
    "    println!(\"{six:?}\");\n",
    "}\n",
    "\n",
    "main();"
   ]
  },
  {
   "cell_type": "code",
   "execution_count": null,
   "id": "042119f2",
   "metadata": {},
   "outputs": [],
   "source": []
  },
  {
   "cell_type": "markdown",
   "id": "b299722a",
   "metadata": {},
   "source": [
    "## 1-2 구조체에 열거형 사용하기 "
   ]
  },
  {
   "cell_type": "markdown",
   "id": "5d788e15",
   "metadata": {},
   "source": [
    "### 구조체 정의\n",
    "\n",
    "- 필드에 열거형 자료형 할당 \n",
    "- 구조체 리터럴을 작성할 때 필드에 열거형 객체값 할당 "
   ]
  },
  {
   "cell_type": "code",
   "execution_count": 5,
   "id": "b9000744",
   "metadata": {},
   "outputs": [
    {
     "name": "stdout",
     "output_type": "stream",
     "text": [
      "IpAddr { kind: V4, address: \"127.0.0.1\" }\n",
      "IpAddr { kind: V6, address: \"::1\" }\n"
     ]
    }
   ],
   "source": [
    "#[derive(Debug)] \n",
    "struct IpAddr {\n",
    "    kind: IpAddrKind,             // 열거형 값을 사용 \n",
    "    address: String,\n",
    "}\n",
    "\n",
    "fn main() {\n",
    "    let home = IpAddr {\n",
    "        kind: IpAddrKind::V4,\n",
    "        address: String::from(\"127.0.0.1\"),\n",
    "    };\n",
    "\n",
    "    let loopback = IpAddr {\n",
    "        kind: IpAddrKind::V6,\n",
    "        address: String::from(\"::1\"),\n",
    "    };\n",
    "    \n",
    "    println!(\"{home:?}\");\n",
    "    println!(\"{loopback:?}\");\n",
    "}\n",
    "\n",
    "main();"
   ]
  },
  {
   "cell_type": "code",
   "execution_count": null,
   "id": "5a4a016b",
   "metadata": {},
   "outputs": [],
   "source": []
  },
  {
   "cell_type": "markdown",
   "id": "eeaf1e7d",
   "metadata": {},
   "source": [
    "# 2. 열거형을 다양하게 정의하는 방법\n",
    "\n",
    "- 일반적인 이넘(Enum):\n",
    "- 값이 있는 이넘(Enum with Values):\n",
    "- 튜플을 할당한 이넘(Enum with Tuple Assignment): \n",
    "- 구조체와 함께 사용하는 이넘(Enum with Struct):\n"
   ]
  },
  {
   "cell_type": "code",
   "execution_count": null,
   "id": "c37e849a",
   "metadata": {},
   "outputs": [],
   "source": []
  },
  {
   "cell_type": "markdown",
   "id": "611e4f24",
   "metadata": {},
   "source": [
    "##  2-1  열거형에 값을 넣기\n",
    "\n",
    "- 각 열거형 variant 에 데이터를 직접 넣는 방식을 사용해서 열거형을 구조체의 일부로 사용하는 방식보다 더 간결하게 동일한 개념을 표현할 수 있습니다"
   ]
  },
  {
   "cell_type": "code",
   "execution_count": 10,
   "id": "d5f657cd",
   "metadata": {},
   "outputs": [],
   "source": [
    "#[derive(Debug)]\n",
    "enum IpAddr_ {\n",
    "    V4(String),\n",
    "    V6(String),\n",
    "}"
   ]
  },
  {
   "cell_type": "code",
   "execution_count": 11,
   "id": "6f01fb85",
   "metadata": {},
   "outputs": [
    {
     "name": "stdout",
     "output_type": "stream",
     "text": [
      " V4(\"127.0.0.1\") \n",
      " V6(\"::1\") \n"
     ]
    }
   ],
   "source": [
    "fn main() {\n",
    "    let home = IpAddr_::V4(String::from(\"127.0.0.1\"));\n",
    "\n",
    "    let loopback = IpAddr_::V6(String::from(\"::1\"));\n",
    "    \n",
    "    println!(\" {:?} \", home);\n",
    "    println!(\" {:?} \", loopback);\n",
    "    \n",
    "}\n",
    "\n",
    "main();"
   ]
  },
  {
   "cell_type": "code",
   "execution_count": null,
   "id": "2ecf5528",
   "metadata": {},
   "outputs": [],
   "source": []
  },
  {
   "cell_type": "markdown",
   "id": "0fa1e351",
   "metadata": {},
   "source": [
    "## 2-2 열거형에 튜플 처리"
   ]
  },
  {
   "cell_type": "code",
   "execution_count": 8,
   "id": "cd939e00",
   "metadata": {},
   "outputs": [],
   "source": [
    "#[derive(Debug)]\n",
    "enum IpAddr_2 {\n",
    "    V4(u8, u8, u8, u8),\n",
    "    V6(String),\n",
    "}\n"
   ]
  },
  {
   "cell_type": "code",
   "execution_count": 9,
   "id": "0e3ccf77",
   "metadata": {},
   "outputs": [
    {
     "name": "stdout",
     "output_type": "stream",
     "text": [
      " V4(127, 0, 0, 1) \n",
      " V6(\"::1\") \n"
     ]
    }
   ],
   "source": [
    "fn main() {\n",
    "    let home = IpAddr_2::V4(127, 0, 0, 1);\n",
    "\n",
    "    let loopback = IpAddr_2::V6(String::from(\"::1\")); \n",
    "    \n",
    "    println!(\" {:?} \", home);\n",
    "    println!(\" {:?} \", loopback);\n",
    "    \n",
    "}\n",
    "\n",
    "main(); "
   ]
  },
  {
   "cell_type": "code",
   "execution_count": null,
   "id": "0a63406f",
   "metadata": {},
   "outputs": [],
   "source": []
  },
  {
   "cell_type": "markdown",
   "id": "2706eecc",
   "metadata": {},
   "source": [
    "## 2-3 열거형에 구조체 처리¶"
   ]
  },
  {
   "cell_type": "code",
   "execution_count": 3,
   "id": "7b3a8ab6",
   "metadata": {},
   "outputs": [],
   "source": [
    "#[derive(Debug)]\n",
    "enum Shape {\n",
    "    Rectangle { width: u32, height: u32 },\n",
    "    Circle { radius: f64 },\n",
    "    Triangle { base: u32, height: u32 },\n",
    "}"
   ]
  },
  {
   "cell_type": "code",
   "execution_count": 5,
   "id": "a71c527d",
   "metadata": {},
   "outputs": [
    {
     "name": "stdout",
     "output_type": "stream",
     "text": [
      "Rectangle: 10 x 20\n"
     ]
    }
   ],
   "source": [
    "fn main() {\n",
    "    let rectangle = Shape::Rectangle { width: 10, height: 20 };\n",
    "    let circle = Shape::Circle { radius: 5.0 };\n",
    "    let triangle = Shape::Triangle { base: 8, height: 12 };\n",
    "\n",
    "    match rectangle {\n",
    "        Shape::Rectangle { width, height } => {\n",
    "            println!(\"Rectangle: {} x {}\", width, height);\n",
    "        },\n",
    "        Shape::Circle { radius } => {\n",
    "            println!(\"Circle: radius {}\", radius);\n",
    "        },\n",
    "        Shape::Triangle { base, height } => {\n",
    "            println!(\"Triangle: base {} height {}\", base, height);\n",
    "        },\n",
    "    }\n",
    "    \n",
    "}\n",
    "\n",
    "main();\n"
   ]
  },
  {
   "cell_type": "code",
   "execution_count": null,
   "id": "43c09d14",
   "metadata": {},
   "outputs": [],
   "source": []
  }
 ],
 "metadata": {
  "kernelspec": {
   "display_name": "Rust",
   "language": "rust",
   "name": "rust"
  },
  "language_info": {
   "codemirror_mode": "rust",
   "file_extension": ".rs",
   "mimetype": "text/rust",
   "name": "Rust",
   "pygment_lexer": "rust",
   "version": ""
  }
 },
 "nbformat": 4,
 "nbformat_minor": 5
}
