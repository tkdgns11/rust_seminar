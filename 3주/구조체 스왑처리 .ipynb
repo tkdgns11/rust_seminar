{
 "cells": [
  {
   "cell_type": "markdown",
   "id": "9db440df",
   "metadata": {},
   "source": [
    "## 구조체의 필드 스왑처리하기 "
   ]
  },
  {
   "cell_type": "code",
   "execution_count": 10,
   "id": "4d681b6c",
   "metadata": {},
   "outputs": [],
   "source": [
    "#[derive(Debug)]\n",
    "struct MyStruct {\n",
    "    field1: i32,\n",
    "    field2: String,\n",
    "    field3: i32,\n",
    "}\n"
   ]
  },
  {
   "cell_type": "code",
   "execution_count": 19,
   "id": "371b8e99",
   "metadata": {},
   "outputs": [],
   "source": [
    "fn main() {\n",
    "    let mut my_struct1 = MyStruct {\n",
    "        field1: 42,\n",
    "        field2: String::from(\"Hello\"),\n",
    "        field3: 300,\n",
    "    };\n",
    "\n",
    "    // 구조분해 \n",
    "    let MyStruct { mut field1, mut field2, mut field3 } = my_struct1;\n",
    "\n",
    "    // 필드 스왑 : 자료형이 동일해야 함 \n",
    "    std::mem::swap(&mut field1, &mut field3);\n",
    "\n",
    "    // 구조체 인스턴스 생성 \n",
    "    let my_struct2 = MyStruct { field1, field2, field3 };\n",
    "\n",
    "    // 출력 \n",
    "    println!(\"{:?}\",my_struct2);\n",
    "}"
   ]
  },
  {
   "cell_type": "code",
   "execution_count": 18,
   "id": "45234251",
   "metadata": {},
   "outputs": [
    {
     "name": "stdout",
     "output_type": "stream",
     "text": [
      "MyStruct { field1: 300, field2: \"Hello\", field3: 42 }\n"
     ]
    }
   ],
   "source": [
    "main();"
   ]
  },
  {
   "cell_type": "code",
   "execution_count": null,
   "id": "1f35315c",
   "metadata": {},
   "outputs": [],
   "source": []
  },
  {
   "cell_type": "code",
   "execution_count": null,
   "id": "6d2e646d",
   "metadata": {},
   "outputs": [],
   "source": []
  }
 ],
 "metadata": {
  "kernelspec": {
   "display_name": "Rust",
   "language": "rust",
   "name": "rust"
  },
  "language_info": {
   "codemirror_mode": "rust",
   "file_extension": ".rs",
   "mimetype": "text/rust",
   "name": "Rust",
   "pygment_lexer": "rust",
   "version": ""
  }
 },
 "nbformat": 4,
 "nbformat_minor": 5
}
