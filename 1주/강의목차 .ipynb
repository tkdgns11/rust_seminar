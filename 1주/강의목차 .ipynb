{
 "cells": [
  {
   "cell_type": "markdown",
   "id": "2d7b1b4f",
   "metadata": {},
   "source": [
    "## 참고자료 \n",
    "\n",
    "https://practice.rs/?ref=morioh.com&utm_source=morioh.com"
   ]
  },
  {
   "cell_type": "markdown",
   "id": "4542f058",
   "metadata": {},
   "source": [
    "⭐️ Contents ⭐️\n",
    "- 1.  Introduction & Learning Resources\n",
    "- 2. Variables\n",
    "- 3. Numbers & Binary System\n",
    "- 4. Chars, Bools & Unit Types\n",
    "- 5. Statements & Expressions\n",
    "- 6. Functions\n",
    "- 7. Ownership\n",
    "- 8. Borrowing\n",
    "- 9. String vs. &str\n",
    "- 10. Slices\n",
    "- 11. Tuples\n",
    "- 12. Structs\n",
    "- 13. Enums\n",
    "- 14. The \"Option\" Enum\n",
    "- 15. Flow Control\n",
    "- 16. Pattern Match\n",
    "- 17. Methods & Associated Functions\n",
    "- 18. Generics\n",
    "- 19. Traits\n",
    "- 20. Trait Objects\n",
    "- 21. Associated Types\n",
    "- 22. String\n",
    "- 23. Vectors\n",
    "- 24. HashMaps\n",
    "- 25. Type Coercion\n",
    "- 26. From & Into\n",
    "- 27. panic!\n",
    "- 28. Result\n",
    "- 29. Cargo, Crates & Modules\n",
    "- 30. Debug & Display\n",
    "- 31. Lifetimes\n",
    "- 32. Lifetime Elision\n",
    "- 33. Closures\n",
    "- 34. Iterators"
   ]
  },
  {
   "cell_type": "code",
   "execution_count": null,
   "id": "12e6a79f",
   "metadata": {},
   "outputs": [],
   "source": []
  }
 ],
 "metadata": {
  "kernelspec": {
   "display_name": "Rust",
   "language": "rust",
   "name": "rust"
  },
  "language_info": {
   "codemirror_mode": "rust",
   "file_extension": ".rs",
   "mimetype": "text/rust",
   "name": "Rust",
   "pygment_lexer": "rust",
   "version": ""
  }
 },
 "nbformat": 4,
 "nbformat_minor": 5
}
