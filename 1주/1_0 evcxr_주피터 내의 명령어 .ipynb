{
 "cells": [
  {
   "cell_type": "markdown",
   "id": "1e0ee3e8",
   "metadata": {},
   "source": [
    "# 1. 러스트 환경 구축"
   ]
  },
  {
   "cell_type": "markdown",
   "id": "2440591a",
   "metadata": {},
   "source": [
    "## 1-1 주피터노트북에 러스트(evcxr) 설치하기¶\n",
    "https://pipln.medium.com/rust-%EB%A5%BC-jupyter-notebook-%EC%82%AC%EC%9A%A9%ED%95%98%EA%B8%B0-cd939324e23f"
   ]
  },
  {
   "cell_type": "code",
   "execution_count": null,
   "id": "4db38472",
   "metadata": {},
   "outputs": [],
   "source": []
  },
  {
   "cell_type": "markdown",
   "id": "522571ae",
   "metadata": {},
   "source": [
    "## 1-2 인텔리제이에 러스트 설치하기\n",
    "https://wecandev.tistory.com/145"
   ]
  },
  {
   "cell_type": "code",
   "execution_count": null,
   "id": "a2a371f5",
   "metadata": {},
   "outputs": [],
   "source": []
  },
  {
   "cell_type": "markdown",
   "id": "7e25515b",
   "metadata": {},
   "source": [
    "# 2. 주요 명령어 "
   ]
  },
  {
   "cell_type": "code",
   "execution_count": 4,
   "id": "1b345699",
   "metadata": {},
   "outputs": [
    {
     "data": {
      "text/html": [
       "<table>\n",
       "<tr><td>:clear</td><td>Clear all state, keeping compilation cache</td></tr>\n",
       "<tr><td>:dep</td><td>Add dependency. e.g. :dep regex = \"1.0\"</td></tr>\n",
       "<tr><td>:efmt</td><td>Set the formatter for errors returned by ?</td></tr>\n",
       "<tr><td>:explain</td><td>Print explanation of last error</td></tr>\n",
       "<tr><td>:fmt</td><td>Set output formatter (default: {:?})</td></tr>\n",
       "<tr><td>:help</td><td>Print command help</td></tr>\n",
       "<tr><td>:internal_debug</td><td>Toggle various internal debugging code</td></tr>\n",
       "<tr><td>:last_compile_dir</td><td>Print the directory in which we last compiled</td></tr>\n",
       "<tr><td>:last_error_json</td><td>Print the last compilation error as JSON (for debugging)</td></tr>\n",
       "<tr><td>:linker</td><td>Set/print linker. Supported: system, lld, mold</td></tr>\n",
       "<tr><td>:load_config</td><td>Reloads startup configuration files. Accepts optional flag `--quiet` to suppress logging.</td></tr>\n",
       "<tr><td>:offline</td><td>Set offline mode when invoking cargo</td></tr>\n",
       "<tr><td>:opt</td><td>Set optimization level (0/1/2)</td></tr>\n",
       "<tr><td>:preserve_vars_on_panic</td><td>Try to keep vars on panic (0/1)</td></tr>\n",
       "<tr><td>:quit</td><td>Quit evaluation and exit</td></tr>\n",
       "<tr><td>:sccache</td><td>Set whether to use sccache (0/1).</td></tr>\n",
       "<tr><td>:time_passes</td><td>Toggle printing of rustc pass times (requires nightly)</td></tr>\n",
       "<tr><td>:timing</td><td>Toggle printing of how long evaluations take</td></tr>\n",
       "<tr><td>:toolchain</td><td>Set which toolchain to use (e.g. nightly)</td></tr>\n",
       "<tr><td>:vars</td><td>List bound variables and their types</td></tr>\n",
       "<tr><td>:version</td><td>Print Evcxr version</td></tr>\n",
       "</table>\n"
      ],
      "text/plain": [
       ":clear            Clear all state, keeping compilation cache\n",
       ":dep              Add dependency. e.g. :dep regex = \"1.0\"\n",
       ":efmt             Set the formatter for errors returned by ?\n",
       ":explain          Print explanation of last error\n",
       ":fmt              Set output formatter (default: {:?})\n",
       ":help             Print command help\n",
       ":internal_debug   Toggle various internal debugging code\n",
       ":last_compile_dir Print the directory in which we last compiled\n",
       ":last_error_json  Print the last compilation error as JSON (for debugging)\n",
       ":linker           Set/print linker. Supported: system, lld, mold\n",
       ":load_config      Reloads startup configuration files. Accepts optional flag `--quiet` to suppress logging.\n",
       ":offline          Set offline mode when invoking cargo\n",
       ":opt              Set optimization level (0/1/2)\n",
       ":preserve_vars_on_panic Try to keep vars on panic (0/1)\n",
       ":quit             Quit evaluation and exit\n",
       ":sccache          Set whether to use sccache (0/1).\n",
       ":time_passes      Toggle printing of rustc pass times (requires nightly)\n",
       ":timing           Toggle printing of how long evaluations take\n",
       ":toolchain        Set which toolchain to use (e.g. nightly)\n",
       ":vars             List bound variables and their types\n",
       ":version          Print Evcxr version\n"
      ]
     },
     "execution_count": 4,
     "metadata": {},
     "output_type": "execute_result"
    }
   ],
   "source": [
    ":help"
   ]
  },
  {
   "cell_type": "code",
   "execution_count": 5,
   "id": "e51048e8",
   "metadata": {},
   "outputs": [
    {
     "data": {
      "text/plain": [
       "0.14.2\n"
      ]
     },
     "execution_count": 5,
     "metadata": {},
     "output_type": "execute_result"
    }
   ],
   "source": [
    ":version"
   ]
  },
  {
   "cell_type": "code",
   "execution_count": null,
   "id": "4143ca90",
   "metadata": {},
   "outputs": [],
   "source": []
  }
 ],
 "metadata": {
  "kernelspec": {
   "display_name": "Rust",
   "language": "rust",
   "name": "rust"
  },
  "language_info": {
   "codemirror_mode": "rust",
   "file_extension": ".rs",
   "mimetype": "text/rust",
   "name": "Rust",
   "pygment_lexer": "rust",
   "version": ""
  }
 },
 "nbformat": 4,
 "nbformat_minor": 5
}
