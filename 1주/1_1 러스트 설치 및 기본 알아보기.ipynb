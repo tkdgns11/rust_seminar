{
 "cells": [
  {
   "cell_type": "markdown",
   "id": "db31a336",
   "metadata": {},
   "source": [
    "# 1. 러스트 설치 알아보기"
   ]
  },
  {
   "cell_type": "markdown",
   "id": "331627ed",
   "metadata": {},
   "source": [
    "## 1-1 주피터노트북에 러스트(evcxr) 설치하기\n",
    "\n",
    "https://pipln.medium.com/rust-%EB%A5%BC-jupyter-notebook-%EC%82%AC%EC%9A%A9%ED%95%98%EA%B8%B0-cd939324e23f"
   ]
  },
  {
   "cell_type": "markdown",
   "id": "dda0c05a",
   "metadata": {},
   "source": [
    "## 1-2 인텔리제이에 러스트 설치하기 \n",
    "\n",
    "https://wecandev.tistory.com/145"
   ]
  },
  {
   "cell_type": "markdown",
   "id": "98222a2c",
   "metadata": {},
   "source": [
    "# 2. 러스트 프로그램 진입점도 main 함수이다.\n",
    "\n",
    "-  함수 작성할 때 예약어는 fn 이다.\n",
    "-  출력을 하는 println!는 함수가 아닌 매크로 : 매크로 호출할때는 !를 꼭 붙인다.\n"
   ]
  },
  {
   "cell_type": "code",
   "execution_count": 3,
   "id": "155692d4",
   "metadata": {},
   "outputs": [],
   "source": [
    "fn main() {\n",
    "    println!(\"Hello world\");\n",
    "}"
   ]
  },
  {
   "cell_type": "code",
   "execution_count": 4,
   "id": "ab47271b",
   "metadata": {},
   "outputs": [
    {
     "name": "stdout",
     "output_type": "stream",
     "text": [
      "Hello world\n"
     ]
    }
   ],
   "source": [
    "main();"
   ]
  },
  {
   "cell_type": "code",
   "execution_count": null,
   "id": "277783ec",
   "metadata": {},
   "outputs": [],
   "source": []
  },
  {
   "cell_type": "markdown",
   "id": "609eccfe",
   "metadata": {},
   "source": [
    "# 3. 러스트 변수 알아보기 "
   ]
  },
  {
   "cell_type": "code",
   "execution_count": null,
   "id": "2cf99f68",
   "metadata": {},
   "outputs": [],
   "source": []
  },
  {
   "cell_type": "markdown",
   "id": "6b86dec7",
   "metadata": {},
   "source": [
    "## 변수와 값 메모리 구조\n",
    "\n",
    "- 변수는 별도의 룩업 테이블에 이름을 관리하고 실제 값을 가르키는 역할 \n",
    "- 그래서 변수에는 값이 저장된 곳이 메모리 주소를 관리한다."
   ]
  },
  {
   "cell_type": "code",
   "execution_count": null,
   "id": "e2110e64",
   "metadata": {},
   "outputs": [],
   "source": []
  },
  {
   "cell_type": "markdown",
   "id": "56349b83",
   "metadata": {},
   "source": [
    "## 2-2 변경불가한 변수 정의 \n",
    "\n",
    "- let 예약어로 변수를 바인딩한다. \n",
    "- 한번 정의된 변수는 재할당이 금지된다.  재할당이 가능하려면 재할당여부를 변수 정의할 때 지정해야 한다. \n",
    "- 변수에 타입어노테이션을 지정할 수 있으나 컴파일시점에 타입을 대부분 추론한다\n",
    "- 타입 추론이 안 될 경우에 타입을 지정하라고 컴파일 에러를 제공한다"
   ]
  },
  {
   "cell_type": "code",
   "execution_count": 5,
   "id": "9fb41008",
   "metadata": {},
   "outputs": [],
   "source": [
    "let var = 100;"
   ]
  },
  {
   "cell_type": "code",
   "execution_count": 11,
   "id": "eed0c8f8",
   "metadata": {},
   "outputs": [
    {
     "data": {
      "text/plain": [
       "100"
      ]
     },
     "execution_count": 11,
     "metadata": {},
     "output_type": "execute_result"
    }
   ],
   "source": [
    "var"
   ]
  },
  {
   "cell_type": "markdown",
   "id": "a1b9dee6",
   "metadata": {},
   "source": [
    "### 재할당시 에러 "
   ]
  },
  {
   "cell_type": "code",
   "execution_count": 6,
   "id": "4343dffd",
   "metadata": {},
   "outputs": [
    {
     "ename": "Error",
     "evalue": "cannot assign twice to immutable variable `var`",
     "output_type": "error",
     "traceback": [
      "\u001b[31m[E0384] Error:\u001b[0m cannot assign twice to immutable variable `var`"
     ]
    }
   ],
   "source": [
    "var = 300"
   ]
  },
  {
   "cell_type": "code",
   "execution_count": null,
   "id": "5f75cebe",
   "metadata": {},
   "outputs": [],
   "source": []
  },
  {
   "cell_type": "markdown",
   "id": "75bfc6ee",
   "metadata": {},
   "source": [
    "## 2-3 변경가능한 변수 \n",
    "\n",
    "- mut 예약어를 사용해서 변수에 재할당을 가능하도록 처리\n",
    "- "
   ]
  },
  {
   "cell_type": "code",
   "execution_count": 12,
   "id": "216faf39",
   "metadata": {},
   "outputs": [],
   "source": [
    "let mut mutVar = 200;"
   ]
  },
  {
   "cell_type": "code",
   "execution_count": 13,
   "id": "10045d84",
   "metadata": {},
   "outputs": [
    {
     "data": {
      "text/plain": [
       "200"
      ]
     },
     "execution_count": 13,
     "metadata": {},
     "output_type": "execute_result"
    }
   ],
   "source": [
    "mutVar"
   ]
  },
  {
   "cell_type": "markdown",
   "id": "7ce4a3c0",
   "metadata": {},
   "source": [
    "### 재할당 가능 "
   ]
  },
  {
   "cell_type": "code",
   "execution_count": 14,
   "id": "7b89fd7e",
   "metadata": {},
   "outputs": [],
   "source": [
    "mutVar = 300;"
   ]
  },
  {
   "cell_type": "code",
   "execution_count": 15,
   "id": "095cb80d",
   "metadata": {},
   "outputs": [
    {
     "data": {
      "text/plain": [
       "300"
      ]
     },
     "execution_count": 15,
     "metadata": {},
     "output_type": "execute_result"
    }
   ],
   "source": [
    "mutVar"
   ]
  },
  {
   "cell_type": "code",
   "execution_count": null,
   "id": "f4b321fe",
   "metadata": {},
   "outputs": [],
   "source": []
  }
 ],
 "metadata": {
  "kernelspec": {
   "display_name": "Rust",
   "language": "rust",
   "name": "rust"
  },
  "language_info": {
   "codemirror_mode": "rust",
   "file_extension": ".rs",
   "mimetype": "text/rust",
   "name": "Rust",
   "pygment_lexer": "rust",
   "version": ""
  }
 },
 "nbformat": 4,
 "nbformat_minor": 5
}
