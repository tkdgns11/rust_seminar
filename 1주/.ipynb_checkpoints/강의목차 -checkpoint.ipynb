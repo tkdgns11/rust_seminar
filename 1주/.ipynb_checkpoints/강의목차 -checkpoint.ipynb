{
 "cells": [
  {
   "cell_type": "code",
   "execution_count": null,
   "id": "8282ed57",
   "metadata": {},
   "outputs": [],
   "source": []
  },
  {
   "cell_type": "code",
   "execution_count": null,
   "id": "a0c15419",
   "metadata": {},
   "outputs": [],
   "source": [
    "⭐️ Contents ⭐️\n",
    "00:00:00 Introduction & Learning Resources\n",
    "00:06:19 Variables\n",
    "00:27:07 Numbers & Binary System\n",
    "01:09:51 Chars, Bools & Unit Types\n",
    "01:17:55 Statements & Expressions\n",
    "01:24:50 Functions\n",
    "01:32:53 Ownership\n",
    "02:24:06 Borrowing\n",
    "02:47:45 String vs. &str\n",
    "03:17:59 Slices\n",
    "03:31:35 Tuples\n",
    "03:40:04 Structs\n",
    "04:02:52 Enums\n",
    "04:13:46 The \"Option\" Enum\n",
    "04:21:32 Flow Control\n",
    "04:44:43 Pattern Match\n",
    "05:16:42 Methods & Associated Functions\n",
    "05:31:50 Generics\n",
    "06:06:32 Traits\n",
    "06:47:15 Trait Objects\n",
    "07:09:51 Associated Types\n",
    "07:39:31 String\n",
    "07:59:52 Vectors\n",
    "08:29:00 HashMaps\n",
    "08:52:45 Type Coercion\n",
    "09:04:54 From & Into\n",
    "09:36:03 panic!\n",
    "09:44:56 Result\n",
    "10:28:23 Cargo, Crates & Modules\n",
    "11:08:28 Debug & Display\n",
    "11:30:13 Lifetimes\n",
    "12:14:46 Lifetime Elision\n",
    "12:38:53 Closures\n",
    "13:30:08 Iterators"
   ]
  },
  {
   "cell_type": "code",
   "execution_count": null,
   "id": "085f4b6c",
   "metadata": {},
   "outputs": [],
   "source": []
  }
 ],
 "metadata": {
  "kernelspec": {
   "display_name": "Rust",
   "language": "rust",
   "name": "rust"
  },
  "language_info": {
   "codemirror_mode": "rust",
   "file_extension": ".rs",
   "mimetype": "text/rust",
   "name": "Rust",
   "pygment_lexer": "rust",
   "version": ""
  }
 },
 "nbformat": 4,
 "nbformat_minor": 5
}
