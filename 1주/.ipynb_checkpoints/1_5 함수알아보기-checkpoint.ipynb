{
 "cells": [
  {
   "cell_type": "code",
   "execution_count": null,
   "id": "6a6411b5",
   "metadata": {},
   "outputs": [],
   "source": []
  },
  {
   "cell_type": "markdown",
   "id": "ab7207bc",
   "metadata": {},
   "source": [
    "## 1. 함수 이해하기 "
   ]
  },
  {
   "cell_type": "markdown",
   "id": "b4814d42",
   "metadata": {},
   "source": [
    "## 1-1 함수 정의하기\n",
    "\n",
    "### 예약어 fn 을 사용 하고 매개변수에 자료형을 반드시 지정\n",
    "\n",
    "   fn 함수이름(매개변수1: 자료형1, 매개변수2: 자료형2) {\n",
    "       // 함수의 실행 코드\n",
    "   }\n",
    "   \n",
    "### 함수의 본문은 블럭 내부에 코드를 작성한다. \n",
    "\n",
    "### 함수의 반환은 기본으로 최종 값을 반환, 중간에 종료가 필요하면 return을 사용\n",
    "   \n",
    "### 함수의 반환자료형은 아무것도 반환이 없을 때만 생략가능\n",
    "- 하지만 유닛타입으로 반환한다.  "
   ]
  },
  {
   "cell_type": "code",
   "execution_count": 9,
   "id": "cd0fadc4",
   "metadata": {},
   "outputs": [],
   "source": [
    "pub fn add(x: i32, y:i32) -> i32 {\n",
    "    x+y\n",
    "}"
   ]
  },
  {
   "cell_type": "markdown",
   "id": "2b47851d",
   "metadata": {},
   "source": [
    "## 1-2 함수 호출하기 \n",
    "\n",
    "- 함수 매개변수에 맞는 인자를 전달해서 호출한다, "
   ]
  },
  {
   "cell_type": "code",
   "execution_count": 12,
   "id": "edf6d0bb",
   "metadata": {},
   "outputs": [],
   "source": [
    "let a = add(10,20);"
   ]
  },
  {
   "cell_type": "code",
   "execution_count": 13,
   "id": "501a4687",
   "metadata": {},
   "outputs": [
    {
     "data": {
      "text/plain": [
       "30"
      ]
     },
     "execution_count": 13,
     "metadata": {},
     "output_type": "execute_result"
    }
   ],
   "source": [
    "a"
   ]
  },
  {
   "cell_type": "code",
   "execution_count": null,
   "id": "fb093478",
   "metadata": {},
   "outputs": [],
   "source": []
  },
  {
   "cell_type": "markdown",
   "id": "d8c96bc7",
   "metadata": {},
   "source": [
    "## 1-3 매개변수 "
   ]
  },
  {
   "cell_type": "markdown",
   "id": "4dcf325d",
   "metadata": {},
   "source": [
    "### 매개변수는 불변성이 기본: \n",
    "\n",
    "- 기본적으로 매개변수는 불변(immutable)합니다. \n",
    "- 함수 내에서 매개변수에 대한 수정을 시도하면 컴파일 오류가 발생합니다. \n",
    "- 이는 Rust의 안전성과 스레드 안전성을 유지하는 데 도움이 됩니다. \n",
    "-  만약 매개변수를 수정하려면 mut 키워드를 사용하여 가변성(mutability)을 명시해야 합니다."
   ]
  },
  {
   "cell_type": "code",
   "execution_count": 11,
   "id": "a6d3c663",
   "metadata": {},
   "outputs": [
    {
     "name": "stdout",
     "output_type": "stream",
     "text": [
      "Hello modified\n"
     ]
    }
   ],
   "source": [
    "fn process_data(data: &mut String) {\n",
    "    // 매개변수에 대한 수정\n",
    "    data.push_str(\" modified\");\n",
    "}\n",
    "\n",
    "fn main() {\n",
    "    let mut message = String::from(\"Hello\");\n",
    "    process_data(&mut message);\n",
    "    println!(\"{}\", message);  // \"Hello modified\"\n",
    "}\n",
    "\n",
    "main();"
   ]
  },
  {
   "cell_type": "code",
   "execution_count": null,
   "id": "62b5fd6c",
   "metadata": {},
   "outputs": [],
   "source": []
  },
  {
   "cell_type": "markdown",
   "id": "369e0bd4",
   "metadata": {},
   "source": [
    "### 소유권 전달과 빌림: \n",
    "- Rust에서는 매개변수에 대한 소유권(ownership)을 전달할 수 있습니다. \n",
    "- 이는 매개변수로 값을 전달하면 해당 값의 소유권이 함수로 이동하여, 함수 내에서 해당 값에 대한 모든 권한을 가지게 됩니다. \n",
    "- 또한 빌림(borrowing)을 사용하여 값에 대한 참조를 전달할 수도 있습니다."
   ]
  },
  {
   "cell_type": "code",
   "execution_count": 13,
   "id": "59debf2a",
   "metadata": {},
   "outputs": [],
   "source": [
    "fn process_data(data: String) {\n",
    "    // data의 소유권을 가져와서 작업 수행\n",
    "}\n",
    "\n",
    "fn main() {\n",
    "    let message = String::from(\"Hello\");\n",
    "    process_data(message);  // message의 소유권을 전달\n",
    "    // 여기서부터 message는 사용 불가능\n",
    "}\n",
    "\n",
    "main();"
   ]
  },
  {
   "cell_type": "code",
   "execution_count": null,
   "id": "d4035c94",
   "metadata": {},
   "outputs": [],
   "source": []
  },
  {
   "cell_type": "markdown",
   "id": "682eb617",
   "metadata": {},
   "source": [
    "### 슬라이스를 통한 매개변수 전달: \n",
    "\n",
    "- Rust에서는 슬라이스(slice)를 사용하여 매개변수로 데이터의 일부를 전달할 수 있습니다. \n",
    "- 슬라이스는 원본 데이터에 대한 참조이며, 크기 정보와 함께 전달됩니다."
   ]
  },
  {
   "cell_type": "code",
   "execution_count": 14,
   "id": "61ed8b3a",
   "metadata": {},
   "outputs": [],
   "source": [
    "fn process_data(data: &[i32]) {\n",
    "    // data에 대한 작업 수행\n",
    "}\n",
    "\n",
    "fn main() {\n",
    "    let numbers = vec![1, 2, 3, 4, 5];\n",
    "    process_data(&numbers[2..4]);  // numbers 슬라이스의 일부 전달\n",
    "}\n",
    "\n",
    "main();"
   ]
  },
  {
   "cell_type": "code",
   "execution_count": null,
   "id": "1661ce62",
   "metadata": {},
   "outputs": [],
   "source": []
  },
  {
   "cell_type": "markdown",
   "id": "b394783b",
   "metadata": {},
   "source": [
    "# 2 함수의 여러 특징 "
   ]
  },
  {
   "cell_type": "code",
   "execution_count": null,
   "id": "77a3b79d",
   "metadata": {},
   "outputs": [],
   "source": []
  },
  {
   "cell_type": "markdown",
   "id": "89c44a07",
   "metadata": {},
   "source": [
    "## 2-1. 반환 처리 방식\n",
    "\n",
    "- 표현식과 return 사요\n",
    "- return 일 경우는 일반적으로 중간에 반환이 필요할 경우에만 사용\n",
    "- 함수가 마지막까지 다 수행할 경우는 표현식으로 반환 "
   ]
  },
  {
   "cell_type": "code",
   "execution_count": 8,
   "id": "92b7f49b",
   "metadata": {},
   "outputs": [
    {
     "name": "stdout",
     "output_type": "stream",
     "text": [
      "sum :3 \n",
      "mul :2 \n",
      "Success!\n"
     ]
    }
   ],
   "source": [
    "fn main() {\n",
    "    let (x, y) = (1, 2);\n",
    "    let s = sum(x, y);\n",
    "\n",
    "    assert_eq!(s, 3);\n",
    "    \n",
    "    println!(\"sum :{} \", sum(x,y));\n",
    "    println!(\"mul :{} \", mul(x,y));\n",
    "    println!(\"Success!\");\n",
    "}\n",
    "\n",
    "fn sum(x: i32, y: i32) -> i32 {\n",
    "    return x + y; \n",
    "}\n",
    "\n",
    "fn mul(x: i32, y: i32) -> i32 {\n",
    "    x * y  \n",
    "}\n",
    "\n",
    "main();\n"
   ]
  },
  {
   "cell_type": "code",
   "execution_count": null,
   "id": "0c4f5efb",
   "metadata": {},
   "outputs": [],
   "source": []
  },
  {
   "cell_type": "markdown",
   "id": "06f7de9d",
   "metadata": {},
   "source": [
    "## 2-2 함수는 외부 변수 참조 금지 \n",
    "\n",
    "- 스레드 안전성을 보호하기 위해 참조는 전역변수를 참조할 수 없다. "
   ]
  },
  {
   "cell_type": "markdown",
   "id": "0ffb0a95",
   "metadata": {},
   "source": [
    "### 함수 밖의 전역을 참조할 수 없다"
   ]
  },
  {
   "cell_type": "code",
   "execution_count": 9,
   "id": "048ae10f",
   "metadata": {},
   "outputs": [
    {
     "ename": "Error",
     "evalue": "cannot find value `y` in this scope",
     "output_type": "error",
     "traceback": [
      "    a + y",
      "\u001b[91m        ^\u001b[0m \u001b[94merror: cannot find value `y` in this scope\u001b[0m",
      "cannot find value `y` in this scope",
      "\u001b[1mhelp\u001b[0m: a local variable with a similar name exists\n\na"
     ]
    }
   ],
   "source": [
    "fn add_numbers(a: i32) -> i32 {\n",
    "    a + y\n",
    "}\n",
    "\n",
    "fn main() {\n",
    "    let x = 10;\n",
    "    let y = 20;\n",
    "    let sum = add_numbers(x);\n",
    "    println!(\"두 수의 합: {}\", sum);\n",
    "}"
   ]
  },
  {
   "cell_type": "markdown",
   "id": "82fd61b4",
   "metadata": {},
   "source": [
    "### 매개변수의 인자로 전달해서 사용 "
   ]
  },
  {
   "cell_type": "code",
   "execution_count": 10,
   "id": "3d726043",
   "metadata": {},
   "outputs": [
    {
     "name": "stdout",
     "output_type": "stream",
     "text": [
      "두 수의 합: 30\n"
     ]
    }
   ],
   "source": [
    "fn add_numbers(a: i32, b: i32) -> i32 {\n",
    "    a + b\n",
    "}\n",
    "\n",
    "fn main() {\n",
    "    let x = 10;\n",
    "    let y = 20;\n",
    "    let sum = add_numbers(x, y);\n",
    "    println!(\"두 수의 합: {}\", sum);\n",
    "}\n",
    "\n",
    "main();"
   ]
  },
  {
   "cell_type": "code",
   "execution_count": null,
   "id": "1c16d21b",
   "metadata": {},
   "outputs": [],
   "source": []
  }
 ],
 "metadata": {
  "kernelspec": {
   "display_name": "Rust",
   "language": "rust",
   "name": "rust"
  },
  "language_info": {
   "codemirror_mode": "rust",
   "file_extension": ".rs",
   "mimetype": "text/rust",
   "name": "Rust",
   "pygment_lexer": "rust",
   "version": ""
  }
 },
 "nbformat": 4,
 "nbformat_minor": 5
}
