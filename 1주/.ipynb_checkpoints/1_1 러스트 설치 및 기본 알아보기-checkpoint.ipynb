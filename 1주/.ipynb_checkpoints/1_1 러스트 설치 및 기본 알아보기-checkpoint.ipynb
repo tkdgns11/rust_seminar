{
 "cells": [
  {
   "cell_type": "markdown",
   "id": "48b68d74",
   "metadata": {},
   "source": [
    "# 1. 러스트 설치 알아보기"
   ]
  },
  {
   "cell_type": "markdown",
   "id": "37b6f596",
   "metadata": {},
   "source": [
    "## 주피터노트북에 러스트(evcxr) 설치하기\n",
    "\n",
    "https://pipln.medium.com/rust-%EB%A5%BC-jupyter-notebook-%EC%82%AC%EC%9A%A9%ED%95%98%EA%B8%B0-cd939324e23f"
   ]
  },
  {
   "cell_type": "markdown",
   "id": "5f1a852f",
   "metadata": {},
   "source": [
    "## 인텔리제이에 러스트 설치하기 \n",
    "\n",
    "https://wecandev.tistory.com/145"
   ]
  },
  {
   "cell_type": "markdown",
   "id": "fc12ffbd",
   "metadata": {},
   "source": [
    "# 2. 러스트 프로그램 진입점도 main 함수이다.\n",
    "\n",
    "-  함수 작성할 때 예약어는 fn 이다.\n",
    "-  출력을 하는 println!는 함수가 아닌 매크로 : 매크로 호출할때는 !를 꼭 붙인다.\n"
   ]
  },
  {
   "cell_type": "code",
   "execution_count": 3,
   "id": "9e564fcd",
   "metadata": {},
   "outputs": [],
   "source": [
    "fn main() {\n",
    "    println!(\"Hello world\");\n",
    "}"
   ]
  },
  {
   "cell_type": "code",
   "execution_count": 4,
   "id": "3edf05d0",
   "metadata": {},
   "outputs": [
    {
     "name": "stdout",
     "output_type": "stream",
     "text": [
      "Hello world\n"
     ]
    }
   ],
   "source": [
    "main();"
   ]
  },
  {
   "cell_type": "code",
   "execution_count": null,
   "id": "ec9cc960",
   "metadata": {},
   "outputs": [],
   "source": []
  },
  {
   "cell_type": "markdown",
   "id": "d0d5e04e",
   "metadata": {},
   "source": [
    "# 3. 러스트 변수 알아보기 "
   ]
  },
  {
   "cell_type": "markdown",
   "id": "7f021096",
   "metadata": {},
   "source": [
    "## 변수 정의 \n",
    "\n",
    "- let 예약어로 변수를 바인딩한다. \n",
    "- 한번 정의된 변수는 재할당이 금지된다.  재할당이 가능하려면 재할당여부를 변수 정의할 때 지정해야 한다. \n",
    "- 변수에 타입어노테이션을 지정할 수 있으나 컴파일시점에 타입을 대부분 추론한다\n",
    "- 타입 추론이 안 될 경우에 타입을 지정하라고 컴파일 에러를 제공한다"
   ]
  },
  {
   "cell_type": "code",
   "execution_count": 5,
   "id": "9f6b5a85",
   "metadata": {},
   "outputs": [],
   "source": [
    "let var = 100;"
   ]
  },
  {
   "cell_type": "code",
   "execution_count": 11,
   "id": "88e619ad",
   "metadata": {},
   "outputs": [
    {
     "data": {
      "text/plain": [
       "100"
      ]
     },
     "execution_count": 11,
     "metadata": {},
     "output_type": "execute_result"
    }
   ],
   "source": [
    "var"
   ]
  },
  {
   "cell_type": "markdown",
   "id": "788c915f",
   "metadata": {},
   "source": [
    "### 재할당시 에러 "
   ]
  },
  {
   "cell_type": "code",
   "execution_count": 6,
   "id": "f2b7db49",
   "metadata": {},
   "outputs": [
    {
     "ename": "Error",
     "evalue": "cannot assign twice to immutable variable `var`",
     "output_type": "error",
     "traceback": [
      "\u001b[31m[E0384] Error:\u001b[0m cannot assign twice to immutable variable `var`"
     ]
    }
   ],
   "source": [
    "var = 300"
   ]
  },
  {
   "cell_type": "code",
   "execution_count": null,
   "id": "b4646794",
   "metadata": {},
   "outputs": [],
   "source": []
  },
  {
   "cell_type": "markdown",
   "id": "c0cb7b8c",
   "metadata": {},
   "source": [
    "## 변경가능한 변수 \n",
    "\n",
    "- mut 예약어를 사용해서 변수에 재할당을 가능하도록 처리\n",
    "- "
   ]
  },
  {
   "cell_type": "code",
   "execution_count": 12,
   "id": "ce1acee3",
   "metadata": {},
   "outputs": [],
   "source": [
    "let mut mutVar = 200;"
   ]
  },
  {
   "cell_type": "code",
   "execution_count": 13,
   "id": "6423784b",
   "metadata": {},
   "outputs": [
    {
     "data": {
      "text/plain": [
       "200"
      ]
     },
     "execution_count": 13,
     "metadata": {},
     "output_type": "execute_result"
    }
   ],
   "source": [
    "mutVar"
   ]
  },
  {
   "cell_type": "markdown",
   "id": "e25c5500",
   "metadata": {},
   "source": [
    "### 재할당 가능 "
   ]
  },
  {
   "cell_type": "code",
   "execution_count": 14,
   "id": "50bac387",
   "metadata": {},
   "outputs": [],
   "source": [
    "mutVar = 300;"
   ]
  },
  {
   "cell_type": "code",
   "execution_count": 15,
   "id": "3fea4ddb",
   "metadata": {},
   "outputs": [
    {
     "data": {
      "text/plain": [
       "300"
      ]
     },
     "execution_count": 15,
     "metadata": {},
     "output_type": "execute_result"
    }
   ],
   "source": [
    "mutVar"
   ]
  },
  {
   "cell_type": "code",
   "execution_count": null,
   "id": "65032855",
   "metadata": {},
   "outputs": [],
   "source": []
  }
 ],
 "metadata": {
  "kernelspec": {
   "display_name": "Rust",
   "language": "rust",
   "name": "rust"
  },
  "language_info": {
   "codemirror_mode": "rust",
   "file_extension": ".rs",
   "mimetype": "text/rust",
   "name": "Rust",
   "pygment_lexer": "rust",
   "version": ""
  }
 },
 "nbformat": 4,
 "nbformat_minor": 5
}
