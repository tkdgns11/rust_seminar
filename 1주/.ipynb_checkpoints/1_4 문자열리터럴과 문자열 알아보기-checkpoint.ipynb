{
 "cells": [
  {
   "cell_type": "code",
   "execution_count": null,
   "id": "dae23910",
   "metadata": {},
   "outputs": [],
   "source": []
  },
  {
   "cell_type": "code",
   "execution_count": null,
   "id": "e23652d0",
   "metadata": {},
   "outputs": [],
   "source": []
  },
  {
   "cell_type": "markdown",
   "id": "13372352",
   "metadata": {},
   "source": [
    "# 1. 문자열리터럴"
   ]
  },
  {
   "cell_type": "code",
   "execution_count": null,
   "id": "85b16760",
   "metadata": {},
   "outputs": [],
   "source": []
  },
  {
   "cell_type": "code",
   "execution_count": null,
   "id": "1f415043",
   "metadata": {},
   "outputs": [],
   "source": []
  },
  {
   "cell_type": "markdown",
   "id": "6c6492c5",
   "metadata": {},
   "source": [
    "# 2. 문자열 "
   ]
  },
  {
   "cell_type": "code",
   "execution_count": null,
   "id": "28cc7940",
   "metadata": {},
   "outputs": [],
   "source": []
  }
 ],
 "metadata": {
  "kernelspec": {
   "display_name": "Rust",
   "language": "rust",
   "name": "rust"
  },
  "language_info": {
   "codemirror_mode": "rust",
   "file_extension": ".rs",
   "mimetype": "text/rust",
   "name": "Rust",
   "pygment_lexer": "rust",
   "version": ""
  }
 },
 "nbformat": 4,
 "nbformat_minor": 5
}
