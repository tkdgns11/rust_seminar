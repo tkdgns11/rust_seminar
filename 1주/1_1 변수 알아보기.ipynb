{
 "cells": [
  {
   "cell_type": "markdown",
   "id": "98222a2c",
   "metadata": {},
   "source": [
    "# 1. 러스트 프로그램 진입점도 main 함수이다.\n",
    "\n",
    "-  함수 작성할 때 예약어는 fn 이다.\n",
    "-  출력을 하는 println!는 함수가 아닌 매크로 : 매크로 호출할때는 !를 꼭 붙인다.\n"
   ]
  },
  {
   "cell_type": "code",
   "execution_count": 3,
   "id": "155692d4",
   "metadata": {},
   "outputs": [],
   "source": [
    "fn main() {\n",
    "    println!(\"Hello world\");\n",
    "}"
   ]
  },
  {
   "cell_type": "code",
   "execution_count": 4,
   "id": "ab47271b",
   "metadata": {},
   "outputs": [
    {
     "name": "stdout",
     "output_type": "stream",
     "text": [
      "Hello world\n"
     ]
    }
   ],
   "source": [
    "main();"
   ]
  },
  {
   "cell_type": "code",
   "execution_count": null,
   "id": "277783ec",
   "metadata": {},
   "outputs": [],
   "source": []
  },
  {
   "cell_type": "markdown",
   "id": "609eccfe",
   "metadata": {},
   "source": [
    "# 2. 러스트 변수 알아보기 "
   ]
  },
  {
   "cell_type": "code",
   "execution_count": null,
   "id": "2cf99f68",
   "metadata": {},
   "outputs": [],
   "source": []
  },
  {
   "cell_type": "markdown",
   "id": "6b86dec7",
   "metadata": {},
   "source": [
    "## 변수와 값 메모리 구조\n",
    "\n",
    "- 변수는 별도의 룩업 테이블에 이름을 관리하고 실제 값을 가르키는 역할 \n",
    "- 그래서 변수에는 값이 저장된 곳이 메모리 주소를 관리한다.\n",
    "\n",
    "\n",
    "### 심볼 테이블(Symbol Table):\n",
    "\n",
    "- 심볼 테이블은 컴파일러 또는 인터프리터가 프로그램의 식별자(변수, 함수, 클래스 등)에 대한 정보를 저장하는 데이터 구조입니다.\n",
    "- 심볼 테이블은 식별자의 이름, 유형, 메모리 주소 등을 포함할 수 있습니다.\n",
    "  컴파일러 또는 인터프리터는 심볼 테이블을 사용하여 식별자를 검색하고 해당 식별자에 대한 정보를 확인할 수 있습니다.\n",
    "\n",
    "\n",
    "### 메모리 연결 방식:\n",
    "\n",
    "- 메모리 연결 방식은 변수 및 객체가 메모리에 할당되는 방식을 의미합니다.\n",
    "- 정적 메모리 연결(Static Memory Allocation): 컴파일 시간에 메모리를 할당하고 프로그램 실행 동안 메모리 주소가 고정되는 방식입니다.\n",
    "  일반적으로 전역 변수와 정적 변수에 사용됩니다.\n",
    "-  동적 메모리 연결(Dynamic Memory Allocation): 프로그램 실행 중에 메모리를 동적으로 할당하고 해제하는 방식입니다. \n",
    "   동적 할당은 주로 힙(heap) 메모리를 사용하여 변수나 객체를 생성하는 데 사용됩니다."
   ]
  },
  {
   "cell_type": "code",
   "execution_count": null,
   "id": "e2110e64",
   "metadata": {},
   "outputs": [],
   "source": []
  },
  {
   "cell_type": "markdown",
   "id": "56349b83",
   "metadata": {},
   "source": [
    "## 2-1 변경불가한 변수 정의 \n",
    "\n",
    "- let 예약어로 변수를 바인딩한다. \n",
    "- 한번 정의된 변수는 재할당이 금지된다.  재할당이 가능하려면 재할당여부를 변수 정의할 때 지정해야 한다. \n",
    "- 변수에 타입어노테이션을 지정할 수 있으나 컴파일시점에 타입을 대부분 추론한다\n",
    "- 타입 추론이 안 될 경우에 타입을 지정하라고 컴파일 에러를 제공한다"
   ]
  },
  {
   "cell_type": "code",
   "execution_count": 5,
   "id": "9fb41008",
   "metadata": {},
   "outputs": [],
   "source": [
    "let var = 100;"
   ]
  },
  {
   "cell_type": "code",
   "execution_count": 11,
   "id": "eed0c8f8",
   "metadata": {},
   "outputs": [
    {
     "data": {
      "text/plain": [
       "100"
      ]
     },
     "execution_count": 11,
     "metadata": {},
     "output_type": "execute_result"
    }
   ],
   "source": [
    "var"
   ]
  },
  {
   "cell_type": "markdown",
   "id": "a1b9dee6",
   "metadata": {},
   "source": [
    "### 재할당시 에러 "
   ]
  },
  {
   "cell_type": "code",
   "execution_count": 6,
   "id": "4343dffd",
   "metadata": {},
   "outputs": [
    {
     "ename": "Error",
     "evalue": "cannot assign twice to immutable variable `var`",
     "output_type": "error",
     "traceback": [
      "\u001b[31m[E0384] Error:\u001b[0m cannot assign twice to immutable variable `var`"
     ]
    }
   ],
   "source": [
    "var = 300"
   ]
  },
  {
   "cell_type": "markdown",
   "id": "c7e1793c",
   "metadata": {},
   "source": [
    "## 2-2 개발툴에서 불변변수에 재할당한 경우 "
   ]
  },
  {
   "cell_type": "code",
   "execution_count": 16,
   "id": "8c36e1e3",
   "metadata": {},
   "outputs": [
    {
     "ename": "Error",
     "evalue": "cannot assign twice to immutable variable `x`",
     "output_type": "error",
     "traceback": [
      "\u001b[31m[E0384] Error:\u001b[0m cannot assign twice to immutable variable `x`",
      "   \u001b[38;5;246m╭\u001b[0m\u001b[38;5;246m─\u001b[0m\u001b[38;5;246m[\u001b[0mcommand_16:1:1\u001b[38;5;246m]\u001b[0m",
      "   \u001b[38;5;246m│\u001b[0m",
      " \u001b[38;5;246m2 │\u001b[0m \u001b[38;5;249m \u001b[0m\u001b[38;5;249m \u001b[0m\u001b[38;5;249m \u001b[0m\u001b[38;5;249m \u001b[0m\u001b[38;5;249ml\u001b[0m\u001b[38;5;249me\u001b[0m\u001b[38;5;249mt\u001b[0m\u001b[38;5;249m \u001b[0m\u001b[38;5;54mx\u001b[0m\u001b[38;5;249m \u001b[0m\u001b[38;5;249m=\u001b[0m\u001b[38;5;249m \u001b[0m\u001b[38;5;249m5\u001b[0m\u001b[38;5;249m;\u001b[0m",
      " \u001b[38;5;246m  ·\u001b[0m         \u001b[38;5;54m┬\u001b[0m  ",
      " \u001b[38;5;246m  ·\u001b[0m         \u001b[38;5;54m╰\u001b[0m\u001b[38;5;54m─\u001b[0m\u001b[38;5;54m─\u001b[0m first assignment to `x`",
      " \u001b[38;5;246m  ·\u001b[0m         \u001b[38;5;68m│\u001b[0m  ",
      " \u001b[38;5;246m  ·\u001b[0m         \u001b[38;5;68m╰\u001b[0m\u001b[38;5;68m─\u001b[0m\u001b[38;5;68m─\u001b[0m help: consider making this binding mutable: `mut x`",
      " \u001b[38;5;246m  ·\u001b[0m ",
      " \u001b[38;5;246m4 │\u001b[0m \u001b[38;5;249m \u001b[0m\u001b[38;5;249m \u001b[0m\u001b[38;5;249m \u001b[0m\u001b[38;5;249m \u001b[0m\u001b[38;5;100mx\u001b[0m\u001b[38;5;100m \u001b[0m\u001b[38;5;100m=\u001b[0m\u001b[38;5;100m \u001b[0m\u001b[38;5;100m6\u001b[0m\u001b[38;5;249m;\u001b[0m",
      " \u001b[38;5;246m  ·\u001b[0m     \u001b[38;5;100m─\u001b[0m\u001b[38;5;100m─\u001b[0m\u001b[38;5;100m┬\u001b[0m\u001b[38;5;100m─\u001b[0m\u001b[38;5;100m─\u001b[0m  ",
      " \u001b[38;5;246m  ·\u001b[0m       \u001b[38;5;100m╰\u001b[0m\u001b[38;5;100m─\u001b[0m\u001b[38;5;100m─\u001b[0m\u001b[38;5;100m─\u001b[0m\u001b[38;5;100m─\u001b[0m cannot assign twice to immutable variable",
      " \u001b[38;5;246m  ·\u001b[0m ",
      " \u001b[38;5;246m  ·\u001b[0m \u001b[38;5;115mNote\u001b[0m: You can change an existing variable to mutable like: `let mut x = x;`",
      "\u001b[38;5;246m───╯\u001b[0m"
     ]
    }
   ],
   "source": [
    "fn main() {\n",
    "    let x = 5;\n",
    "    println!(\"The value of x is: {}\", x);\n",
    "    x = 6;\n",
    "    println!(\"The value of x is: {}\", x);\n",
    "}"
   ]
  },
  {
   "cell_type": "code",
   "execution_count": null,
   "id": "f00ba4c6",
   "metadata": {},
   "outputs": [],
   "source": []
  },
  {
   "cell_type": "markdown",
   "id": "75bfc6ee",
   "metadata": {},
   "source": [
    "## 2-3 변경가능한 변수 \n",
    "\n",
    "- mut 예약어를 사용해서 변수에 재할당을 가능하도록 처리\n",
    "- "
   ]
  },
  {
   "cell_type": "code",
   "execution_count": 12,
   "id": "216faf39",
   "metadata": {},
   "outputs": [],
   "source": [
    "let mut mutVar = 200;"
   ]
  },
  {
   "cell_type": "code",
   "execution_count": 13,
   "id": "10045d84",
   "metadata": {},
   "outputs": [
    {
     "data": {
      "text/plain": [
       "200"
      ]
     },
     "execution_count": 13,
     "metadata": {},
     "output_type": "execute_result"
    }
   ],
   "source": [
    "mutVar"
   ]
  },
  {
   "cell_type": "markdown",
   "id": "7ce4a3c0",
   "metadata": {},
   "source": [
    "### 재할당 가능 "
   ]
  },
  {
   "cell_type": "code",
   "execution_count": 14,
   "id": "7b89fd7e",
   "metadata": {},
   "outputs": [],
   "source": [
    "mutVar = 300;"
   ]
  },
  {
   "cell_type": "code",
   "execution_count": 15,
   "id": "095cb80d",
   "metadata": {},
   "outputs": [
    {
     "data": {
      "text/plain": [
       "300"
      ]
     },
     "execution_count": 15,
     "metadata": {},
     "output_type": "execute_result"
    }
   ],
   "source": [
    "mutVar"
   ]
  },
  {
   "cell_type": "code",
   "execution_count": null,
   "id": "f4b321fe",
   "metadata": {},
   "outputs": [],
   "source": []
  },
  {
   "cell_type": "markdown",
   "id": "58ba78d7",
   "metadata": {},
   "source": [
    "## 함수에 정의해서 처리하기"
   ]
  },
  {
   "cell_type": "code",
   "execution_count": 17,
   "id": "ff542dd1",
   "metadata": {},
   "outputs": [],
   "source": [
    "fn main() {\n",
    "    let mut x = 5;\n",
    "    println!(\"The value of x is: {}\", x);\n",
    "    x = 6;\n",
    "    println!(\"The value of x is: {}\", x);\n",
    "}"
   ]
  },
  {
   "cell_type": "code",
   "execution_count": 18,
   "id": "1f92d09d",
   "metadata": {},
   "outputs": [
    {
     "name": "stdout",
     "output_type": "stream",
     "text": [
      "The value of x is: 5\n",
      "The value of x is: 6\n"
     ]
    }
   ],
   "source": [
    "main();"
   ]
  },
  {
   "cell_type": "code",
   "execution_count": null,
   "id": "bc59ecdd",
   "metadata": {},
   "outputs": [],
   "source": []
  },
  {
   "cell_type": "markdown",
   "id": "d93375ea",
   "metadata": {},
   "source": [
    "## 2-4 변수 새도잉 "
   ]
  },
  {
   "cell_type": "code",
   "execution_count": 19,
   "id": "9e4d3093",
   "metadata": {},
   "outputs": [],
   "source": [
    "fn main() {\n",
    "    let x = 5;\n",
    "\n",
    "    let x = x + 1;\n",
    "\n",
    "    let x = x * 2;\n",
    "\n",
    "    println!(\"The value of x is: {}\", x);\n",
    "}"
   ]
  },
  {
   "cell_type": "code",
   "execution_count": 20,
   "id": "28564d64",
   "metadata": {},
   "outputs": [
    {
     "name": "stdout",
     "output_type": "stream",
     "text": [
      "The value of x is: 12\n"
     ]
    }
   ],
   "source": [
    "main();"
   ]
  },
  {
   "cell_type": "code",
   "execution_count": null,
   "id": "2c7393ce",
   "metadata": {},
   "outputs": [],
   "source": []
  },
  {
   "cell_type": "markdown",
   "id": "05fca8b6",
   "metadata": {},
   "source": [
    "# 3. 변수가 관리하는 값이해하기\n",
    "\n",
    "- 메모리에 값이 저장되고 이 값이 저장된 주소가 변수에 할당된다.\n",
    "- 이때 저장된 곳이 값이 주소일 경우가 있다. 즉 레퍼런스를 보관하는 객체을 구별해야 한다.\n",
    "- 보통 레퍼런스를 저장하는 경우는 힙에 데이터를 생성한다. 값으로 관리하는 것은 주로 스택에 저장한다. "
   ]
  },
  {
   "cell_type": "markdown",
   "id": "6a1a2829",
   "metadata": {},
   "source": [
    "### 값 저장:\n",
    "\n",
    "- 프로그래밍 언어에서 변수나 객체는 값을 저장하기 위해 메모리에 공간을 할당받습니다.\n",
    "- 변수는 값을 저장하기 위한 임시적인 공간이며, 객체는 상태와 동작을 포함하는 데이터 구조입니다.\n",
    "- 값은 프로그램의 실행 동안 변경될 수 있고, 연산이나 조작에 사용됩니다.\n",
    "\n",
    "### 주소 저장:\n",
    "\n",
    "- 주소는 메모리 상의 위치를 식별하는 데 사용됩니다.\n",
    "- 변수나 객체의 주소는 해당 값이 저장된 메모리 위치를 가리킵니다.\n",
    "- 주소를 사용하여 변수나 객체를 찾아가서 해당 값에 접근하거나 변경할 수 있습니다."
   ]
  },
  {
   "cell_type": "code",
   "execution_count": null,
   "id": "2b0505c3",
   "metadata": {},
   "outputs": [],
   "source": []
  },
  {
   "cell_type": "code",
   "execution_count": null,
   "id": "443341c8",
   "metadata": {},
   "outputs": [],
   "source": []
  },
  {
   "cell_type": "markdown",
   "id": "4dadbbb3",
   "metadata": {},
   "source": [
    "# 4. 변수의 타입 알아보기"
   ]
  },
  {
   "cell_type": "code",
   "execution_count": null,
   "id": "b190fa2c",
   "metadata": {},
   "outputs": [],
   "source": []
  },
  {
   "cell_type": "code",
   "execution_count": null,
   "id": "0ae74844",
   "metadata": {},
   "outputs": [],
   "source": []
  },
  {
   "cell_type": "code",
   "execution_count": null,
   "id": "37a6e95b",
   "metadata": {},
   "outputs": [],
   "source": []
  },
  {
   "cell_type": "code",
   "execution_count": null,
   "id": "087ba62d",
   "metadata": {},
   "outputs": [],
   "source": [
    "\n"
   ]
  },
  {
   "cell_type": "code",
   "execution_count": null,
   "id": "96664f98",
   "metadata": {},
   "outputs": [],
   "source": []
  }
 ],
 "metadata": {
  "kernelspec": {
   "display_name": "Rust",
   "language": "rust",
   "name": "rust"
  },
  "language_info": {
   "codemirror_mode": "rust",
   "file_extension": ".rs",
   "mimetype": "text/rust",
   "name": "Rust",
   "pygment_lexer": "rust",
   "version": ""
  }
 },
 "nbformat": 4,
 "nbformat_minor": 5
}
